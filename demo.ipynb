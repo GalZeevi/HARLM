{
 "cells": [
  {
   "cell_type": "markdown",
   "source": [
    "## Demo"
   ],
   "metadata": {
    "collapsed": false
   }
  },
  {
   "cell_type": "code",
   "execution_count": 5,
   "outputs": [],
   "source": [
    "%load_ext autoreload\n",
    "%autoreload 2"
   ],
   "metadata": {
    "collapsed": false
   }
  },
  {
   "cell_type": "code",
   "execution_count": 6,
   "outputs": [
    {
     "data": {
      "text/plain": "        bikeid           start_time  duration_minutes  \\\n0            8  2015-03-19 19:12:00                41   \n1          468  2016-03-21 21:17:48                 7   \n2          107  2016-05-29 13:09:31                35   \n3          428  2016-02-20 14:40:49                12   \n4          572  2015-07-09 16:12:00                 4   \n...        ...                  ...               ...   \n614423     183  2017-07-11 18:56:51                43   \n614424     849  2017-07-13 06:02:13                 5   \n614425     209  2017-07-31 11:20:23                31   \n614426    2048  2017-07-21 06:08:30                 5   \n614427     452  2017-07-31 11:19:48                32   \n\n             start_station_name         end_station_name  start_latitude  \\\n0              Waller & 6th St.     Trinity & 6th Street        30.26461   \n1              Waller & 6th St.     Trinity & 6th Street        30.26461   \n2              Waller & 6th St.     Trinity & 6th Street        30.26461   \n3              Waller & 6th St.     Trinity & 6th Street        30.26461   \n4              Waller & 6th St.     Trinity & 6th Street        30.26461   \n...                         ...                      ...             ...   \n614423  Congress & Cesar Chavez  Congress & Cesar Chavez        30.26332   \n614424  Congress & Cesar Chavez           Boardwalk West        30.26332   \n614425  Congress & Cesar Chavez           Boardwalk West        30.26332   \n614426  Congress & Cesar Chavez           Boardwalk West        30.26332   \n614427  Congress & Cesar Chavez           Boardwalk West        30.26332   \n\n        start_longitude  end_latitude  end_longitude  \n0             -97.73049      30.26735      -97.73933  \n1             -97.73049      30.26735      -97.73933  \n2             -97.73049      30.26735      -97.73933  \n3             -97.73049      30.26735      -97.73933  \n4             -97.73049      30.26735      -97.73933  \n...                 ...           ...            ...  \n614423        -97.74508      30.26332      -97.74508  \n614424        -97.74508      30.25457      -97.74258  \n614425        -97.74508      30.25457      -97.74258  \n614426        -97.74508      30.25457      -97.74258  \n614427        -97.74508      30.25457      -97.74258  \n\n[614428 rows x 9 columns]",
      "text/html": "<div>\n<style scoped>\n    .dataframe tbody tr th:only-of-type {\n        vertical-align: middle;\n    }\n\n    .dataframe tbody tr th {\n        vertical-align: top;\n    }\n\n    .dataframe thead th {\n        text-align: right;\n    }\n</style>\n<table border=\"1\" class=\"dataframe\">\n  <thead>\n    <tr style=\"text-align: right;\">\n      <th></th>\n      <th>bikeid</th>\n      <th>start_time</th>\n      <th>duration_minutes</th>\n      <th>start_station_name</th>\n      <th>end_station_name</th>\n      <th>start_latitude</th>\n      <th>start_longitude</th>\n      <th>end_latitude</th>\n      <th>end_longitude</th>\n    </tr>\n  </thead>\n  <tbody>\n    <tr>\n      <th>0</th>\n      <td>8</td>\n      <td>2015-03-19 19:12:00</td>\n      <td>41</td>\n      <td>Waller &amp; 6th St.</td>\n      <td>Trinity &amp; 6th Street</td>\n      <td>30.26461</td>\n      <td>-97.73049</td>\n      <td>30.26735</td>\n      <td>-97.73933</td>\n    </tr>\n    <tr>\n      <th>1</th>\n      <td>468</td>\n      <td>2016-03-21 21:17:48</td>\n      <td>7</td>\n      <td>Waller &amp; 6th St.</td>\n      <td>Trinity &amp; 6th Street</td>\n      <td>30.26461</td>\n      <td>-97.73049</td>\n      <td>30.26735</td>\n      <td>-97.73933</td>\n    </tr>\n    <tr>\n      <th>2</th>\n      <td>107</td>\n      <td>2016-05-29 13:09:31</td>\n      <td>35</td>\n      <td>Waller &amp; 6th St.</td>\n      <td>Trinity &amp; 6th Street</td>\n      <td>30.26461</td>\n      <td>-97.73049</td>\n      <td>30.26735</td>\n      <td>-97.73933</td>\n    </tr>\n    <tr>\n      <th>3</th>\n      <td>428</td>\n      <td>2016-02-20 14:40:49</td>\n      <td>12</td>\n      <td>Waller &amp; 6th St.</td>\n      <td>Trinity &amp; 6th Street</td>\n      <td>30.26461</td>\n      <td>-97.73049</td>\n      <td>30.26735</td>\n      <td>-97.73933</td>\n    </tr>\n    <tr>\n      <th>4</th>\n      <td>572</td>\n      <td>2015-07-09 16:12:00</td>\n      <td>4</td>\n      <td>Waller &amp; 6th St.</td>\n      <td>Trinity &amp; 6th Street</td>\n      <td>30.26461</td>\n      <td>-97.73049</td>\n      <td>30.26735</td>\n      <td>-97.73933</td>\n    </tr>\n    <tr>\n      <th>...</th>\n      <td>...</td>\n      <td>...</td>\n      <td>...</td>\n      <td>...</td>\n      <td>...</td>\n      <td>...</td>\n      <td>...</td>\n      <td>...</td>\n      <td>...</td>\n    </tr>\n    <tr>\n      <th>614423</th>\n      <td>183</td>\n      <td>2017-07-11 18:56:51</td>\n      <td>43</td>\n      <td>Congress &amp; Cesar Chavez</td>\n      <td>Congress &amp; Cesar Chavez</td>\n      <td>30.26332</td>\n      <td>-97.74508</td>\n      <td>30.26332</td>\n      <td>-97.74508</td>\n    </tr>\n    <tr>\n      <th>614424</th>\n      <td>849</td>\n      <td>2017-07-13 06:02:13</td>\n      <td>5</td>\n      <td>Congress &amp; Cesar Chavez</td>\n      <td>Boardwalk West</td>\n      <td>30.26332</td>\n      <td>-97.74508</td>\n      <td>30.25457</td>\n      <td>-97.74258</td>\n    </tr>\n    <tr>\n      <th>614425</th>\n      <td>209</td>\n      <td>2017-07-31 11:20:23</td>\n      <td>31</td>\n      <td>Congress &amp; Cesar Chavez</td>\n      <td>Boardwalk West</td>\n      <td>30.26332</td>\n      <td>-97.74508</td>\n      <td>30.25457</td>\n      <td>-97.74258</td>\n    </tr>\n    <tr>\n      <th>614426</th>\n      <td>2048</td>\n      <td>2017-07-21 06:08:30</td>\n      <td>5</td>\n      <td>Congress &amp; Cesar Chavez</td>\n      <td>Boardwalk West</td>\n      <td>30.26332</td>\n      <td>-97.74508</td>\n      <td>30.25457</td>\n      <td>-97.74258</td>\n    </tr>\n    <tr>\n      <th>614427</th>\n      <td>452</td>\n      <td>2017-07-31 11:19:48</td>\n      <td>32</td>\n      <td>Congress &amp; Cesar Chavez</td>\n      <td>Boardwalk West</td>\n      <td>30.26332</td>\n      <td>-97.74508</td>\n      <td>30.25457</td>\n      <td>-97.74258</td>\n    </tr>\n  </tbody>\n</table>\n<p>614428 rows × 9 columns</p>\n</div>"
     },
     "execution_count": 6,
     "metadata": {},
     "output_type": "execute_result"
    }
   ],
   "source": [
    "import pandas as pd\n",
    "\n",
    "bikes = pd.read_csv('./datasets/austin_bikes_final.csv')\n",
    "bikes"
   ],
   "metadata": {
    "collapsed": false
   }
  },
  {
   "cell_type": "code",
   "execution_count": 7,
   "outputs": [
    {
     "name": "stdout",
     "output_type": "stream",
     "text": [
      "============ starting iteration 1   ============\n",
      "Created query:\n",
      "SELECT _id FROM public.austin_bikes_1000 WHERE duration_minutes BETWEEN 477.9264641429193 AND 504.2417740640721 AND start_latitude BETWEEN 30.249567428173478 AND 30.272865299773947\n",
      "iteration took: 0.00 ms\n",
      "============ starting iteration 2   ============\n",
      "Created query:\n",
      "SELECT _id FROM public.austin_bikes_1000 WHERE end_longitude BETWEEN -97.7483069147178 AND -97.71174853486328 AND start_station_name IN ('State Capitol Visitors Garage @ San Jacinto & 12th' , 'ACC - West & 12th Street' , 'State Capitol @ 14th & Colorado' , 'Guadalupe & 6th' , 'Bullock Museum @ Congress & MLK' , '5th & San Marcos' , '2nd & Congress' , 'Barton Springs & Riverside' , 'MoPac Pedestrian Bridge @ Veterans Drive' , '6th & Congress' , '4th & Congress' , 'Riverside @ S. Lamar' , 'Nueces & 3rd' , 'Lavaca & 6th' , 'City Hall / Lavaca & 2nd' , '13th & San Antonio') AND bikeid BETWEEN 83.3154460111773 AND 1903.7693068474575\n",
      "iteration took: 0.00 ms\n",
      "============ starting iteration 3   ============\n",
      "Created query:\n",
      "SELECT _id FROM public.austin_bikes_1000 WHERE bikeid BETWEEN 284.34691262562507 AND 2059.7725181029728 AND duration_minutes BETWEEN 45.4297233071465 AND 368.2382090111504 AND start_latitude BETWEEN 30.254888728779004 AND 30.26431709889849\n",
      "iteration took: 0.00 ms\n",
      "============ starting iteration 4   ============\n",
      "Created query:\n",
      "SELECT _id FROM public.austin_bikes_1000 WHERE end_latitude BETWEEN 30.259253391127093 AND 30.2783529461868\n",
      "iteration took: 0.00 ms\n",
      "============ starting iteration 5   ============\n",
      "Created query:\n",
      "SELECT _id FROM public.austin_bikes_1000 WHERE duration_minutes BETWEEN 263.63039728063245 AND 897.9036292429778\n",
      "iteration took: 0.00 ms\n",
      "============ starting iteration 6   ============\n",
      "Created query:\n",
      "SELECT _id FROM public.austin_bikes_1000 WHERE bikeid BETWEEN 336.21373354936964 AND 1748.44800562499 AND start_longitude BETWEEN -97.73153179836169 AND -97.7206935878769 AND end_station_name IN ('8th & Congress' , 'Waller & 6th St.' , 'East 6th & Pedernales St.' , 'Pease Park' , 'State Capitol @ 14th & Colorado' , '11th & San Jacinto' , 'Barton Springs & Riverside' , 'East 11th St. & San Marcos' , 'Bullock Museum @ Congress & MLK' , 'Capitol Station / Congress & 11th' , 'Palmer Auditorium' , '6th & Navasota St.' , 'Riverside @ S. Lamar' , '5th & Bowie' , 'Convention Center / 4th St. @ MetroRail' , 'South Congress & Elizabeth' , 'Convention Center / 3rd & Trinity' , '2nd & Congress' , '6th & Congress' , 'East 7th & Pleasant Valley' , '5th & San Marcos' , 'State Capitol Visitors Garage @ San Jacinto & 12th' , 'East 2nd & Pedernales' , 'MoPac Pedestrian Bridge @ Veterans Drive')\n",
      "iteration took: 0.00 ms\n",
      "============ starting iteration 7   ============\n",
      "Created query:\n",
      "SELECT _id FROM public.austin_bikes_1000 WHERE bikeid BETWEEN 904.5882851616263 AND 1411.8410687345236 AND start_longitude BETWEEN -97.75912526269042 AND -97.73408955081776 AND start_latitude BETWEEN 30.264866745267106 AND 30.28448706078493\n",
      "iteration took: 0.00 ms\n",
      "============ starting iteration 8   ============\n",
      "Created query:\n",
      "SELECT _id FROM public.austin_bikes_1000 WHERE start_longitude BETWEEN -97.75531124929208 AND -97.75304814071586 AND bikeid BETWEEN 1456.864326588265 AND 1577.5779090846333 AND end_latitude BETWEEN 30.28137506638156 AND 30.285190341160426\n",
      "iteration took: 0.00 ms\n",
      "============ starting iteration 9   ============\n",
      "Created query:\n",
      "SELECT _id FROM public.austin_bikes_1000 WHERE end_station_name IN ('East 6th at Robert Martinez' , 'State Parking Garage @ Brazos & 18th' , '8th & Congress' , 'Lavaca & 6th' , 'Nueces & 3rd' , '11th & San Jacinto' , 'Guadalupe & 6th' , 'Zilker Park' , 'Nueces @ 3rd' , 'Rainey St @ Cummings' , 'East 11th St. & San Marcos' , 'Davis at Rainey Street' , 'East 11th St. at Victory Grill' , 'Long Center @ South 1st & Riverside' , 'ACC - Rio Grande & 12th' , 'Waller & 6th St.' , '6th & Congress' , 'Riverside @ S. Lamar' , 'East 6th & Pedernales St.' , '13th & San Antonio' , 'Capitol Station / Congress & 11th' , 'Pease Park' , 'Boardwalk West' , 'Capital Metro HQ - East 5th at Broadway' , 'South Congress & Elizabeth' , 'City Hall / Lavaca & 2nd' , 'South Congress & James' , 'Barton Springs & Riverside' , 'Zilker Park West' , '5th & San Marcos' , 'Republic Square @ Federal Courthouse Plaza' , 'Convention Center / 3rd & Trinity') AND start_latitude BETWEEN 30.263511940250787 AND 30.273165253345205\n",
      "iteration took: 0.00 ms\n",
      "============ starting iteration 10   ============\n",
      "Created query:\n",
      "SELECT _id FROM public.austin_bikes_1000 WHERE end_station_name IN ('Medina & East 6th' , 'East 11th St. at Victory Grill' , 'East 6th & Pedernales St.' , 'Nueces @ 3rd' , 'South Congress & Elizabeth' , 'Waller & 6th St.' , 'ACC - Rio Grande & 12th' , 'South Congress & Barton Springs at the Austin American-Statesman' , 'Capital Metro HQ - East 5th at Broadway' , '2nd & Congress' , 'Barton Springs & Riverside' , 'San Jacinto & 8th Street' , 'Guadalupe & 21st' , 'Rainey St @ Cummings' , 'Boardwalk West' , 'Barton Springs @ Kinney Ave' , 'State Parking Garage @ Brazos & 18th' , 'West & 6th St.' , 'East 4th & Chicon' , '11th & San Jacinto' , 'Capitol Station / Congress & 11th' , 'Convention Center / 3rd & Trinity' , '5th & Bowie' , 'South Congress & James' , 'Bullock Museum @ Congress & MLK' , '13th & San Antonio') AND start_longitude BETWEEN -97.73960964714477 AND -97.71024877211073\n",
      "iteration took: 15.74 ms\n",
      "============ starting iteration 11   ============\n",
      "Created query:\n",
      "SELECT _id FROM public.austin_bikes_1000 WHERE duration_minutes BETWEEN 61.389302074650665 AND 156.59542727123844 AND end_longitude BETWEEN -97.75329372580254 AND -97.7522353189017 AND start_longitude BETWEEN -97.7171504212201 AND -97.71299980548649\n",
      "iteration took: 0.00 ms\n",
      "============ starting iteration 12   ============\n",
      "Created query:\n",
      "SELECT _id FROM public.austin_bikes_1000 WHERE end_latitude BETWEEN 30.276087334731912 AND 30.284420387176453 AND end_longitude BETWEEN -97.73516307617145 AND -97.72672364376862\n",
      "iteration took: 0.00 ms\n",
      "============ starting iteration 13   ============\n",
      "Created query:\n",
      "SELECT _id FROM public.austin_bikes_1000 WHERE start_station_name IN ('Palmer Auditorium')\n",
      "iteration took: 0.00 ms\n",
      "============ starting iteration 14   ============\n",
      "Created query:\n",
      "SELECT _id FROM public.austin_bikes_1000 WHERE end_longitude BETWEEN -97.76211281939487 AND -97.75953208853174\n",
      "iteration took: 0.00 ms\n",
      "============ starting iteration 15   ============\n",
      "Created query:\n",
      "SELECT _id FROM public.austin_bikes_1000 WHERE start_station_name IN ('Republic Square @ Guadalupe & 4th St.' , 'ACC - West & 12th Street' , '5th & San Marcos' , 'Boardwalk West' , 'South Congress & Barton Springs at the Austin American-Statesman' , 'UT West Mall @ Guadalupe' , 'Convention Center / 4th St. @ MetroRail' , 'San Jacinto & 8th Street' , 'State Capitol Visitors Garage @ San Jacinto & 12th' , 'South Congress & James' , 'Guadalupe & 21st' , 'Bullock Museum @ Congress & MLK' , 'City Hall / Lavaca & 2nd' , 'East 11th St. & San Marcos' , 'ACC - Rio Grande & 12th' , 'Long Center @ South 1st & Riverside' , 'East 11th St. at Victory Grill' , 'South Congress & Elizabeth' , 'Guadalupe & 6th' , 'Lavaca & 6th' , 'Plaza Saltillo' , '8th & Congress' , 'Convention Center / 3rd & Trinity' , 'Nueces & 3rd' , 'Barton Springs & Riverside' , '5th & Bowie' , 'Zilker Park West' , 'Davis at Rainey Street' , 'Pfluger Bridge @ W 2nd Street' , 'East 6th & Pedernales St.' , 'Toomey Rd @ South Lamar' , 'Red River & 8th Street' , 'East 2nd & Pedernales' , 'Capital Metro HQ - East 5th at Broadway' , 'Waller & 6th St.' , '17th & Guadalupe' , 'State Parking Garage @ Brazos & 18th' , 'West & 6th St.' , '3rd & West' , 'MoPac Pedestrian Bridge @ Veterans Drive' , 'Riverside @ S. Lamar' , 'East 4th & Chicon' , 'State Capitol @ 14th & Colorado' , '6th & Navasota St.' , 'South Congress & Academy' , 'Rainey St @ Cummings' , 'Barton Springs @ Kinney Ave' , 'Rainey @ River St' , 'Brazos & 6th' , '6th & Congress' , 'East 6th at Robert Martinez' , 'Trinity & 6th Street' , 'Nueces @ 3rd' , 'Palmer Auditorium' , 'Pease Park' , 'Zilker Park' , 'Republic Square @ Federal Courthouse Plaza' , 'Medina & East 6th' , '4th & Congress' , 'Republic Square' , '13th & San Antonio' , '11th & San Jacinto' , 'Capitol Station / Congress & 11th' , '2nd & Congress')\n",
      "iteration took: 0.00 ms\n",
      "============ starting iteration 16   ============\n",
      "Created query:\n",
      "SELECT _id FROM public.austin_bikes_1000 WHERE end_station_name IN ('Trinity & 6th Street' , 'Capitol Station / Congress & 11th' , 'South Congress & James' , 'UT West Mall @ Guadalupe' , 'Rainey @ River St' , 'ACC - Rio Grande & 12th' , 'East 2nd & Pedernales' , '5th & San Marcos' , '6th & Navasota St.' , '5th & Bowie' , 'Zilker Park' , 'State Capitol @ 14th & Colorado' , 'Guadalupe & 6th' , 'Barton Springs & Riverside' , 'State Parking Garage @ Brazos & 18th' , 'Republic Square @ Guadalupe & 4th St.' , 'Barton Springs Pool' , 'East 11th St. & San Marcos' , '17th & Guadalupe' , 'Convention Center / 3rd & Trinity' , 'Palmer Auditorium' , 'West & 6th St.' , 'East 6th at Robert Martinez') AND end_latitude BETWEEN 30.267620175243604 AND 30.28561989609747\n",
      "iteration took: 0.00 ms\n",
      "============ starting iteration 17   ============\n",
      "Created query:\n",
      "SELECT _id FROM public.austin_bikes_1000 WHERE start_longitude BETWEEN -97.7513260078718 AND -97.74641903675827 AND start_latitude BETWEEN 30.252735491518063 AND 30.265177952833827 AND end_longitude BETWEEN -97.73797129215788 AND -97.71960615520119\n",
      "iteration took: 0.00 ms\n",
      "============ starting iteration 18   ============\n",
      "Created query:\n",
      "SELECT _id FROM public.austin_bikes_1000 WHERE start_latitude BETWEEN 30.261012208374872 AND 30.284361067374377 AND bikeid BETWEEN 1603.0849197411717 AND 2364.7673726827957\n",
      "iteration took: 0.00 ms\n",
      "============ starting iteration 19   ============\n",
      "Created query:\n",
      "SELECT _id FROM public.austin_bikes_1000 WHERE start_longitude BETWEEN -97.76844481923973 AND -97.72341077607611 AND start_station_name IN ('Waller & 6th St.' , '6th & Navasota St.' , '11th & San Jacinto' , 'South Congress & Academy' , 'Palmer Auditorium' , 'East 11th St. at Victory Grill' , 'MoPac Pedestrian Bridge @ Veterans Drive' , '17th & Guadalupe' , 'Barton Springs @ Kinney Ave' , 'City Hall / Lavaca & 2nd' , 'Bullock Museum @ Congress & MLK' , 'State Capitol @ 14th & Colorado' , 'ACC - West & 12th Street' , 'East 2nd & Pedernales') AND end_longitude BETWEEN -97.7487166242223 AND -97.73712926867479\n",
      "iteration took: 0.00 ms\n",
      "============ starting iteration 20   ============\n",
      "Created query:\n",
      "SELECT _id FROM public.austin_bikes_1000 WHERE start_longitude BETWEEN -97.7509671179983 AND -97.71411422046292\n",
      "iteration took: 15.68 ms\n",
      "============ starting iteration 21   ============\n",
      "Created query:\n",
      "SELECT _id FROM public.austin_bikes_1000 WHERE end_longitude BETWEEN -97.73571372000204 AND -97.72124739947344\n",
      "iteration took: 0.00 ms\n",
      "============ starting iteration 22   ============\n",
      "Created query:\n",
      "SELECT _id FROM public.austin_bikes_1000 WHERE bikeid BETWEEN 1807.1695131200113 AND 2326.9190529098614\n",
      "iteration took: 0.00 ms\n",
      "============ starting iteration 23   ============\n",
      "Created query:\n",
      "SELECT _id FROM public.austin_bikes_1000 WHERE start_longitude BETWEEN -97.74129794476828 AND -97.7249011718166 AND end_station_name IN ('Toomey Rd @ South Lamar' , 'Capitol Station / Congress & 11th' , 'Red River & 8th Street' , 'State Capitol @ 14th & Colorado' , 'East 4th & Chicon' , 'Lavaca & 6th' , '5th & Bowie' , 'East 6th at Robert Martinez' , 'South Congress & James' , 'Barton Springs Pool' , '6th & Navasota St.' , 'Bullock Museum @ Congress & MLK' , 'Convention Center / 4th St. @ MetroRail' , 'Rainey @ River St' , 'MoPac Pedestrian Bridge @ Veterans Drive' , 'Nueces @ 3rd' , 'Brazos & 6th' , 'Palmer Auditorium' , 'East 11th St. & San Marcos' , 'West & 6th St.' , 'East 6th & Pedernales St.' , 'Convention Center / 3rd & Trinity' , 'Pease Park' , 'Trinity & 6th Street' , '13th & San Antonio' , '3rd & West' , 'San Jacinto & 8th Street' , 'Capital Metro HQ - East 5th at Broadway' , '4th & Congress' , 'Pfluger Bridge @ W 2nd Street' , 'Rainey St @ Cummings' , 'State Parking Garage @ Brazos & 18th' , 'South Congress & Elizabeth' , '2nd & Congress' , 'Riverside @ S. Lamar' , 'South Congress & Barton Springs at the Austin American-Statesman' , 'Waller & 6th St.' , 'Long Center @ South 1st & Riverside' , 'East 11th St. at Victory Grill' , '5th & San Marcos' , 'State Capitol Visitors Garage @ San Jacinto & 12th' , 'Republic Square @ Federal Courthouse Plaza' , '6th & Congress' , '11th & San Jacinto' , 'Zilker Park West' , 'Medina & East 6th' , '8th & Congress' , 'Boardwalk West' , 'Guadalupe & 6th') AND start_station_name IN ('ACC - Rio Grande & 12th' , 'Convention Center / 3rd & Trinity' , 'Republic Square @ Federal Courthouse Plaza' , 'Barton Springs Pool' , '5th & San Marcos' , 'Plaza Saltillo' , 'Barton Springs & Riverside' , 'Boardwalk West' , 'Brazos & 6th' , 'Rainey St @ Cummings' , 'San Jacinto & 8th Street' , '5th & Bowie' , 'Lavaca & 6th' , 'Toomey Rd @ South Lamar' , 'Pease Park' , 'Republic Square' , 'ACC - West & 12th Street' , 'South Congress & Academy' , 'Davis at Rainey Street' , 'East 4th & Chicon' , '4th & Congress' , '8th & Congress' , 'State Parking Garage @ Brazos & 18th' , 'East 6th & Pedernales St.' , 'Capital Metro HQ - East 5th at Broadway' , 'Zilker Park West' , 'Riverside @ S. Lamar' , '13th & San Antonio' , 'Medina & East 6th' , '11th & San Jacinto' , 'Convention Center / 4th St. @ MetroRail' , 'Palmer Auditorium' , 'MoPac Pedestrian Bridge @ Veterans Drive' , 'West & 6th St.' , 'East 11th St. at Victory Grill' , 'Rainey @ River St' , 'East 11th St. & San Marcos' , 'Republic Square @ Guadalupe & 4th St.' , '6th & Navasota St.')\n",
      "iteration took: 0.00 ms\n",
      "============ starting iteration 24   ============\n",
      "Created query:\n",
      "SELECT _id FROM public.austin_bikes_1000 WHERE duration_minutes BETWEEN 728.5397623445543 AND 844.5367919832723\n",
      "iteration took: 0.00 ms\n",
      "============ starting iteration 25   ============\n",
      "Created query:\n",
      "SELECT _id FROM public.austin_bikes_1000 WHERE end_station_name IN ('East 11th St. at Victory Grill' , 'State Capitol Visitors Garage @ San Jacinto & 12th' , 'Palmer Auditorium' , 'Pease Park' , 'Toomey Rd @ South Lamar' , 'UT West Mall @ Guadalupe' , '5th & San Marcos' , 'East 2nd & Pedernales' , 'State Parking Garage @ Brazos & 18th' , 'East 6th at Robert Martinez' , '3rd & West' , 'South Congress & Academy' , 'Barton Springs Pool' , 'Barton Springs & Riverside' , 'West & 6th St.' , 'Riverside @ S. Lamar' , 'Nueces & 3rd' , 'City Hall / Lavaca & 2nd' , 'Republic Square @ Federal Courthouse Plaza' , 'Plaza Saltillo' , '8th & Congress' , 'ACC - West & 12th Street' , '17th & Guadalupe' , 'Red River & 8th Street' , 'Boardwalk West' , '11th & San Jacinto' , 'East 7th & Pleasant Valley' , '5th & Bowie' , 'ACC - Rio Grande & 12th')\n",
      "iteration took: 0.00 ms\n",
      "============ starting iteration 26   ============\n",
      "Created query:\n",
      "SELECT _id FROM public.austin_bikes_1000 WHERE end_longitude BETWEEN -97.75921716045669 AND -97.7210922757966 AND end_latitude BETWEEN 30.26303364961059 AND 30.278711396618128\n",
      "iteration took: 0.00 ms\n",
      "============ starting iteration 27   ============\n",
      "Created query:\n",
      "SELECT _id FROM public.austin_bikes_1000 WHERE bikeid BETWEEN 2105.962080761729 AND 2234.478541119917 AND start_latitude BETWEEN 30.265478874322977 AND 30.2692712040784\n",
      "iteration took: 0.00 ms\n",
      "============ starting iteration 28   ============\n",
      "Created query:\n",
      "SELECT _id FROM public.austin_bikes_1000 WHERE start_longitude BETWEEN -97.71884603185565 AND -97.71383509169699\n",
      "iteration took: 0.00 ms\n",
      "============ starting iteration 29   ============\n",
      "Created query:\n",
      "SELECT _id FROM public.austin_bikes_1000 WHERE duration_minutes BETWEEN 764.2717649082118 AND 837.2304437389055\n",
      "iteration took: 0.00 ms\n",
      "============ starting iteration 30   ============\n",
      "Created query:\n",
      "SELECT _id FROM public.austin_bikes_1000 WHERE start_latitude BETWEEN 30.26594559660381 AND 30.274904089169006 AND end_station_name IN ('Medina & East 6th' , '6th & Navasota St.' , 'UT West Mall @ Guadalupe' , '3rd & West' , 'South Congress & Elizabeth' , 'MoPac Pedestrian Bridge @ Veterans Drive' , 'Brazos & 6th' , 'Red River & 8th Street' , 'Barton Springs & Riverside' , 'Zilker Park' , 'Waller & 6th St.' , 'East 7th & Pleasant Valley' , 'Guadalupe & 21st' , 'East 6th & Pedernales St.' , '17th & Guadalupe' , '11th & San Jacinto' , 'Plaza Saltillo' , 'San Jacinto & 8th Street' , 'Rainey @ River St' , 'Republic Square @ Federal Courthouse Plaza' , 'Lavaca & 6th' , 'Capital Metro HQ - East 5th at Broadway' , 'Palmer Auditorium' , 'Guadalupe & 6th' , 'Convention Center / 3rd & Trinity' , '6th & Congress' , 'Riverside @ S. Lamar' , 'Barton Springs Pool' , 'South Congress & Barton Springs at the Austin American-Statesman' , 'East 4th & Chicon' , 'South Congress & Academy' , 'Zilker Park West' , 'Pfluger Bridge @ W 2nd Street' , 'ACC - Rio Grande & 12th' , 'Barton Springs @ Kinney Ave' , 'Nueces & 3rd' , 'Capitol Station / Congress & 11th' , 'Trinity & 6th Street' , 'Boardwalk West' , 'State Parking Garage @ Brazos & 18th' , '5th & Bowie' , 'Convention Center / 4th St. @ MetroRail') AND end_longitude BETWEEN -97.7558095227046 AND -97.7366939257309\n",
      "iteration took: 0.00 ms\n"
     ]
    }
   ],
   "source": [
    "from jaccard_workload_approximator import JaccardWorkloadApproximator\n",
    "\n",
    "workload_approximator = JaccardWorkloadApproximator()\n",
    "workload = workload_approximator.get_workload_approximation(30)"
   ],
   "metadata": {
    "collapsed": false
   }
  },
  {
   "cell_type": "code",
   "execution_count": 8,
   "outputs": [
    {
     "name": "stdout",
     "output_type": "stream",
     "text": [
      "Start running LazyGreedy with type UC\n",
      "============ starting iteration 1   ============\n",
      "iteration took: 95.04 ms\n",
      "============ starting iteration 2   ============\n",
      "iteration took: 344.72 ms\n",
      "============ starting iteration 3   ============\n",
      "iteration took: 403.19 ms\n",
      "============ starting iteration 4   ============\n",
      "iteration took: 405.10 ms\n",
      "============ starting iteration 5   ============\n",
      "iteration took: 487.55 ms\n",
      "============ starting iteration 6   ============\n",
      "iteration took: 522.08 ms\n",
      "============ starting iteration 7   ============\n",
      "iteration took: 570.15 ms\n",
      "============ starting iteration 8   ============\n",
      "iteration took: 612.88 ms\n",
      "============ starting iteration 9   ============\n",
      "iteration took: 663.93 ms\n",
      "============ starting iteration 10   ============\n",
      "iteration took: 699.29 ms\n",
      "============ starting iteration 11   ============\n",
      "iteration took: 691.14 ms\n",
      "============ starting iteration 12   ============\n",
      "iteration took: 724.34 ms\n",
      "============ starting iteration 13   ============\n",
      "iteration took: 875.00 ms\n",
      "============ starting iteration 14   ============\n",
      "iteration took: 923.02 ms\n",
      "============ starting iteration 15   ============\n",
      "iteration took: 755.07 ms\n",
      "============ starting iteration 16   ============\n",
      "iteration took: 730.95 ms\n",
      "============ starting iteration 17   ============\n",
      "iteration took: 801.38 ms\n",
      "============ starting iteration 18   ============\n",
      "iteration took: 777.34 ms\n",
      "============ starting iteration 19   ============\n",
      "iteration took: 756.29 ms\n",
      "============ starting iteration 20   ============\n",
      "iteration took: 708.79 ms\n",
      "============ starting iteration 21   ============\n",
      "iteration took: 831.99 ms\n",
      "============ starting iteration 22   ============\n",
      "iteration took: 897.11 ms\n",
      "============ starting iteration 23   ============\n",
      "iteration took: 876.13 ms\n",
      "============ starting iteration 24   ============\n",
      "iteration took: 960.92 ms\n",
      "============ starting iteration 25   ============\n",
      "iteration took: 936.73 ms\n",
      "============ starting iteration 26   ============\n",
      "iteration took: 969.62 ms\n",
      "============ starting iteration 27   ============\n",
      "iteration took: 1053.33 ms\n",
      "============ starting iteration 28   ============\n",
      "iteration took: 949.47 ms\n",
      "============ starting iteration 29   ============\n",
      "iteration took: 1102.77 ms\n",
      "============ starting iteration 30   ============\n",
      "iteration took: 996.84 ms\n",
      "============ starting iteration 31   ============\n",
      "iteration took: 0.00 ms\n",
      "LazyGreedy with type UC finished after 31 iterations\n",
      "algorithm took: 22124.12 ms\n",
      "Start running LazyGreedy with type CB\n",
      "============ starting iteration 1   ============\n",
      "iteration took: 78.12 ms\n",
      "============ starting iteration 2   ============\n",
      "iteration took: 161.40 ms\n",
      "============ starting iteration 3   ============\n",
      "iteration took: 194.34 ms\n",
      "============ starting iteration 4   ============\n",
      "iteration took: 234.35 ms\n",
      "============ starting iteration 5   ============\n",
      "iteration took: 278.54 ms\n",
      "============ starting iteration 6   ============\n",
      "iteration took: 304.17 ms\n",
      "============ starting iteration 7   ============\n",
      "iteration took: 302.98 ms\n",
      "============ starting iteration 8   ============\n",
      "iteration took: 364.97 ms\n",
      "============ starting iteration 9   ============\n",
      "iteration took: 374.99 ms\n",
      "============ starting iteration 10   ============\n",
      "iteration took: 471.46 ms\n",
      "============ starting iteration 11   ============\n",
      "iteration took: 463.30 ms\n",
      "============ starting iteration 12   ============\n",
      "iteration took: 516.66 ms\n",
      "============ starting iteration 13   ============\n",
      "iteration took: 517.50 ms\n",
      "============ starting iteration 14   ============\n",
      "iteration took: 565.44 ms\n",
      "============ starting iteration 15   ============\n",
      "iteration took: 625.32 ms\n",
      "============ starting iteration 16   ============\n",
      "iteration took: 628.21 ms\n",
      "============ starting iteration 17   ============\n",
      "iteration took: 620.21 ms\n",
      "============ starting iteration 18   ============\n",
      "iteration took: 789.60 ms\n",
      "============ starting iteration 19   ============\n",
      "iteration took: 715.28 ms\n",
      "============ starting iteration 20   ============\n",
      "iteration took: 727.00 ms\n",
      "============ starting iteration 21   ============\n",
      "iteration took: 875.55 ms\n",
      "============ starting iteration 22   ============\n",
      "iteration took: 763.73 ms\n",
      "============ starting iteration 23   ============\n",
      "iteration took: 846.98 ms\n",
      "============ starting iteration 24   ============\n",
      "iteration took: 898.26 ms\n",
      "============ starting iteration 25   ============\n",
      "iteration took: 951.19 ms\n",
      "============ starting iteration 26   ============\n",
      "iteration took: 957.65 ms\n",
      "============ starting iteration 27   ============\n",
      "iteration took: 994.07 ms\n",
      "============ starting iteration 28   ============\n",
      "iteration took: 953.51 ms\n",
      "============ starting iteration 29   ============\n",
      "iteration took: 1006.13 ms\n",
      "============ starting iteration 30   ============\n",
      "iteration took: 1111.48 ms\n",
      "============ starting iteration 31   ============\n",
      "iteration took: 0.00 ms\n",
      "LazyGreedy with type CB finished after 31 iterations\n",
      "algorithm took: 18292.39 ms\n"
     ]
    },
    {
     "data": {
      "text/plain": "[{'_id': 614429,\n  'bikeid': 693,\n  'start_time': datetime.datetime(2016, 3, 20, 19, 46, 36, tzinfo=psycopg2.tz.FixedOffsetTimezone(offset=120, name=None)),\n  'duration_minutes': 8,\n  'start_station_name': '5th & Bowie',\n  'end_station_name': '8th & Congress',\n  'start_latitude': 30.2696,\n  'start_longitude': -97.75332,\n  'end_latitude': 30.2698,\n  'end_longitude': -97.74186},\n {'_id': 614430,\n  'bikeid': 577,\n  'start_time': datetime.datetime(2016, 3, 1, 16, 7, 50, tzinfo=psycopg2.tz.FixedOffsetTimezone(offset=120, name=None)),\n  'duration_minutes': 11,\n  'start_station_name': 'Barton Springs @ Kinney Ave',\n  'end_station_name': '5th & Bowie',\n  'start_latitude': 30.262,\n  'start_longitude': -97.76118,\n  'end_latitude': 30.2696,\n  'end_longitude': -97.75332},\n {'_id': 614431,\n  'bikeid': 465,\n  'start_time': datetime.datetime(2016, 5, 5, 7, 29, 25, tzinfo=psycopg2.tz.FixedOffsetTimezone(offset=180, name=None)),\n  'duration_minutes': 13,\n  'start_station_name': 'South Congress & Academy',\n  'end_station_name': 'Capitol Station / Congress & 11th',\n  'start_latitude': 30.25226,\n  'start_longitude': -97.74854,\n  'end_latitude': 30.2726,\n  'end_longitude': -97.74127},\n {'_id': 614432,\n  'bikeid': 391,\n  'start_time': datetime.datetime(2014, 6, 28, 9, 12, tzinfo=psycopg2.tz.FixedOffsetTimezone(offset=180, name=None)),\n  'duration_minutes': 10,\n  'start_station_name': 'State Capitol Visitors Garage @ San Jacinto & 12th',\n  'end_station_name': '2nd & Congress',\n  'start_latitude': 30.27336,\n  'start_longitude': -97.73805,\n  'end_latitude': 30.26408,\n  'end_longitude': -97.74355},\n {'_id': 614433,\n  'bikeid': 970,\n  'start_time': datetime.datetime(2017, 5, 16, 17, 41, 7, tzinfo=psycopg2.tz.FixedOffsetTimezone(offset=180, name=None)),\n  'duration_minutes': 10,\n  'start_station_name': '6th & Congress',\n  'end_station_name': 'Davis at Rainey Street',\n  'start_latitude': 30.26822,\n  'start_longitude': -97.74285,\n  'end_latitude': 30.26019,\n  'end_longitude': -97.73845},\n {'_id': 614434,\n  'bikeid': 961,\n  'start_time': datetime.datetime(2014, 3, 28, 18, 12, tzinfo=psycopg2.tz.FixedOffsetTimezone(offset=180, name=None)),\n  'duration_minutes': 8,\n  'start_station_name': 'Capitol Station / Congress & 11th',\n  'end_station_name': 'City Hall / Lavaca & 2nd',\n  'start_latitude': 30.2726,\n  'start_longitude': -97.74127,\n  'end_latitude': 30.26476,\n  'end_longitude': -97.74678},\n {'_id': 614435,\n  'bikeid': 775,\n  'start_time': datetime.datetime(2015, 3, 14, 18, 12, tzinfo=psycopg2.tz.FixedOffsetTimezone(offset=120, name=None)),\n  'duration_minutes': 1,\n  'start_station_name': 'Barton Springs & Riverside',\n  'end_station_name': 'Barton Springs & Riverside',\n  'start_latitude': 30.2587,\n  'start_longitude': -97.74872,\n  'end_latitude': 30.2587,\n  'end_longitude': -97.74872},\n {'_id': 614436,\n  'bikeid': 668,\n  'start_time': datetime.datetime(2015, 3, 29, 9, 12, tzinfo=psycopg2.tz.FixedOffsetTimezone(offset=180, name=None)),\n  'duration_minutes': 28,\n  'start_station_name': 'Palmer Auditorium',\n  'end_station_name': '5th & Bowie',\n  'start_latitude': 30.25971,\n  'start_longitude': -97.75346,\n  'end_latitude': 30.2696,\n  'end_longitude': -97.75332},\n {'_id': 614437,\n  'bikeid': 8,\n  'start_time': datetime.datetime(2014, 10, 27, 16, 12, tzinfo=psycopg2.tz.FixedOffsetTimezone(offset=120, name=None)),\n  'duration_minutes': 3,\n  'start_station_name': 'San Jacinto & 8th Street',\n  'end_station_name': 'Convention Center / 4th St. @ MetroRail',\n  'start_latitude': 30.26912,\n  'start_longitude': -97.73986,\n  'end_latitude': 30.26483,\n  'end_longitude': -97.739},\n {'_id': 614438,\n  'bikeid': 37,\n  'start_time': datetime.datetime(2015, 10, 4, 17, 12, 16, tzinfo=psycopg2.tz.FixedOffsetTimezone(offset=180, name=None)),\n  'duration_minutes': 6,\n  'start_station_name': 'Barton Springs @ Kinney Ave',\n  'end_station_name': 'Zilker Park',\n  'start_latitude': 30.262,\n  'start_longitude': -97.76118,\n  'end_latitude': 30.2659,\n  'end_longitude': -97.76822},\n {'_id': 614439,\n  'bikeid': 850,\n  'start_time': datetime.datetime(2014, 8, 30, 11, 12, tzinfo=psycopg2.tz.FixedOffsetTimezone(offset=180, name=None)),\n  'duration_minutes': 7,\n  'start_station_name': 'Long Center @ South 1st & Riverside',\n  'end_station_name': '4th & Congress',\n  'start_latitude': 30.25941,\n  'start_longitude': -97.74971,\n  'end_latitude': 30.26634,\n  'end_longitude': -97.74378},\n {'_id': 614440,\n  'bikeid': 24,\n  'start_time': datetime.datetime(2016, 9, 30, 16, 18, 59, tzinfo=psycopg2.tz.FixedOffsetTimezone(offset=180, name=None)),\n  'duration_minutes': 24,\n  'start_station_name': '2nd & Congress',\n  'end_station_name': 'Zilker Park',\n  'start_latitude': 30.26408,\n  'start_longitude': -97.74355,\n  'end_latitude': 30.2659,\n  'end_longitude': -97.76822},\n {'_id': 614441,\n  'bikeid': 690,\n  'start_time': datetime.datetime(2015, 6, 29, 19, 12, tzinfo=psycopg2.tz.FixedOffsetTimezone(offset=180, name=None)),\n  'duration_minutes': 10,\n  'start_station_name': 'Rainey St @ Cummings',\n  'end_station_name': 'City Hall / Lavaca & 2nd',\n  'start_latitude': 30.25579,\n  'start_longitude': -97.73982,\n  'end_latitude': 30.26476,\n  'end_longitude': -97.74678},\n {'_id': 614442,\n  'bikeid': 551,\n  'start_time': datetime.datetime(2017, 5, 6, 22, 14, 21, tzinfo=psycopg2.tz.FixedOffsetTimezone(offset=180, name=None)),\n  'duration_minutes': 37,\n  'start_station_name': 'Palmer Auditorium',\n  'end_station_name': 'Plaza Saltillo',\n  'start_latitude': 30.25971,\n  'start_longitude': -97.75346,\n  'end_latitude': 30.26217,\n  'end_longitude': -97.72743},\n {'_id': 614443,\n  'bikeid': 685,\n  'start_time': datetime.datetime(2017, 3, 10, 20, 0, tzinfo=psycopg2.tz.FixedOffsetTimezone(offset=120, name=None)),\n  'duration_minutes': 12,\n  'start_station_name': '4th & Congress',\n  'end_station_name': 'East 2nd & Pedernales',\n  'start_latitude': 30.26634,\n  'start_longitude': -97.74378,\n  'end_latitude': 30.25542,\n  'end_longitude': -97.71665},\n {'_id': 614444,\n  'bikeid': 236,\n  'start_time': datetime.datetime(2014, 9, 26, 18, 12, tzinfo=psycopg2.tz.FixedOffsetTimezone(offset=180, name=None)),\n  'duration_minutes': 10,\n  'start_station_name': 'Capitol Station / Congress & 11th',\n  'end_station_name': 'Republic Square @ Guadalupe & 4th St.',\n  'start_latitude': 30.2726,\n  'start_longitude': -97.74127,\n  'end_latitude': 30.26774,\n  'end_longitude': -97.74692},\n {'_id': 614445,\n  'bikeid': 459,\n  'start_time': datetime.datetime(2014, 10, 8, 12, 12, tzinfo=psycopg2.tz.FixedOffsetTimezone(offset=180, name=None)),\n  'duration_minutes': 56,\n  'start_station_name': 'State Capitol Visitors Garage @ San Jacinto & 12th',\n  'end_station_name': 'Convention Center / 4th St. @ MetroRail',\n  'start_latitude': 30.27336,\n  'start_longitude': -97.73805,\n  'end_latitude': 30.26483,\n  'end_longitude': -97.739},\n {'_id': 614446,\n  'bikeid': 669,\n  'start_time': datetime.datetime(2017, 7, 2, 23, 51, 35, tzinfo=psycopg2.tz.FixedOffsetTimezone(offset=180, name=None)),\n  'duration_minutes': 11,\n  'start_station_name': 'South Congress & Academy',\n  'end_station_name': '3rd & West',\n  'start_latitude': 30.25226,\n  'start_longitude': -97.74854,\n  'end_latitude': 30.2678,\n  'end_longitude': -97.75189},\n {'_id': 614447,\n  'bikeid': 140,\n  'start_time': datetime.datetime(2014, 4, 10, 13, 12, tzinfo=psycopg2.tz.FixedOffsetTimezone(offset=180, name=None)),\n  'duration_minutes': 15,\n  'start_station_name': '2nd & Congress',\n  'end_station_name': 'Riverside @ S. Lamar',\n  'start_latitude': 30.26408,\n  'start_longitude': -97.74355,\n  'end_latitude': 30.26446,\n  'end_longitude': -97.75665},\n {'_id': 614448,\n  'bikeid': 37,\n  'start_time': datetime.datetime(2016, 3, 28, 20, 36, 20, tzinfo=psycopg2.tz.FixedOffsetTimezone(offset=180, name=None)),\n  'duration_minutes': 14,\n  'start_station_name': 'UT West Mall @ Guadalupe',\n  'end_station_name': 'Long Center @ South 1st & Riverside',\n  'start_latitude': 30.28576,\n  'start_longitude': -97.74181,\n  'end_latitude': 30.25941,\n  'end_longitude': -97.74971},\n {'_id': 614449,\n  'bikeid': 547,\n  'start_time': datetime.datetime(2015, 8, 5, 20, 12, tzinfo=psycopg2.tz.FixedOffsetTimezone(offset=180, name=None)),\n  'duration_minutes': 7,\n  'start_station_name': 'West & 6th St.',\n  'end_station_name': 'Trinity & 6th Street',\n  'start_latitude': 30.27041,\n  'start_longitude': -97.75046,\n  'end_latitude': 30.26735,\n  'end_longitude': -97.73933},\n {'_id': 614450,\n  'bikeid': 117,\n  'start_time': datetime.datetime(2016, 1, 23, 16, 12, 38, tzinfo=psycopg2.tz.FixedOffsetTimezone(offset=120, name=None)),\n  'duration_minutes': 8,\n  'start_station_name': 'Rainey St @ Cummings',\n  'end_station_name': '2nd & Congress',\n  'start_latitude': 30.25579,\n  'start_longitude': -97.73982,\n  'end_latitude': 30.26408,\n  'end_longitude': -97.74355},\n {'_id': 614451,\n  'bikeid': 661,\n  'start_time': datetime.datetime(2016, 10, 7, 16, 4, 4, tzinfo=psycopg2.tz.FixedOffsetTimezone(offset=180, name=None)),\n  'duration_minutes': 41,\n  'start_station_name': 'Convention Center / 3rd & Trinity',\n  'end_station_name': 'Zilker Park West',\n  'start_latitude': 30.26426,\n  'start_longitude': -97.74023,\n  'end_latitude': 30.26587,\n  'end_longitude': -97.76826},\n {'_id': 614452,\n  'bikeid': 183,\n  'start_time': datetime.datetime(2017, 5, 22, 16, 46, 13, tzinfo=psycopg2.tz.FixedOffsetTimezone(offset=180, name=None)),\n  'duration_minutes': 44,\n  'start_station_name': 'Barton Springs @ Kinney Ave',\n  'end_station_name': 'Zilker Park',\n  'start_latitude': 30.262,\n  'start_longitude': -97.76118,\n  'end_latitude': 30.2659,\n  'end_longitude': -97.76822},\n {'_id': 614453,\n  'bikeid': 188,\n  'start_time': datetime.datetime(2015, 7, 8, 9, 12, tzinfo=psycopg2.tz.FixedOffsetTimezone(offset=180, name=None)),\n  'duration_minutes': 7,\n  'start_station_name': 'Waller & 6th St.',\n  'end_station_name': 'Rainey St @ Cummings',\n  'start_latitude': 30.26461,\n  'start_longitude': -97.73049,\n  'end_latitude': 30.25579,\n  'end_longitude': -97.73982},\n {'_id': 614454,\n  'bikeid': 789,\n  'start_time': datetime.datetime(2015, 7, 31, 18, 12, tzinfo=psycopg2.tz.FixedOffsetTimezone(offset=180, name=None)),\n  'duration_minutes': 0,\n  'start_station_name': '2nd & Congress',\n  'end_station_name': 'West & 6th St.',\n  'start_latitude': 30.26408,\n  'start_longitude': -97.74355,\n  'end_latitude': 30.27041,\n  'end_longitude': -97.75046},\n {'_id': 614455,\n  'bikeid': 95,\n  'start_time': datetime.datetime(2017, 4, 7, 13, 27, 57, tzinfo=psycopg2.tz.FixedOffsetTimezone(offset=180, name=None)),\n  'duration_minutes': 31,\n  'start_station_name': 'MoPac Pedestrian Bridge @ Veterans Drive',\n  'end_station_name': 'Capitol Station / Congress & 11th',\n  'start_latitude': 30.27466,\n  'start_longitude': -97.77028,\n  'end_latitude': 30.2726,\n  'end_longitude': -97.74127},\n {'_id': 614456,\n  'bikeid': 746,\n  'start_time': datetime.datetime(2016, 6, 29, 14, 16, 20, tzinfo=psycopg2.tz.FixedOffsetTimezone(offset=180, name=None)),\n  'duration_minutes': 88,\n  'start_station_name': 'Barton Springs & Riverside',\n  'end_station_name': 'Bullock Museum @ Congress & MLK',\n  'start_latitude': 30.2587,\n  'start_longitude': -97.74872,\n  'end_latitude': 30.28039,\n  'end_longitude': -97.73809},\n {'_id': 614457,\n  'bikeid': 25,\n  'start_time': datetime.datetime(2017, 7, 23, 17, 54, 15, tzinfo=psycopg2.tz.FixedOffsetTimezone(offset=180, name=None)),\n  'duration_minutes': 59,\n  'start_station_name': 'UT West Mall @ Guadalupe',\n  'end_station_name': 'Medina & East 6th',\n  'start_latitude': 30.28576,\n  'start_longitude': -97.74181,\n  'end_latitude': 30.26455,\n  'end_longitude': -97.73165},\n {'_id': 614458,\n  'bikeid': 865,\n  'start_time': datetime.datetime(2014, 12, 15, 16, 12, tzinfo=psycopg2.tz.FixedOffsetTimezone(offset=120, name=None)),\n  'duration_minutes': 19,\n  'start_station_name': 'Barton Springs & Riverside',\n  'end_station_name': 'Riverside @ S. Lamar',\n  'start_latitude': 30.2587,\n  'start_longitude': -97.74872,\n  'end_latitude': 30.26446,\n  'end_longitude': -97.75665}]"
     },
     "execution_count": 8,
     "metadata": {},
     "output_type": "execute_result"
    }
   ],
   "source": [
    "from saqp_manager import SaqpManager\n",
    "\n",
    "saqp_manager = SaqpManager([query[0] for query in workload], [query[1] for query in workload], 30)\n",
    "sample = saqp_manager.get_sample()\n",
    "sample"
   ],
   "metadata": {
    "collapsed": false
   }
  },
  {
   "cell_type": "code",
   "execution_count": 9,
   "outputs": [
    {
     "data": {
      "text/plain": "       _id  bikeid                 start_time  duration_minutes  \\\n0   614429     693  2016-03-20 19:46:36+02:00                 8   \n1   614430     577  2016-03-01 16:07:50+02:00                11   \n2   614431     465  2016-05-05 07:29:25+03:00                13   \n3   614432     391  2014-06-28 09:12:00+03:00                10   \n4   614433     970  2017-05-16 17:41:07+03:00                10   \n5   614434     961  2014-03-28 18:12:00+03:00                 8   \n6   614435     775  2015-03-14 18:12:00+02:00                 1   \n7   614436     668  2015-03-29 09:12:00+03:00                28   \n8   614437       8  2014-10-27 16:12:00+02:00                 3   \n9   614438      37  2015-10-04 17:12:16+03:00                 6   \n10  614439     850  2014-08-30 11:12:00+03:00                 7   \n11  614440      24  2016-09-30 16:18:59+03:00                24   \n12  614441     690  2015-06-29 19:12:00+03:00                10   \n13  614442     551  2017-05-06 22:14:21+03:00                37   \n14  614443     685  2017-03-10 20:00:00+02:00                12   \n15  614444     236  2014-09-26 18:12:00+03:00                10   \n16  614445     459  2014-10-08 12:12:00+03:00                56   \n17  614446     669  2017-07-02 23:51:35+03:00                11   \n18  614447     140  2014-04-10 13:12:00+03:00                15   \n19  614448      37  2016-03-28 20:36:20+03:00                14   \n20  614449     547  2015-08-05 20:12:00+03:00                 7   \n21  614450     117  2016-01-23 16:12:38+02:00                 8   \n22  614451     661  2016-10-07 16:04:04+03:00                41   \n23  614452     183  2017-05-22 16:46:13+03:00                44   \n24  614453     188  2015-07-08 09:12:00+03:00                 7   \n25  614454     789  2015-07-31 18:12:00+03:00                 0   \n26  614455      95  2017-04-07 13:27:57+03:00                31   \n27  614456     746  2016-06-29 14:16:20+03:00                88   \n28  614457      25  2017-07-23 17:54:15+03:00                59   \n29  614458     865  2014-12-15 16:12:00+02:00                19   \n\n                                   start_station_name  \\\n0                                         5th & Bowie   \n1                         Barton Springs @ Kinney Ave   \n2                            South Congress & Academy   \n3   State Capitol Visitors Garage @ San Jacinto & ...   \n4                                      6th & Congress   \n5                   Capitol Station / Congress & 11th   \n6                          Barton Springs & Riverside   \n7                                   Palmer Auditorium   \n8                            San Jacinto & 8th Street   \n9                         Barton Springs @ Kinney Ave   \n10                Long Center @ South 1st & Riverside   \n11                                     2nd & Congress   \n12                               Rainey St @ Cummings   \n13                                  Palmer Auditorium   \n14                                     4th & Congress   \n15                  Capitol Station / Congress & 11th   \n16  State Capitol Visitors Garage @ San Jacinto & ...   \n17                           South Congress & Academy   \n18                                     2nd & Congress   \n19                           UT West Mall @ Guadalupe   \n20                                     West & 6th St.   \n21                               Rainey St @ Cummings   \n22                  Convention Center / 3rd & Trinity   \n23                        Barton Springs @ Kinney Ave   \n24                                   Waller & 6th St.   \n25                                     2nd & Congress   \n26           MoPac Pedestrian Bridge @ Veterans Drive   \n27                         Barton Springs & Riverside   \n28                           UT West Mall @ Guadalupe   \n29                         Barton Springs & Riverside   \n\n                           end_station_name  start_latitude  start_longitude  \\\n0                            8th & Congress        30.26960        -97.75332   \n1                               5th & Bowie        30.26200        -97.76118   \n2         Capitol Station / Congress & 11th        30.25226        -97.74854   \n3                            2nd & Congress        30.27336        -97.73805   \n4                    Davis at Rainey Street        30.26822        -97.74285   \n5                  City Hall / Lavaca & 2nd        30.27260        -97.74127   \n6                Barton Springs & Riverside        30.25870        -97.74872   \n7                               5th & Bowie        30.25971        -97.75346   \n8   Convention Center / 4th St. @ MetroRail        30.26912        -97.73986   \n9                               Zilker Park        30.26200        -97.76118   \n10                           4th & Congress        30.25941        -97.74971   \n11                              Zilker Park        30.26408        -97.74355   \n12                 City Hall / Lavaca & 2nd        30.25579        -97.73982   \n13                           Plaza Saltillo        30.25971        -97.75346   \n14                    East 2nd & Pedernales        30.26634        -97.74378   \n15    Republic Square @ Guadalupe & 4th St.        30.27260        -97.74127   \n16  Convention Center / 4th St. @ MetroRail        30.27336        -97.73805   \n17                               3rd & West        30.25226        -97.74854   \n18                     Riverside @ S. Lamar        30.26408        -97.74355   \n19      Long Center @ South 1st & Riverside        30.28576        -97.74181   \n20                     Trinity & 6th Street        30.27041        -97.75046   \n21                           2nd & Congress        30.25579        -97.73982   \n22                         Zilker Park West        30.26426        -97.74023   \n23                              Zilker Park        30.26200        -97.76118   \n24                     Rainey St @ Cummings        30.26461        -97.73049   \n25                           West & 6th St.        30.26408        -97.74355   \n26        Capitol Station / Congress & 11th        30.27466        -97.77028   \n27          Bullock Museum @ Congress & MLK        30.25870        -97.74872   \n28                        Medina & East 6th        30.28576        -97.74181   \n29                     Riverside @ S. Lamar        30.25870        -97.74872   \n\n    end_latitude  end_longitude  \n0       30.26980      -97.74186  \n1       30.26960      -97.75332  \n2       30.27260      -97.74127  \n3       30.26408      -97.74355  \n4       30.26019      -97.73845  \n5       30.26476      -97.74678  \n6       30.25870      -97.74872  \n7       30.26960      -97.75332  \n8       30.26483      -97.73900  \n9       30.26590      -97.76822  \n10      30.26634      -97.74378  \n11      30.26590      -97.76822  \n12      30.26476      -97.74678  \n13      30.26217      -97.72743  \n14      30.25542      -97.71665  \n15      30.26774      -97.74692  \n16      30.26483      -97.73900  \n17      30.26780      -97.75189  \n18      30.26446      -97.75665  \n19      30.25941      -97.74971  \n20      30.26735      -97.73933  \n21      30.26408      -97.74355  \n22      30.26587      -97.76826  \n23      30.26590      -97.76822  \n24      30.25579      -97.73982  \n25      30.27041      -97.75046  \n26      30.27260      -97.74127  \n27      30.28039      -97.73809  \n28      30.26455      -97.73165  \n29      30.26446      -97.75665  ",
      "text/html": "<div>\n<style scoped>\n    .dataframe tbody tr th:only-of-type {\n        vertical-align: middle;\n    }\n\n    .dataframe tbody tr th {\n        vertical-align: top;\n    }\n\n    .dataframe thead th {\n        text-align: right;\n    }\n</style>\n<table border=\"1\" class=\"dataframe\">\n  <thead>\n    <tr style=\"text-align: right;\">\n      <th></th>\n      <th>_id</th>\n      <th>bikeid</th>\n      <th>start_time</th>\n      <th>duration_minutes</th>\n      <th>start_station_name</th>\n      <th>end_station_name</th>\n      <th>start_latitude</th>\n      <th>start_longitude</th>\n      <th>end_latitude</th>\n      <th>end_longitude</th>\n    </tr>\n  </thead>\n  <tbody>\n    <tr>\n      <th>0</th>\n      <td>614429</td>\n      <td>693</td>\n      <td>2016-03-20 19:46:36+02:00</td>\n      <td>8</td>\n      <td>5th &amp; Bowie</td>\n      <td>8th &amp; Congress</td>\n      <td>30.26960</td>\n      <td>-97.75332</td>\n      <td>30.26980</td>\n      <td>-97.74186</td>\n    </tr>\n    <tr>\n      <th>1</th>\n      <td>614430</td>\n      <td>577</td>\n      <td>2016-03-01 16:07:50+02:00</td>\n      <td>11</td>\n      <td>Barton Springs @ Kinney Ave</td>\n      <td>5th &amp; Bowie</td>\n      <td>30.26200</td>\n      <td>-97.76118</td>\n      <td>30.26960</td>\n      <td>-97.75332</td>\n    </tr>\n    <tr>\n      <th>2</th>\n      <td>614431</td>\n      <td>465</td>\n      <td>2016-05-05 07:29:25+03:00</td>\n      <td>13</td>\n      <td>South Congress &amp; Academy</td>\n      <td>Capitol Station / Congress &amp; 11th</td>\n      <td>30.25226</td>\n      <td>-97.74854</td>\n      <td>30.27260</td>\n      <td>-97.74127</td>\n    </tr>\n    <tr>\n      <th>3</th>\n      <td>614432</td>\n      <td>391</td>\n      <td>2014-06-28 09:12:00+03:00</td>\n      <td>10</td>\n      <td>State Capitol Visitors Garage @ San Jacinto &amp; ...</td>\n      <td>2nd &amp; Congress</td>\n      <td>30.27336</td>\n      <td>-97.73805</td>\n      <td>30.26408</td>\n      <td>-97.74355</td>\n    </tr>\n    <tr>\n      <th>4</th>\n      <td>614433</td>\n      <td>970</td>\n      <td>2017-05-16 17:41:07+03:00</td>\n      <td>10</td>\n      <td>6th &amp; Congress</td>\n      <td>Davis at Rainey Street</td>\n      <td>30.26822</td>\n      <td>-97.74285</td>\n      <td>30.26019</td>\n      <td>-97.73845</td>\n    </tr>\n    <tr>\n      <th>5</th>\n      <td>614434</td>\n      <td>961</td>\n      <td>2014-03-28 18:12:00+03:00</td>\n      <td>8</td>\n      <td>Capitol Station / Congress &amp; 11th</td>\n      <td>City Hall / Lavaca &amp; 2nd</td>\n      <td>30.27260</td>\n      <td>-97.74127</td>\n      <td>30.26476</td>\n      <td>-97.74678</td>\n    </tr>\n    <tr>\n      <th>6</th>\n      <td>614435</td>\n      <td>775</td>\n      <td>2015-03-14 18:12:00+02:00</td>\n      <td>1</td>\n      <td>Barton Springs &amp; Riverside</td>\n      <td>Barton Springs &amp; Riverside</td>\n      <td>30.25870</td>\n      <td>-97.74872</td>\n      <td>30.25870</td>\n      <td>-97.74872</td>\n    </tr>\n    <tr>\n      <th>7</th>\n      <td>614436</td>\n      <td>668</td>\n      <td>2015-03-29 09:12:00+03:00</td>\n      <td>28</td>\n      <td>Palmer Auditorium</td>\n      <td>5th &amp; Bowie</td>\n      <td>30.25971</td>\n      <td>-97.75346</td>\n      <td>30.26960</td>\n      <td>-97.75332</td>\n    </tr>\n    <tr>\n      <th>8</th>\n      <td>614437</td>\n      <td>8</td>\n      <td>2014-10-27 16:12:00+02:00</td>\n      <td>3</td>\n      <td>San Jacinto &amp; 8th Street</td>\n      <td>Convention Center / 4th St. @ MetroRail</td>\n      <td>30.26912</td>\n      <td>-97.73986</td>\n      <td>30.26483</td>\n      <td>-97.73900</td>\n    </tr>\n    <tr>\n      <th>9</th>\n      <td>614438</td>\n      <td>37</td>\n      <td>2015-10-04 17:12:16+03:00</td>\n      <td>6</td>\n      <td>Barton Springs @ Kinney Ave</td>\n      <td>Zilker Park</td>\n      <td>30.26200</td>\n      <td>-97.76118</td>\n      <td>30.26590</td>\n      <td>-97.76822</td>\n    </tr>\n    <tr>\n      <th>10</th>\n      <td>614439</td>\n      <td>850</td>\n      <td>2014-08-30 11:12:00+03:00</td>\n      <td>7</td>\n      <td>Long Center @ South 1st &amp; Riverside</td>\n      <td>4th &amp; Congress</td>\n      <td>30.25941</td>\n      <td>-97.74971</td>\n      <td>30.26634</td>\n      <td>-97.74378</td>\n    </tr>\n    <tr>\n      <th>11</th>\n      <td>614440</td>\n      <td>24</td>\n      <td>2016-09-30 16:18:59+03:00</td>\n      <td>24</td>\n      <td>2nd &amp; Congress</td>\n      <td>Zilker Park</td>\n      <td>30.26408</td>\n      <td>-97.74355</td>\n      <td>30.26590</td>\n      <td>-97.76822</td>\n    </tr>\n    <tr>\n      <th>12</th>\n      <td>614441</td>\n      <td>690</td>\n      <td>2015-06-29 19:12:00+03:00</td>\n      <td>10</td>\n      <td>Rainey St @ Cummings</td>\n      <td>City Hall / Lavaca &amp; 2nd</td>\n      <td>30.25579</td>\n      <td>-97.73982</td>\n      <td>30.26476</td>\n      <td>-97.74678</td>\n    </tr>\n    <tr>\n      <th>13</th>\n      <td>614442</td>\n      <td>551</td>\n      <td>2017-05-06 22:14:21+03:00</td>\n      <td>37</td>\n      <td>Palmer Auditorium</td>\n      <td>Plaza Saltillo</td>\n      <td>30.25971</td>\n      <td>-97.75346</td>\n      <td>30.26217</td>\n      <td>-97.72743</td>\n    </tr>\n    <tr>\n      <th>14</th>\n      <td>614443</td>\n      <td>685</td>\n      <td>2017-03-10 20:00:00+02:00</td>\n      <td>12</td>\n      <td>4th &amp; Congress</td>\n      <td>East 2nd &amp; Pedernales</td>\n      <td>30.26634</td>\n      <td>-97.74378</td>\n      <td>30.25542</td>\n      <td>-97.71665</td>\n    </tr>\n    <tr>\n      <th>15</th>\n      <td>614444</td>\n      <td>236</td>\n      <td>2014-09-26 18:12:00+03:00</td>\n      <td>10</td>\n      <td>Capitol Station / Congress &amp; 11th</td>\n      <td>Republic Square @ Guadalupe &amp; 4th St.</td>\n      <td>30.27260</td>\n      <td>-97.74127</td>\n      <td>30.26774</td>\n      <td>-97.74692</td>\n    </tr>\n    <tr>\n      <th>16</th>\n      <td>614445</td>\n      <td>459</td>\n      <td>2014-10-08 12:12:00+03:00</td>\n      <td>56</td>\n      <td>State Capitol Visitors Garage @ San Jacinto &amp; ...</td>\n      <td>Convention Center / 4th St. @ MetroRail</td>\n      <td>30.27336</td>\n      <td>-97.73805</td>\n      <td>30.26483</td>\n      <td>-97.73900</td>\n    </tr>\n    <tr>\n      <th>17</th>\n      <td>614446</td>\n      <td>669</td>\n      <td>2017-07-02 23:51:35+03:00</td>\n      <td>11</td>\n      <td>South Congress &amp; Academy</td>\n      <td>3rd &amp; West</td>\n      <td>30.25226</td>\n      <td>-97.74854</td>\n      <td>30.26780</td>\n      <td>-97.75189</td>\n    </tr>\n    <tr>\n      <th>18</th>\n      <td>614447</td>\n      <td>140</td>\n      <td>2014-04-10 13:12:00+03:00</td>\n      <td>15</td>\n      <td>2nd &amp; Congress</td>\n      <td>Riverside @ S. Lamar</td>\n      <td>30.26408</td>\n      <td>-97.74355</td>\n      <td>30.26446</td>\n      <td>-97.75665</td>\n    </tr>\n    <tr>\n      <th>19</th>\n      <td>614448</td>\n      <td>37</td>\n      <td>2016-03-28 20:36:20+03:00</td>\n      <td>14</td>\n      <td>UT West Mall @ Guadalupe</td>\n      <td>Long Center @ South 1st &amp; Riverside</td>\n      <td>30.28576</td>\n      <td>-97.74181</td>\n      <td>30.25941</td>\n      <td>-97.74971</td>\n    </tr>\n    <tr>\n      <th>20</th>\n      <td>614449</td>\n      <td>547</td>\n      <td>2015-08-05 20:12:00+03:00</td>\n      <td>7</td>\n      <td>West &amp; 6th St.</td>\n      <td>Trinity &amp; 6th Street</td>\n      <td>30.27041</td>\n      <td>-97.75046</td>\n      <td>30.26735</td>\n      <td>-97.73933</td>\n    </tr>\n    <tr>\n      <th>21</th>\n      <td>614450</td>\n      <td>117</td>\n      <td>2016-01-23 16:12:38+02:00</td>\n      <td>8</td>\n      <td>Rainey St @ Cummings</td>\n      <td>2nd &amp; Congress</td>\n      <td>30.25579</td>\n      <td>-97.73982</td>\n      <td>30.26408</td>\n      <td>-97.74355</td>\n    </tr>\n    <tr>\n      <th>22</th>\n      <td>614451</td>\n      <td>661</td>\n      <td>2016-10-07 16:04:04+03:00</td>\n      <td>41</td>\n      <td>Convention Center / 3rd &amp; Trinity</td>\n      <td>Zilker Park West</td>\n      <td>30.26426</td>\n      <td>-97.74023</td>\n      <td>30.26587</td>\n      <td>-97.76826</td>\n    </tr>\n    <tr>\n      <th>23</th>\n      <td>614452</td>\n      <td>183</td>\n      <td>2017-05-22 16:46:13+03:00</td>\n      <td>44</td>\n      <td>Barton Springs @ Kinney Ave</td>\n      <td>Zilker Park</td>\n      <td>30.26200</td>\n      <td>-97.76118</td>\n      <td>30.26590</td>\n      <td>-97.76822</td>\n    </tr>\n    <tr>\n      <th>24</th>\n      <td>614453</td>\n      <td>188</td>\n      <td>2015-07-08 09:12:00+03:00</td>\n      <td>7</td>\n      <td>Waller &amp; 6th St.</td>\n      <td>Rainey St @ Cummings</td>\n      <td>30.26461</td>\n      <td>-97.73049</td>\n      <td>30.25579</td>\n      <td>-97.73982</td>\n    </tr>\n    <tr>\n      <th>25</th>\n      <td>614454</td>\n      <td>789</td>\n      <td>2015-07-31 18:12:00+03:00</td>\n      <td>0</td>\n      <td>2nd &amp; Congress</td>\n      <td>West &amp; 6th St.</td>\n      <td>30.26408</td>\n      <td>-97.74355</td>\n      <td>30.27041</td>\n      <td>-97.75046</td>\n    </tr>\n    <tr>\n      <th>26</th>\n      <td>614455</td>\n      <td>95</td>\n      <td>2017-04-07 13:27:57+03:00</td>\n      <td>31</td>\n      <td>MoPac Pedestrian Bridge @ Veterans Drive</td>\n      <td>Capitol Station / Congress &amp; 11th</td>\n      <td>30.27466</td>\n      <td>-97.77028</td>\n      <td>30.27260</td>\n      <td>-97.74127</td>\n    </tr>\n    <tr>\n      <th>27</th>\n      <td>614456</td>\n      <td>746</td>\n      <td>2016-06-29 14:16:20+03:00</td>\n      <td>88</td>\n      <td>Barton Springs &amp; Riverside</td>\n      <td>Bullock Museum @ Congress &amp; MLK</td>\n      <td>30.25870</td>\n      <td>-97.74872</td>\n      <td>30.28039</td>\n      <td>-97.73809</td>\n    </tr>\n    <tr>\n      <th>28</th>\n      <td>614457</td>\n      <td>25</td>\n      <td>2017-07-23 17:54:15+03:00</td>\n      <td>59</td>\n      <td>UT West Mall @ Guadalupe</td>\n      <td>Medina &amp; East 6th</td>\n      <td>30.28576</td>\n      <td>-97.74181</td>\n      <td>30.26455</td>\n      <td>-97.73165</td>\n    </tr>\n    <tr>\n      <th>29</th>\n      <td>614458</td>\n      <td>865</td>\n      <td>2014-12-15 16:12:00+02:00</td>\n      <td>19</td>\n      <td>Barton Springs &amp; Riverside</td>\n      <td>Riverside @ S. Lamar</td>\n      <td>30.25870</td>\n      <td>-97.74872</td>\n      <td>30.26446</td>\n      <td>-97.75665</td>\n    </tr>\n  </tbody>\n</table>\n</div>"
     },
     "execution_count": 9,
     "metadata": {},
     "output_type": "execute_result"
    }
   ],
   "source": [
    "df = pd.DataFrame(sample)\n",
    "df"
   ],
   "metadata": {
    "collapsed": false
   }
  },
  {
   "cell_type": "code",
   "execution_count": 55,
   "outputs": [
    {
     "data": {
      "text/plain": "\"SELECT * FROM public.austin_bikes_1000 WHERE start_station_name IN ('Palmer Auditorium')\""
     },
     "execution_count": 55,
     "metadata": {},
     "output_type": "execute_result"
    }
   ],
   "source": [
    "query = input('enter query please...').replace(\"_id\", \"*\")\n",
    "query"
   ],
   "metadata": {
    "collapsed": false
   }
  },
  {
   "cell_type": "code",
   "execution_count": 56,
   "outputs": [
    {
     "data": {
      "text/plain": "       _id  bikeid                 start_time  duration_minutes  \\\n0   614436     668  2015-03-29 09:12:00+03:00                28   \n1   614442     551  2017-05-06 22:14:21+03:00                37   \n2   614494     185  2017-03-06 17:57:53+02:00                 9   \n3   614602     432  2015-06-29 06:12:00+03:00                11   \n4   614610     203  2016-01-10 11:12:44+02:00                25   \n5   614652      64  2016-03-15 21:20:38+02:00                28   \n6   614655     984  2015-11-30 13:12:56+02:00                 7   \n7   614662     188  2017-04-19 13:45:30+03:00                68   \n8   614677     348  2015-03-14 16:12:00+02:00                80   \n9   614750     885  2017-03-08 07:06:53+02:00                 5   \n10  614764     451  2016-03-30 15:49:42+03:00                23   \n11  614809     195  2015-09-05 15:12:04+03:00                19   \n12  614841     326  2016-01-12 08:12:11+02:00                 5   \n13  614860     815  2015-07-26 14:12:00+03:00                 8   \n14  614907     212  2016-05-25 15:07:53+03:00                23   \n15  614972     517  2015-11-08 14:12:36+02:00                40   \n16  615006      80  2014-03-15 21:12:00+02:00                15   \n17  615058     193  2014-11-12 16:12:00+02:00                20   \n18  615169     135  2017-06-27 20:04:10+03:00                53   \n19  615183     554  2015-04-10 18:12:00+03:00                 4   \n20  615190     452  2016-07-24 13:39:36+03:00                50   \n21  615226     646  2015-04-27 14:12:00+03:00                17   \n22  615318      79  2016-01-02 13:12:39+02:00                 8   \n23  615377     193  2017-04-23 07:58:39+03:00               158   \n24  615403      40  2016-09-11 18:57:37+03:00                 9   \n\n   start_station_name                                   end_station_name  \\\n0   Palmer Auditorium                                        5th & Bowie   \n1   Palmer Auditorium                                     Plaza Saltillo   \n2   Palmer Auditorium                                     2nd & Congress   \n3   Palmer Auditorium            Convention Center / 4th St. @ MetroRail   \n4   Palmer Auditorium           MoPac Pedestrian Bridge @ Veterans Drive   \n5   Palmer Auditorium                                  Palmer Auditorium   \n6   Palmer Auditorium                                        5th & Bowie   \n7   Palmer Auditorium                Long Center @ South 1st & Riverside   \n8   Palmer Auditorium                                  Palmer Auditorium   \n9   Palmer Auditorium                      Pfluger Bridge @ W 2nd Street   \n10  Palmer Auditorium                               Rainey St @ Cummings   \n11  Palmer Auditorium                                Barton Springs Pool   \n12  Palmer Auditorium                      Pfluger Bridge @ W 2nd Street   \n13  Palmer Auditorium                                     4th & Congress   \n14  Palmer Auditorium                                        Zilker Park   \n15  Palmer Auditorium                            Toomey Rd @ South Lamar   \n16  Palmer Auditorium            Convention Center / 4th St. @ MetroRail   \n17  Palmer Auditorium                Long Center @ South 1st & Riverside   \n18  Palmer Auditorium                                     2nd & Congress   \n19  Palmer Auditorium                         Barton Springs & Riverside   \n20  Palmer Auditorium                                  Palmer Auditorium   \n21  Palmer Auditorium                                        5th & Bowie   \n22  Palmer Auditorium                                        5th & Bowie   \n23  Palmer Auditorium                                  Palmer Auditorium   \n24  Palmer Auditorium  South Congress & Barton Springs at the Austin ...   \n\n    start_latitude  start_longitude  end_latitude  end_longitude  \n0         30.25971        -97.75346      30.26960      -97.75332  \n1         30.25971        -97.75346      30.26217      -97.72743  \n2         30.25971        -97.75346      30.26408      -97.74355  \n3         30.25971        -97.75346      30.26483      -97.73900  \n4         30.25971        -97.75346      30.27466      -97.77028  \n5         30.25971        -97.75346      30.25971      -97.75346  \n6         30.25971        -97.75346      30.26960      -97.75332  \n7         30.25971        -97.75346      30.25941      -97.74971  \n8         30.25971        -97.75346      30.25971      -97.75346  \n9         30.25971        -97.75346      30.26717      -97.75484  \n10        30.25971        -97.75346      30.25579      -97.73982  \n11        30.25971        -97.75346      30.26452      -97.77120  \n12        30.25971        -97.75346      30.26717      -97.75484  \n13        30.25971        -97.75346      30.26634      -97.74378  \n14        30.25971        -97.75346      30.26590      -97.76822  \n15        30.25971        -97.75346      30.26304      -97.75824  \n16        30.25971        -97.75346      30.26483      -97.73900  \n17        30.25971        -97.75346      30.25941      -97.74971  \n18        30.25971        -97.75346      30.26408      -97.74355  \n19        30.25971        -97.75346      30.25870      -97.74872  \n20        30.25971        -97.75346      30.25971      -97.75346  \n21        30.25971        -97.75346      30.26960      -97.75332  \n22        30.25971        -97.75346      30.26960      -97.75332  \n23        30.25971        -97.75346      30.25971      -97.75346  \n24        30.25971        -97.75346      30.25839      -97.74592  ",
      "text/html": "<div>\n<style scoped>\n    .dataframe tbody tr th:only-of-type {\n        vertical-align: middle;\n    }\n\n    .dataframe tbody tr th {\n        vertical-align: top;\n    }\n\n    .dataframe thead th {\n        text-align: right;\n    }\n</style>\n<table border=\"1\" class=\"dataframe\">\n  <thead>\n    <tr style=\"text-align: right;\">\n      <th></th>\n      <th>_id</th>\n      <th>bikeid</th>\n      <th>start_time</th>\n      <th>duration_minutes</th>\n      <th>start_station_name</th>\n      <th>end_station_name</th>\n      <th>start_latitude</th>\n      <th>start_longitude</th>\n      <th>end_latitude</th>\n      <th>end_longitude</th>\n    </tr>\n  </thead>\n  <tbody>\n    <tr>\n      <th>0</th>\n      <td>614436</td>\n      <td>668</td>\n      <td>2015-03-29 09:12:00+03:00</td>\n      <td>28</td>\n      <td>Palmer Auditorium</td>\n      <td>5th &amp; Bowie</td>\n      <td>30.25971</td>\n      <td>-97.75346</td>\n      <td>30.26960</td>\n      <td>-97.75332</td>\n    </tr>\n    <tr>\n      <th>1</th>\n      <td>614442</td>\n      <td>551</td>\n      <td>2017-05-06 22:14:21+03:00</td>\n      <td>37</td>\n      <td>Palmer Auditorium</td>\n      <td>Plaza Saltillo</td>\n      <td>30.25971</td>\n      <td>-97.75346</td>\n      <td>30.26217</td>\n      <td>-97.72743</td>\n    </tr>\n    <tr>\n      <th>2</th>\n      <td>614494</td>\n      <td>185</td>\n      <td>2017-03-06 17:57:53+02:00</td>\n      <td>9</td>\n      <td>Palmer Auditorium</td>\n      <td>2nd &amp; Congress</td>\n      <td>30.25971</td>\n      <td>-97.75346</td>\n      <td>30.26408</td>\n      <td>-97.74355</td>\n    </tr>\n    <tr>\n      <th>3</th>\n      <td>614602</td>\n      <td>432</td>\n      <td>2015-06-29 06:12:00+03:00</td>\n      <td>11</td>\n      <td>Palmer Auditorium</td>\n      <td>Convention Center / 4th St. @ MetroRail</td>\n      <td>30.25971</td>\n      <td>-97.75346</td>\n      <td>30.26483</td>\n      <td>-97.73900</td>\n    </tr>\n    <tr>\n      <th>4</th>\n      <td>614610</td>\n      <td>203</td>\n      <td>2016-01-10 11:12:44+02:00</td>\n      <td>25</td>\n      <td>Palmer Auditorium</td>\n      <td>MoPac Pedestrian Bridge @ Veterans Drive</td>\n      <td>30.25971</td>\n      <td>-97.75346</td>\n      <td>30.27466</td>\n      <td>-97.77028</td>\n    </tr>\n    <tr>\n      <th>5</th>\n      <td>614652</td>\n      <td>64</td>\n      <td>2016-03-15 21:20:38+02:00</td>\n      <td>28</td>\n      <td>Palmer Auditorium</td>\n      <td>Palmer Auditorium</td>\n      <td>30.25971</td>\n      <td>-97.75346</td>\n      <td>30.25971</td>\n      <td>-97.75346</td>\n    </tr>\n    <tr>\n      <th>6</th>\n      <td>614655</td>\n      <td>984</td>\n      <td>2015-11-30 13:12:56+02:00</td>\n      <td>7</td>\n      <td>Palmer Auditorium</td>\n      <td>5th &amp; Bowie</td>\n      <td>30.25971</td>\n      <td>-97.75346</td>\n      <td>30.26960</td>\n      <td>-97.75332</td>\n    </tr>\n    <tr>\n      <th>7</th>\n      <td>614662</td>\n      <td>188</td>\n      <td>2017-04-19 13:45:30+03:00</td>\n      <td>68</td>\n      <td>Palmer Auditorium</td>\n      <td>Long Center @ South 1st &amp; Riverside</td>\n      <td>30.25971</td>\n      <td>-97.75346</td>\n      <td>30.25941</td>\n      <td>-97.74971</td>\n    </tr>\n    <tr>\n      <th>8</th>\n      <td>614677</td>\n      <td>348</td>\n      <td>2015-03-14 16:12:00+02:00</td>\n      <td>80</td>\n      <td>Palmer Auditorium</td>\n      <td>Palmer Auditorium</td>\n      <td>30.25971</td>\n      <td>-97.75346</td>\n      <td>30.25971</td>\n      <td>-97.75346</td>\n    </tr>\n    <tr>\n      <th>9</th>\n      <td>614750</td>\n      <td>885</td>\n      <td>2017-03-08 07:06:53+02:00</td>\n      <td>5</td>\n      <td>Palmer Auditorium</td>\n      <td>Pfluger Bridge @ W 2nd Street</td>\n      <td>30.25971</td>\n      <td>-97.75346</td>\n      <td>30.26717</td>\n      <td>-97.75484</td>\n    </tr>\n    <tr>\n      <th>10</th>\n      <td>614764</td>\n      <td>451</td>\n      <td>2016-03-30 15:49:42+03:00</td>\n      <td>23</td>\n      <td>Palmer Auditorium</td>\n      <td>Rainey St @ Cummings</td>\n      <td>30.25971</td>\n      <td>-97.75346</td>\n      <td>30.25579</td>\n      <td>-97.73982</td>\n    </tr>\n    <tr>\n      <th>11</th>\n      <td>614809</td>\n      <td>195</td>\n      <td>2015-09-05 15:12:04+03:00</td>\n      <td>19</td>\n      <td>Palmer Auditorium</td>\n      <td>Barton Springs Pool</td>\n      <td>30.25971</td>\n      <td>-97.75346</td>\n      <td>30.26452</td>\n      <td>-97.77120</td>\n    </tr>\n    <tr>\n      <th>12</th>\n      <td>614841</td>\n      <td>326</td>\n      <td>2016-01-12 08:12:11+02:00</td>\n      <td>5</td>\n      <td>Palmer Auditorium</td>\n      <td>Pfluger Bridge @ W 2nd Street</td>\n      <td>30.25971</td>\n      <td>-97.75346</td>\n      <td>30.26717</td>\n      <td>-97.75484</td>\n    </tr>\n    <tr>\n      <th>13</th>\n      <td>614860</td>\n      <td>815</td>\n      <td>2015-07-26 14:12:00+03:00</td>\n      <td>8</td>\n      <td>Palmer Auditorium</td>\n      <td>4th &amp; Congress</td>\n      <td>30.25971</td>\n      <td>-97.75346</td>\n      <td>30.26634</td>\n      <td>-97.74378</td>\n    </tr>\n    <tr>\n      <th>14</th>\n      <td>614907</td>\n      <td>212</td>\n      <td>2016-05-25 15:07:53+03:00</td>\n      <td>23</td>\n      <td>Palmer Auditorium</td>\n      <td>Zilker Park</td>\n      <td>30.25971</td>\n      <td>-97.75346</td>\n      <td>30.26590</td>\n      <td>-97.76822</td>\n    </tr>\n    <tr>\n      <th>15</th>\n      <td>614972</td>\n      <td>517</td>\n      <td>2015-11-08 14:12:36+02:00</td>\n      <td>40</td>\n      <td>Palmer Auditorium</td>\n      <td>Toomey Rd @ South Lamar</td>\n      <td>30.25971</td>\n      <td>-97.75346</td>\n      <td>30.26304</td>\n      <td>-97.75824</td>\n    </tr>\n    <tr>\n      <th>16</th>\n      <td>615006</td>\n      <td>80</td>\n      <td>2014-03-15 21:12:00+02:00</td>\n      <td>15</td>\n      <td>Palmer Auditorium</td>\n      <td>Convention Center / 4th St. @ MetroRail</td>\n      <td>30.25971</td>\n      <td>-97.75346</td>\n      <td>30.26483</td>\n      <td>-97.73900</td>\n    </tr>\n    <tr>\n      <th>17</th>\n      <td>615058</td>\n      <td>193</td>\n      <td>2014-11-12 16:12:00+02:00</td>\n      <td>20</td>\n      <td>Palmer Auditorium</td>\n      <td>Long Center @ South 1st &amp; Riverside</td>\n      <td>30.25971</td>\n      <td>-97.75346</td>\n      <td>30.25941</td>\n      <td>-97.74971</td>\n    </tr>\n    <tr>\n      <th>18</th>\n      <td>615169</td>\n      <td>135</td>\n      <td>2017-06-27 20:04:10+03:00</td>\n      <td>53</td>\n      <td>Palmer Auditorium</td>\n      <td>2nd &amp; Congress</td>\n      <td>30.25971</td>\n      <td>-97.75346</td>\n      <td>30.26408</td>\n      <td>-97.74355</td>\n    </tr>\n    <tr>\n      <th>19</th>\n      <td>615183</td>\n      <td>554</td>\n      <td>2015-04-10 18:12:00+03:00</td>\n      <td>4</td>\n      <td>Palmer Auditorium</td>\n      <td>Barton Springs &amp; Riverside</td>\n      <td>30.25971</td>\n      <td>-97.75346</td>\n      <td>30.25870</td>\n      <td>-97.74872</td>\n    </tr>\n    <tr>\n      <th>20</th>\n      <td>615190</td>\n      <td>452</td>\n      <td>2016-07-24 13:39:36+03:00</td>\n      <td>50</td>\n      <td>Palmer Auditorium</td>\n      <td>Palmer Auditorium</td>\n      <td>30.25971</td>\n      <td>-97.75346</td>\n      <td>30.25971</td>\n      <td>-97.75346</td>\n    </tr>\n    <tr>\n      <th>21</th>\n      <td>615226</td>\n      <td>646</td>\n      <td>2015-04-27 14:12:00+03:00</td>\n      <td>17</td>\n      <td>Palmer Auditorium</td>\n      <td>5th &amp; Bowie</td>\n      <td>30.25971</td>\n      <td>-97.75346</td>\n      <td>30.26960</td>\n      <td>-97.75332</td>\n    </tr>\n    <tr>\n      <th>22</th>\n      <td>615318</td>\n      <td>79</td>\n      <td>2016-01-02 13:12:39+02:00</td>\n      <td>8</td>\n      <td>Palmer Auditorium</td>\n      <td>5th &amp; Bowie</td>\n      <td>30.25971</td>\n      <td>-97.75346</td>\n      <td>30.26960</td>\n      <td>-97.75332</td>\n    </tr>\n    <tr>\n      <th>23</th>\n      <td>615377</td>\n      <td>193</td>\n      <td>2017-04-23 07:58:39+03:00</td>\n      <td>158</td>\n      <td>Palmer Auditorium</td>\n      <td>Palmer Auditorium</td>\n      <td>30.25971</td>\n      <td>-97.75346</td>\n      <td>30.25971</td>\n      <td>-97.75346</td>\n    </tr>\n    <tr>\n      <th>24</th>\n      <td>615403</td>\n      <td>40</td>\n      <td>2016-09-11 18:57:37+03:00</td>\n      <td>9</td>\n      <td>Palmer Auditorium</td>\n      <td>South Congress &amp; Barton Springs at the Austin ...</td>\n      <td>30.25971</td>\n      <td>-97.75346</td>\n      <td>30.25839</td>\n      <td>-97.74592</td>\n    </tr>\n  </tbody>\n</table>\n</div>"
     },
     "execution_count": 56,
     "metadata": {},
     "output_type": "execute_result"
    }
   ],
   "source": [
    "from data_access import DataAccess\n",
    "\n",
    "dataAccess = DataAccess()\n",
    "# query = \"SELECT _id FROM public.austin_bikes_1000 WHERE start_station_name IN ('Palmer Auditorium')\".replace(\"_id\", \"*\")\n",
    "truth_query_df = dataAccess.select_to_df(query)\n",
    "truth_query_df"
   ],
   "metadata": {
    "collapsed": false
   }
  },
  {
   "cell_type": "code",
   "execution_count": 57,
   "outputs": [
    {
     "data": {
      "text/plain": "      _id  bikeid                  start_time  duration_minutes  \\\n0  614436     668  2015-03-29 09:12:00.000000                28   \n1  614442     551  2017-05-06 22:14:21.000000                37   \n\n  start_station_name end_station_name  start_latitude  start_longitude  \\\n0  Palmer Auditorium      5th & Bowie        30.25971        -97.75346   \n1  Palmer Auditorium   Plaza Saltillo        30.25971        -97.75346   \n\n   end_latitude  end_longitude  \n0      30.26960      -97.75332  \n1      30.26217      -97.72743  ",
      "text/html": "<div>\n<style scoped>\n    .dataframe tbody tr th:only-of-type {\n        vertical-align: middle;\n    }\n\n    .dataframe tbody tr th {\n        vertical-align: top;\n    }\n\n    .dataframe thead th {\n        text-align: right;\n    }\n</style>\n<table border=\"1\" class=\"dataframe\">\n  <thead>\n    <tr style=\"text-align: right;\">\n      <th></th>\n      <th>_id</th>\n      <th>bikeid</th>\n      <th>start_time</th>\n      <th>duration_minutes</th>\n      <th>start_station_name</th>\n      <th>end_station_name</th>\n      <th>start_latitude</th>\n      <th>start_longitude</th>\n      <th>end_latitude</th>\n      <th>end_longitude</th>\n    </tr>\n  </thead>\n  <tbody>\n    <tr>\n      <th>0</th>\n      <td>614436</td>\n      <td>668</td>\n      <td>2015-03-29 09:12:00.000000</td>\n      <td>28</td>\n      <td>Palmer Auditorium</td>\n      <td>5th &amp; Bowie</td>\n      <td>30.25971</td>\n      <td>-97.75346</td>\n      <td>30.26960</td>\n      <td>-97.75332</td>\n    </tr>\n    <tr>\n      <th>1</th>\n      <td>614442</td>\n      <td>551</td>\n      <td>2017-05-06 22:14:21.000000</td>\n      <td>37</td>\n      <td>Palmer Auditorium</td>\n      <td>Plaza Saltillo</td>\n      <td>30.25971</td>\n      <td>-97.75346</td>\n      <td>30.26217</td>\n      <td>-97.72743</td>\n    </tr>\n  </tbody>\n</table>\n</div>"
     },
     "execution_count": 57,
     "metadata": {},
     "output_type": "execute_result"
    }
   ],
   "source": [
    "import pandasql as ps\n",
    "\n",
    "sample_query_df = ps.sqldf(query.replace(\"public.austin_bikes_1000\", \"df\"))\n",
    "sample_query_df"
   ],
   "metadata": {
    "collapsed": false
   }
  },
  {
   "cell_type": "code",
   "execution_count": 53,
   "outputs": [
    {
     "data": {
      "text/plain": "0.03"
     },
     "execution_count": 53,
     "metadata": {},
     "output_type": "execute_result"
    }
   ],
   "source": [
    "len(sample) / dataAccess.select_one(\"SELECT count(*) as count from public.austin_bikes_1000\")['count']"
   ],
   "metadata": {
    "collapsed": false
   }
  },
  {
   "cell_type": "code",
   "execution_count": 58,
   "outputs": [
    {
     "data": {
      "text/plain": "0.08"
     },
     "execution_count": 58,
     "metadata": {},
     "output_type": "execute_result"
    }
   ],
   "source": [
    "len(sample_query_df.index) / len(truth_query_df.index)"
   ],
   "metadata": {
    "collapsed": false
   }
  }
 ],
 "metadata": {
  "kernelspec": {
   "display_name": "Python 3",
   "language": "python",
   "name": "python3"
  },
  "language_info": {
   "codemirror_mode": {
    "name": "ipython",
    "version": 2
   },
   "file_extension": ".py",
   "mimetype": "text/x-python",
   "name": "python",
   "nbconvert_exporter": "python",
   "pygments_lexer": "ipython2",
   "version": "2.7.6"
  }
 },
 "nbformat": 4,
 "nbformat_minor": 0
}
