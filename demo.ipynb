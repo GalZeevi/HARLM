{
 "cells": [
  {
   "cell_type": "markdown",
   "source": [
    "## Demo"
   ],
   "metadata": {
    "collapsed": false
   }
  },
  {
   "cell_type": "code",
   "execution_count": 1,
   "outputs": [
    {
     "data": {
      "text/plain": "        bikeid           start_time  duration_minutes  \\\n0            8  2015-03-19 19:12:00                41   \n1          468  2016-03-21 21:17:48                 7   \n2          107  2016-05-29 13:09:31                35   \n3          428  2016-02-20 14:40:49                12   \n4          572  2015-07-09 16:12:00                 4   \n...        ...                  ...               ...   \n614423     183  2017-07-11 18:56:51                43   \n614424     849  2017-07-13 06:02:13                 5   \n614425     209  2017-07-31 11:20:23                31   \n614426    2048  2017-07-21 06:08:30                 5   \n614427     452  2017-07-31 11:19:48                32   \n\n             start_station_name         end_station_name  start_latitude  \\\n0              Waller & 6th St.     Trinity & 6th Street        30.26461   \n1              Waller & 6th St.     Trinity & 6th Street        30.26461   \n2              Waller & 6th St.     Trinity & 6th Street        30.26461   \n3              Waller & 6th St.     Trinity & 6th Street        30.26461   \n4              Waller & 6th St.     Trinity & 6th Street        30.26461   \n...                         ...                      ...             ...   \n614423  Congress & Cesar Chavez  Congress & Cesar Chavez        30.26332   \n614424  Congress & Cesar Chavez           Boardwalk West        30.26332   \n614425  Congress & Cesar Chavez           Boardwalk West        30.26332   \n614426  Congress & Cesar Chavez           Boardwalk West        30.26332   \n614427  Congress & Cesar Chavez           Boardwalk West        30.26332   \n\n        start_longitude  end_latitude  end_longitude  \n0             -97.73049      30.26735      -97.73933  \n1             -97.73049      30.26735      -97.73933  \n2             -97.73049      30.26735      -97.73933  \n3             -97.73049      30.26735      -97.73933  \n4             -97.73049      30.26735      -97.73933  \n...                 ...           ...            ...  \n614423        -97.74508      30.26332      -97.74508  \n614424        -97.74508      30.25457      -97.74258  \n614425        -97.74508      30.25457      -97.74258  \n614426        -97.74508      30.25457      -97.74258  \n614427        -97.74508      30.25457      -97.74258  \n\n[614428 rows x 9 columns]",
      "text/html": "<div>\n<style scoped>\n    .dataframe tbody tr th:only-of-type {\n        vertical-align: middle;\n    }\n\n    .dataframe tbody tr th {\n        vertical-align: top;\n    }\n\n    .dataframe thead th {\n        text-align: right;\n    }\n</style>\n<table border=\"1\" class=\"dataframe\">\n  <thead>\n    <tr style=\"text-align: right;\">\n      <th></th>\n      <th>bikeid</th>\n      <th>start_time</th>\n      <th>duration_minutes</th>\n      <th>start_station_name</th>\n      <th>end_station_name</th>\n      <th>start_latitude</th>\n      <th>start_longitude</th>\n      <th>end_latitude</th>\n      <th>end_longitude</th>\n    </tr>\n  </thead>\n  <tbody>\n    <tr>\n      <th>0</th>\n      <td>8</td>\n      <td>2015-03-19 19:12:00</td>\n      <td>41</td>\n      <td>Waller &amp; 6th St.</td>\n      <td>Trinity &amp; 6th Street</td>\n      <td>30.26461</td>\n      <td>-97.73049</td>\n      <td>30.26735</td>\n      <td>-97.73933</td>\n    </tr>\n    <tr>\n      <th>1</th>\n      <td>468</td>\n      <td>2016-03-21 21:17:48</td>\n      <td>7</td>\n      <td>Waller &amp; 6th St.</td>\n      <td>Trinity &amp; 6th Street</td>\n      <td>30.26461</td>\n      <td>-97.73049</td>\n      <td>30.26735</td>\n      <td>-97.73933</td>\n    </tr>\n    <tr>\n      <th>2</th>\n      <td>107</td>\n      <td>2016-05-29 13:09:31</td>\n      <td>35</td>\n      <td>Waller &amp; 6th St.</td>\n      <td>Trinity &amp; 6th Street</td>\n      <td>30.26461</td>\n      <td>-97.73049</td>\n      <td>30.26735</td>\n      <td>-97.73933</td>\n    </tr>\n    <tr>\n      <th>3</th>\n      <td>428</td>\n      <td>2016-02-20 14:40:49</td>\n      <td>12</td>\n      <td>Waller &amp; 6th St.</td>\n      <td>Trinity &amp; 6th Street</td>\n      <td>30.26461</td>\n      <td>-97.73049</td>\n      <td>30.26735</td>\n      <td>-97.73933</td>\n    </tr>\n    <tr>\n      <th>4</th>\n      <td>572</td>\n      <td>2015-07-09 16:12:00</td>\n      <td>4</td>\n      <td>Waller &amp; 6th St.</td>\n      <td>Trinity &amp; 6th Street</td>\n      <td>30.26461</td>\n      <td>-97.73049</td>\n      <td>30.26735</td>\n      <td>-97.73933</td>\n    </tr>\n    <tr>\n      <th>...</th>\n      <td>...</td>\n      <td>...</td>\n      <td>...</td>\n      <td>...</td>\n      <td>...</td>\n      <td>...</td>\n      <td>...</td>\n      <td>...</td>\n      <td>...</td>\n    </tr>\n    <tr>\n      <th>614423</th>\n      <td>183</td>\n      <td>2017-07-11 18:56:51</td>\n      <td>43</td>\n      <td>Congress &amp; Cesar Chavez</td>\n      <td>Congress &amp; Cesar Chavez</td>\n      <td>30.26332</td>\n      <td>-97.74508</td>\n      <td>30.26332</td>\n      <td>-97.74508</td>\n    </tr>\n    <tr>\n      <th>614424</th>\n      <td>849</td>\n      <td>2017-07-13 06:02:13</td>\n      <td>5</td>\n      <td>Congress &amp; Cesar Chavez</td>\n      <td>Boardwalk West</td>\n      <td>30.26332</td>\n      <td>-97.74508</td>\n      <td>30.25457</td>\n      <td>-97.74258</td>\n    </tr>\n    <tr>\n      <th>614425</th>\n      <td>209</td>\n      <td>2017-07-31 11:20:23</td>\n      <td>31</td>\n      <td>Congress &amp; Cesar Chavez</td>\n      <td>Boardwalk West</td>\n      <td>30.26332</td>\n      <td>-97.74508</td>\n      <td>30.25457</td>\n      <td>-97.74258</td>\n    </tr>\n    <tr>\n      <th>614426</th>\n      <td>2048</td>\n      <td>2017-07-21 06:08:30</td>\n      <td>5</td>\n      <td>Congress &amp; Cesar Chavez</td>\n      <td>Boardwalk West</td>\n      <td>30.26332</td>\n      <td>-97.74508</td>\n      <td>30.25457</td>\n      <td>-97.74258</td>\n    </tr>\n    <tr>\n      <th>614427</th>\n      <td>452</td>\n      <td>2017-07-31 11:19:48</td>\n      <td>32</td>\n      <td>Congress &amp; Cesar Chavez</td>\n      <td>Boardwalk West</td>\n      <td>30.26332</td>\n      <td>-97.74508</td>\n      <td>30.25457</td>\n      <td>-97.74258</td>\n    </tr>\n  </tbody>\n</table>\n<p>614428 rows × 9 columns</p>\n</div>"
     },
     "execution_count": 1,
     "metadata": {},
     "output_type": "execute_result"
    }
   ],
   "source": [
    "import pandas as pd\n",
    "\n",
    "bikes = pd.read_csv('./datasets/austin_bikes_final.csv')\n",
    "bikes"
   ],
   "metadata": {
    "collapsed": false
   }
  },
  {
   "cell_type": "code",
   "execution_count": 2,
   "outputs": [
    {
     "name": "stdout",
     "output_type": "stream",
     "text": [
      "Connecting to the PostgreSQL database...\n",
      "Connected to localhost:datasets.\n",
      "============ starting iteration 1   ============\n",
      "Created query:\n",
      "SELECT _id FROM public.austin_bikes_1000 WHERE start_latitude BETWEEN 30.266721122107942 AND 30.276591214845688 AND end_longitude BETWEEN -97.71362848369009 AND -97.71296814009668 AND bikeid BETWEEN 774.5753114645231 AND 1525.4306537340215\n",
      "iteration took: 1.00 ms\n",
      "============ starting iteration 2   ============\n",
      "Created query:\n",
      "SELECT _id FROM public.austin_bikes_1000 WHERE duration_minutes BETWEEN 210.1957752935805 AND 347.4748607210746 AND start_latitude BETWEEN 30.252124886448154 AND 30.271512735510782\n",
      "iteration took: 1.00 ms\n",
      "============ starting iteration 3   ============\n",
      "Created query:\n",
      "SELECT _id FROM public.austin_bikes_1000 WHERE start_station_name IN ('Rainey St @ Cummings' , 'West & 6th St.' , 'Medina & East 6th' , 'Riverside @ S. Lamar' , 'Guadalupe & 21st' , 'Trinity & 6th Street' , 'State Capitol @ 14th & Colorado' , 'Nueces & 3rd' , 'Barton Springs @ Kinney Ave' , 'Republic Square @ Guadalupe & 4th St.' , 'East 6th & Pedernales St.' , '8th & Congress' , 'Barton Springs & Riverside' , 'East 6th at Robert Martinez' , 'ACC - Rio Grande & 12th' , 'City Hall / Lavaca & 2nd' , 'South Congress & Barton Springs at the Austin American-Statesman' , '6th & Congress' , 'Lavaca & 6th' , 'East 11th St. & San Marcos' , '5th & Bowie' , 'Pfluger Bridge @ W 2nd Street' , 'Guadalupe & 6th' , '17th & Guadalupe' , 'ACC - West & 12th Street' , '8th & Guadalupe')\n",
      "iteration took: 2.99 ms\n",
      "============ starting iteration 4   ============\n",
      "Created query:\n",
      "SELECT _id FROM public.austin_bikes_1000 WHERE end_longitude BETWEEN -97.7241251221138 AND -97.71368155781651 AND end_station_name IN ('State Capitol Visitors Garage @ San Jacinto & 12th' , 'UT West Mall @ Guadalupe' , 'Guadalupe & 6th' , '3rd & West' , 'West & 6th St.' , 'Capitol Station / Congress & 11th' , 'Pfluger Bridge @ W 2nd Street' , 'South Congress & Academy' , 'Zilker Park' , 'South Congress & Elizabeth' , 'South Congress & James' , '2nd & Congress' , 'Republic Square @ Guadalupe & 4th St.' , 'Barton Springs Pool' , 'East 2nd & Pedernales' , 'Convention Center / 4th St. @ MetroRail' , 'East 6th & Pedernales St.' , '6th & Navasota St.' , 'Guadalupe & 21st' , 'Medina & East 6th' , 'Nueces & 3rd' , 'Barton Springs & Riverside' , '5th & Bowie' , 'Plaza Saltillo' , 'Republic Square @ Federal Courthouse Plaza' , '8th & Guadalupe' , 'East 11th St. at Victory Grill' , '5th & San Marcos' , 'Bullock Museum @ Congress & MLK' , '13th & San Antonio' , 'City Hall / Lavaca & 2nd' , '4th & Congress' , 'Waller & 6th St.' , 'Long Center @ South 1st & Riverside' , 'Trinity & 6th Street' , 'Brazos & 6th' , 'East 11th St. & San Marcos' , 'Palmer Auditorium' , '8th & Congress' , 'East 6th at Robert Martinez' , 'Riverside @ S. Lamar' , 'Rainey @ River St' , 'Barton Springs @ Kinney Ave' , 'Lavaca & 6th' , 'Red River & 8th Street' , 'Rainey St @ Cummings' , 'South Congress & Barton Springs at the Austin American-Statesman') AND start_station_name IN ('3rd & West' , 'UT West Mall @ Guadalupe' , '2nd & Congress' , 'Plaza Saltillo' , 'Red River & 8th Street' , 'Barton Springs & Riverside' , 'State Capitol Visitors Garage @ San Jacinto & 12th' , '8th & Guadalupe' , '6th & Congress' , '11th & San Jacinto' , 'Guadalupe & 6th' , 'Riverside @ S. Lamar' , 'Republic Square @ Federal Courthouse Plaza' , 'Barton Springs @ Kinney Ave' , 'South Congress & Barton Springs at the Austin American-Statesman' , 'East 11th St. at Victory Grill' , 'Republic Square' , 'Brazos & 6th' , 'Davis at Rainey Street' , 'East 4th & Chicon' , 'MoPac Pedestrian Bridge @ Veterans Drive' , 'Zilker Park West' , 'Republic Square @ Guadalupe & 4th St.' , 'Congress & Cesar Chavez' , 'Capitol Station / Congress & 11th')\n",
      "iteration took: 1.00 ms\n",
      "============ starting iteration 5   ============\n",
      "Created query:\n",
      "SELECT _id FROM public.austin_bikes_1000 WHERE start_longitude BETWEEN -97.73527962912011 AND -97.73460507855074 AND end_longitude BETWEEN -97.7484076256617 AND -97.72705616610531 AND bikeid BETWEEN 650.960324544684 AND 2050.9378739004596\n",
      "iteration took: 1.00 ms\n",
      "============ starting iteration 6   ============\n",
      "Created query:\n",
      "SELECT _id FROM public.austin_bikes_1000 WHERE start_station_name IN ('11th & San Jacinto' , 'Riverside @ S. Lamar' , 'Red River & 8th Street' , 'Capitol Station / Congress & 11th' , '8th & Congress' , 'Guadalupe & 6th' , 'Plaza Saltillo' , 'Republic Square @ Federal Courthouse Plaza' , 'Pfluger Bridge @ W 2nd Street' , 'East 4th & Chicon' , 'Trinity & 6th Street' , '2nd & Congress' , 'Rainey @ River St' , 'ACC - Rio Grande & 12th' , 'Bullock Museum @ Congress & MLK' , 'East 6th & Pedernales St.' , 'East 11th St. & San Marcos' , 'City Hall / Lavaca & 2nd' , 'Barton Springs & Riverside' , 'South Congress & Academy' , 'State Capitol Visitors Garage @ San Jacinto & 12th' , 'East 2nd & Pedernales' , 'Brazos & 6th') AND end_station_name IN ('Zilker Park' , 'Plaza Saltillo' , 'San Jacinto & 8th Street' , 'ACC - West & 12th Street' , 'ACC - Rio Grande & 12th' , 'Brazos & 6th' , 'East 2nd & Pedernales' , 'Nueces @ 3rd' , 'Trinity & 6th Street' , '6th & Congress' , 'Republic Square @ Federal Courthouse Plaza' , 'Red River & 8th Street' , '2nd & Congress' , 'Palmer Auditorium' , 'South Congress & Barton Springs at the Austin American-Statesman' , 'UT West Mall @ Guadalupe' , '5th & San Marcos' , 'South Congress & Academy' , 'Barton Springs Pool') AND start_latitude BETWEEN 30.25139327406462 AND 30.269709076424192\n",
      "iteration took: 1.00 ms\n",
      "============ starting iteration 7   ============\n",
      "Created query:\n",
      "SELECT _id FROM public.austin_bikes_1000 WHERE end_station_name IN ('South Congress & James' , 'State Capitol Visitors Garage @ San Jacinto & 12th' , 'South Congress & Barton Springs at the Austin American-Statesman' , '5th & San Marcos' , 'Convention Center / 3rd & Trinity' , 'Zilker Park' , 'Waller & 6th St.' , '6th & Congress' , '11th & San Jacinto' , 'Rainey @ River St' , 'Barton Springs & Riverside' , 'East 6th at Robert Martinez' , 'Nueces & 3rd' , 'South Congress & Academy' , 'MoPac Pedestrian Bridge @ Veterans Drive' , 'Palmer Auditorium' , '17th & Guadalupe' , 'UT West Mall @ Guadalupe' , 'Guadalupe & 6th' , '5th & Bowie' , 'East 11th St. at Victory Grill' , 'Brazos & 6th' , 'Republic Square @ Guadalupe & 4th St.' , 'State Capitol @ 14th & Colorado' , 'Plaza Saltillo' , 'Barton Springs @ Kinney Ave' , 'Barton Springs Pool' , 'Capital Metro HQ - East 5th at Broadway' , 'City Hall / Lavaca & 2nd' , 'West & 6th St.' , '4th & Congress' , 'Rainey St @ Cummings' , 'South Congress & Elizabeth' , 'San Jacinto & 8th Street' , 'Guadalupe & 21st' , 'ACC - Rio Grande & 12th') AND start_longitude BETWEEN -97.74573575076361 AND -97.71965782619071 AND end_latitude BETWEEN 30.250109843724303 AND 30.284896513111267\n",
      "iteration took: 1.99 ms\n",
      "============ starting iteration 8   ============\n",
      "Created query:\n",
      "SELECT _id FROM public.austin_bikes_1000 WHERE bikeid BETWEEN 954.5211653040973 AND 2220.8315810543595 AND duration_minutes BETWEEN 208.55306551744815 AND 431.8032747162126 AND end_latitude BETWEEN 30.24939616881378 AND 30.250120418962556\n",
      "iteration took: 1.00 ms\n",
      "============ starting iteration 9   ============\n",
      "Created query:\n",
      "SELECT _id FROM public.austin_bikes_1000 WHERE start_longitude BETWEEN -97.7433082826006 AND -97.7145825752853 AND start_station_name IN ('Barton Springs & Riverside' , '5th & San Marcos' , 'Long Center @ South 1st & Riverside' , 'East 6th at Robert Martinez' , 'Convention Center / 4th St. @ MetroRail' , '6th & Congress' , 'East 2nd & Pedernales' , 'UT West Mall @ Guadalupe' , 'Nueces @ 3rd' , 'Trinity & 6th Street' , 'ACC - West & 12th Street' , 'Barton Springs @ Kinney Ave' , '3rd & West' , 'Capitol Station / Congress & 11th' , '5th & Bowie' , 'Nueces & 3rd' , 'Barton Springs Pool' , 'State Capitol @ 14th & Colorado' , 'West & 6th St.' , 'Bullock Museum @ Congress & MLK' , '4th & Congress' , 'Zilker Park West' , 'Red River & 8th Street' , 'Republic Square @ Guadalupe & 4th St.' , 'East 11th St. at Victory Grill' , 'Plaza Saltillo' , 'East 4th & Chicon' , 'East 11th St. & San Marcos' , 'Waller & 6th St.' , 'San Jacinto & 8th Street' , 'MoPac Pedestrian Bridge @ Veterans Drive' , 'Brazos & 6th' , 'South Congress & Elizabeth' , 'Capital Metro HQ - East 5th at Broadway' , 'Davis at Rainey Street' , 'Republic Square @ Federal Courthouse Plaza' , 'Rainey St @ Cummings' , 'Pfluger Bridge @ W 2nd Street' , 'Guadalupe & 6th' , '13th & San Antonio' , 'State Capitol Visitors Garage @ San Jacinto & 12th' , '17th & Guadalupe' , 'Medina & East 6th' , 'Toomey Rd @ South Lamar' , '2nd & Congress' , 'Palmer Auditorium' , 'Guadalupe & 21st' , 'South Congress & Barton Springs at the Austin American-Statesman' , 'Lavaca & 6th' , 'Zilker Park') AND bikeid BETWEEN 593.1909830019341 AND 2077.0008887547488\n",
      "iteration took: 1.00 ms\n",
      "============ starting iteration 10   ============\n",
      "Created query:\n",
      "SELECT _id FROM public.austin_bikes_1000 WHERE start_longitude BETWEEN -97.76279649282957 AND -97.75332357538872 AND duration_minutes BETWEEN 202.16645998204817 AND 294.1797640723104\n",
      "iteration took: 1.00 ms\n",
      "============ starting iteration 11   ============\n",
      "Created query:\n",
      "SELECT _id FROM public.austin_bikes_1000 WHERE duration_minutes BETWEEN 99.3734977996842 AND 258.5673452274049 AND start_latitude BETWEEN 30.25845262304075 AND 30.264828205725518 AND start_longitude BETWEEN -97.75797244256728 AND -97.74959066956701\n",
      "iteration took: 0.00 ms\n",
      "============ starting iteration 12   ============\n",
      "Created query:\n",
      "SELECT _id FROM public.austin_bikes_1000 WHERE start_latitude BETWEEN 30.27262375901047 AND 30.281134816280375\n",
      "iteration took: 1.00 ms\n",
      "============ starting iteration 13   ============\n",
      "Created query:\n",
      "SELECT _id FROM public.austin_bikes_1000 WHERE end_station_name IN ('Guadalupe & 21st' , 'Plaza Saltillo' , 'South Congress & Barton Springs at the Austin American-Statesman' , 'Waller & 6th St.' , '17th & Guadalupe' , 'Capitol Station / Congress & 11th' , 'Republic Square @ Federal Courthouse Plaza' , 'Pfluger Bridge @ W 2nd Street' , '2nd & Congress' , 'Barton Springs & Riverside' , 'Lavaca & 6th' , '5th & Bowie' , 'UT West Mall @ Guadalupe' , 'Zilker Park West' , 'East 11th St. at Victory Grill' , 'City Hall / Lavaca & 2nd' , 'Convention Center / 3rd & Trinity' , '6th & Congress' , 'San Jacinto & 8th Street' , 'Nueces & 3rd' , 'Guadalupe & 6th' , '3rd & West' , 'Davis at Rainey Street' , 'Rainey St @ Cummings' , 'South Congress & Elizabeth' , '6th & Navasota St.' , 'Toomey Rd @ South Lamar' , 'ACC - Rio Grande & 12th' , 'State Capitol Visitors Garage @ San Jacinto & 12th' , 'South Congress & James' , 'ACC - West & 12th Street' , 'Barton Springs Pool' , 'Trinity & 6th Street' , 'MoPac Pedestrian Bridge @ Veterans Drive' , '5th & San Marcos' , 'Capital Metro HQ - East 5th at Broadway' , '4th & Congress' , 'West & 6th St.' , 'State Capitol @ 14th & Colorado') AND duration_minutes BETWEEN 353.4964873598503 AND 540.4488063800421 AND end_longitude BETWEEN -97.73035725764923 AND -97.72223407289103\n",
      "iteration took: 1.00 ms\n",
      "============ starting iteration 14   ============\n",
      "Created query:\n",
      "SELECT _id FROM public.austin_bikes_1000 WHERE end_latitude BETWEEN 30.254780765888988 AND 30.258347332159847 AND start_station_name IN ('Medina & East 6th' , 'Boardwalk West' , 'Barton Springs Pool' , 'Bullock Museum @ Congress & MLK' , 'Nueces & 3rd' , 'MoPac Pedestrian Bridge @ Veterans Drive' , 'Davis at Rainey Street' , 'Rainey @ River St' , 'Convention Center / 4th St. @ MetroRail' , 'San Jacinto & 8th Street' , 'Riverside @ S. Lamar' , 'Barton Springs @ Kinney Ave' , 'East 6th & Pedernales St.' , 'Zilker Park West' , 'Nueces @ 3rd' , 'City Hall / Lavaca & 2nd' , 'ACC - West & 12th Street' , 'East 4th & Chicon' , 'Republic Square @ Federal Courthouse Plaza' , 'Guadalupe & 6th' , 'ACC - Rio Grande & 12th' , 'Pfluger Bridge @ W 2nd Street' , '11th & San Jacinto' , 'South Congress & Barton Springs at the Austin American-Statesman' , '5th & Bowie' , 'State Capitol Visitors Garage @ San Jacinto & 12th' , 'Capitol Station / Congress & 11th' , '13th & San Antonio' , 'East 6th at Robert Martinez' , 'Waller & 6th St.' , '2nd & Congress' , 'Convention Center / 3rd & Trinity' , 'Long Center @ South 1st & Riverside' , 'State Capitol @ 14th & Colorado') AND end_station_name IN ('Zilker Park West' , 'Davis at Rainey Street' , 'West & 6th St.' , '4th & Congress' , 'Lavaca & 6th' , 'Convention Center / 4th St. @ MetroRail' , '6th & Congress' , 'Barton Springs @ Kinney Ave' , '6th & Navasota St.' , 'ACC - West & 12th Street' , '8th & Congress' , 'Waller & 6th St.' , 'Toomey Rd @ South Lamar' , 'Republic Square @ Federal Courthouse Plaza' , 'Nueces & 3rd' , 'Medina & East 6th' , 'Palmer Auditorium' , '3rd & West' , '13th & San Antonio' , 'Rainey St @ Cummings' , 'Riverside @ S. Lamar' , 'San Jacinto & 8th Street' , 'Brazos & 6th' , 'Plaza Saltillo' , 'South Congress & Elizabeth' , 'MoPac Pedestrian Bridge @ Veterans Drive' , 'Capital Metro HQ - East 5th at Broadway' , 'Republic Square @ Guadalupe & 4th St.' , 'East 6th & Pedernales St.' , 'City Hall / Lavaca & 2nd' , '11th & San Jacinto' , 'Barton Springs & Riverside' , 'Bullock Museum @ Congress & MLK' , 'East 6th at Robert Martinez' , '5th & San Marcos' , 'Guadalupe & 21st' , 'Barton Springs Pool' , 'East 4th & Chicon' , 'Trinity & 6th Street' , 'Convention Center / 3rd & Trinity')\n",
      "iteration took: 1.00 ms\n",
      "============ starting iteration 15   ============\n",
      "Created query:\n",
      "SELECT _id FROM public.austin_bikes_1000 WHERE bikeid BETWEEN 777.4152553382512 AND 1977.4630186196828 AND end_station_name IN ('East 2nd & Pedernales' , 'Long Center @ South 1st & Riverside' , 'ACC - West & 12th Street' , 'UT West Mall @ Guadalupe' , 'Medina & East 6th' , 'East 11th St. at Victory Grill' , 'East 6th & Pedernales St.' , 'Rainey St @ Cummings' , 'San Jacinto & 8th Street' , 'Pfluger Bridge @ W 2nd Street' , 'MoPac Pedestrian Bridge @ Veterans Drive' , 'Red River & 8th Street' , 'Convention Center / 3rd & Trinity' , 'Rainey @ River St' , 'Convention Center / 4th St. @ MetroRail' , 'Toomey Rd @ South Lamar' , 'Barton Springs @ Kinney Ave' , 'East 6th at Robert Martinez' , '5th & Bowie' , 'State Capitol @ 14th & Colorado' , 'Waller & 6th St.' , '8th & Guadalupe' , 'Zilker Park West' , 'Guadalupe & 6th' , '17th & Guadalupe' , 'Barton Springs Pool' , 'Palmer Auditorium' , 'West & 6th St.' , 'East 4th & Chicon' , 'State Capitol Visitors Garage @ San Jacinto & 12th' , '3rd & West' , 'Capitol Station / Congress & 11th' , 'Plaza Saltillo' , 'Brazos & 6th' , 'City Hall / Lavaca & 2nd' , 'East 11th St. & San Marcos' , '2nd & Congress' , '13th & San Antonio' , 'Guadalupe & 21st' , 'Republic Square @ Federal Courthouse Plaza' , 'Lavaca & 6th' , 'South Congress & Elizabeth') AND start_longitude BETWEEN -97.77034899810116 AND -97.72897566799298\n",
      "iteration took: 0.99 ms\n",
      "============ starting iteration 16   ============\n",
      "Created query:\n",
      "SELECT _id FROM public.austin_bikes_1000 WHERE end_latitude BETWEEN 30.258816514738346 AND 30.260596096078693 AND duration_minutes BETWEEN 580.6229220393708 AND 594.4651088769167\n",
      "iteration took: 0.00 ms\n",
      "============ starting iteration 17   ============\n",
      "Created query:\n",
      "SELECT _id FROM public.austin_bikes_1000 WHERE duration_minutes BETWEEN 24.461524230287065 AND 403.0416815252728\n",
      "iteration took: 1.99 ms\n",
      "============ starting iteration 18   ============\n",
      "Created query:\n",
      "SELECT _id FROM public.austin_bikes_1000 WHERE bikeid BETWEEN 124.9133963645712 AND 211.5745761573793 AND end_station_name IN ('Barton Springs & Riverside' , 'Medina & East 6th' , 'Zilker Park' , 'Rainey St @ Cummings' , 'Riverside @ S. Lamar' , 'East 11th St. at Victory Grill' , 'Long Center @ South 1st & Riverside') AND duration_minutes BETWEEN 275.3021112786535 AND 559.3219466736148\n",
      "iteration took: 0.00 ms\n",
      "============ starting iteration 19   ============\n",
      "Created query:\n",
      "SELECT _id FROM public.austin_bikes_1000 WHERE start_longitude BETWEEN -97.76855836004736 AND -97.76709378292003\n",
      "iteration took: 1.00 ms\n",
      "============ starting iteration 20   ============\n",
      "Created query:\n",
      "SELECT _id FROM public.austin_bikes_1000 WHERE duration_minutes BETWEEN 26.698990230447283 AND 563.4780373135874 AND bikeid BETWEEN 157.52021925033014 AND 882.123152387124\n",
      "iteration took: 1.57 ms\n"
     ]
    }
   ],
   "source": [
    "from jaccard_workload_approximator import JaccardWorkloadApproximator\n",
    "\n",
    "workload_approximator = JaccardWorkloadApproximator()\n",
    "workload = workload_approximator.get_workload_approximation(10)"
   ],
   "metadata": {
    "collapsed": false
   }
  },
  {
   "cell_type": "code",
   "execution_count": 3,
   "outputs": [
    {
     "name": "stdout",
     "output_type": "stream",
     "text": [
      "Start running LazyGreedy with type UC\n",
      "============ starting iteration 1   ============\n",
      "iteration took: 74.90 ms\n",
      "============ starting iteration 2   ============\n",
      "iteration took: 125.12 ms\n",
      "============ starting iteration 3   ============\n",
      "iteration took: 186.73 ms\n",
      "============ starting iteration 4   ============\n",
      "iteration took: 248.55 ms\n",
      "============ starting iteration 5   ============\n",
      "iteration took: 255.25 ms\n",
      "============ starting iteration 6   ============\n",
      "iteration took: 263.62 ms\n",
      "============ starting iteration 7   ============\n",
      "iteration took: 274.92 ms\n",
      "============ starting iteration 8   ============\n",
      "iteration took: 330.36 ms\n",
      "============ starting iteration 9   ============\n",
      "iteration took: 307.14 ms\n",
      "============ starting iteration 10   ============\n",
      "iteration took: 369.36 ms\n",
      "============ starting iteration 11   ============\n",
      "iteration took: 2.04 ms\n",
      "LazyGreedy with type UC finished after 11 iterations\n",
      "algorithm took: 2439.00 ms\n",
      "Start running LazyGreedy with type CB\n",
      "============ starting iteration 1   ============\n",
      "iteration took: 57.26 ms\n",
      "============ starting iteration 2   ============\n",
      "iteration took: 133.39 ms\n",
      "============ starting iteration 3   ============\n",
      "iteration took: 168.89 ms\n",
      "============ starting iteration 4   ============\n",
      "iteration took: 214.67 ms\n",
      "============ starting iteration 5   ============\n",
      "iteration took: 210.46 ms\n",
      "============ starting iteration 6   ============\n",
      "iteration took: 232.19 ms\n",
      "============ starting iteration 7   ============\n",
      "iteration took: 288.25 ms\n",
      "============ starting iteration 8   ============\n",
      "iteration took: 327.37 ms\n",
      "============ starting iteration 9   ============\n",
      "iteration took: 389.28 ms\n",
      "============ starting iteration 10   ============\n",
      "iteration took: 406.35 ms\n",
      "============ starting iteration 11   ============\n",
      "iteration took: 1.97 ms\n",
      "LazyGreedy with type CB finished after 11 iterations\n",
      "algorithm took: 2430.09 ms\n"
     ]
    },
    {
     "data": {
      "text/plain": "[{'_id': 614429,\n  'bikeid': 122,\n  'start_time': datetime.time(21, 38, 28, tzinfo=psycopg2.tz.FixedOffsetTimezone(offset=180, name=None)),\n  'duration_minutes': 14,\n  'start_station_name': 'Palmer Auditorium',\n  'end_station_name': '4th & Congress',\n  'start_latitude': 30.25971,\n  'start_longitude': -97.75346,\n  'end_latitude': 30.26634,\n  'end_longitude': -97.74378},\n {'_id': 614430,\n  'bikeid': 270,\n  'start_time': datetime.time(20, 12, tzinfo=psycopg2.tz.FixedOffsetTimezone(offset=180, name=None)),\n  'duration_minutes': 49,\n  'start_station_name': 'South Congress & Academy',\n  'end_station_name': '4th & Congress',\n  'start_latitude': 30.25226,\n  'start_longitude': -97.74854,\n  'end_latitude': 30.26634,\n  'end_longitude': -97.74378},\n {'_id': 614431,\n  'bikeid': 172,\n  'start_time': datetime.time(16, 12, tzinfo=psycopg2.tz.FixedOffsetTimezone(offset=120, name=None)),\n  'duration_minutes': 5,\n  'start_station_name': '4th & Congress',\n  'end_station_name': '5th & Bowie',\n  'start_latitude': 30.26634,\n  'start_longitude': -97.74378,\n  'end_latitude': 30.2696,\n  'end_longitude': -97.75332},\n {'_id': 614432,\n  'bikeid': 62,\n  'start_time': datetime.time(17, 43, 21, tzinfo=psycopg2.tz.FixedOffsetTimezone(offset=180, name=None)),\n  'duration_minutes': 94,\n  'start_station_name': 'Trinity & 6th Street',\n  'end_station_name': 'Brazos & 6th',\n  'start_latitude': 30.26735,\n  'start_longitude': -97.73933,\n  'end_latitude': 30.26754,\n  'end_longitude': -97.74154},\n {'_id': 614433,\n  'bikeid': 276,\n  'start_time': datetime.time(17, 12, tzinfo=psycopg2.tz.FixedOffsetTimezone(offset=120, name=None)),\n  'duration_minutes': 11,\n  'start_station_name': 'Trinity & 6th Street',\n  'end_station_name': 'Plaza Saltillo',\n  'start_latitude': 30.26735,\n  'start_longitude': -97.73933,\n  'end_latitude': 30.26217,\n  'end_longitude': -97.72743},\n {'_id': 614434,\n  'bikeid': 303,\n  'start_time': datetime.time(12, 19, 16, tzinfo=psycopg2.tz.FixedOffsetTimezone(offset=180, name=None)),\n  'duration_minutes': 18,\n  'start_station_name': 'East 4th & Chicon',\n  'end_station_name': 'Convention Center / 4th St. @ MetroRail',\n  'start_latitude': 30.25987,\n  'start_longitude': -97.72373,\n  'end_latitude': 30.26483,\n  'end_longitude': -97.739},\n {'_id': 614435,\n  'bikeid': 242,\n  'start_time': datetime.time(12, 12, tzinfo=psycopg2.tz.FixedOffsetTimezone(offset=180, name=None)),\n  'duration_minutes': 81,\n  'start_station_name': 'Rainey St @ Cummings',\n  'end_station_name': 'Rainey St @ Cummings',\n  'start_latitude': 30.25579,\n  'start_longitude': -97.73982,\n  'end_latitude': 30.25579,\n  'end_longitude': -97.73982},\n {'_id': 614436,\n  'bikeid': 104,\n  'start_time': datetime.time(14, 12, tzinfo=psycopg2.tz.FixedOffsetTimezone(offset=180, name=None)),\n  'duration_minutes': 9,\n  'start_station_name': 'Barton Springs @ Kinney Ave',\n  'end_station_name': 'Barton Springs & Riverside',\n  'start_latitude': 30.262,\n  'start_longitude': -97.76118,\n  'end_latitude': 30.2587,\n  'end_longitude': -97.74872},\n {'_id': 614437,\n  'bikeid': 863,\n  'start_time': datetime.time(18, 57, 14, tzinfo=psycopg2.tz.FixedOffsetTimezone(offset=180, name=None)),\n  'duration_minutes': 8,\n  'start_station_name': '6th & Congress',\n  'end_station_name': 'Long Center @ South 1st & Riverside',\n  'start_latitude': 30.26822,\n  'start_longitude': -97.74285,\n  'end_latitude': 30.25941,\n  'end_longitude': -97.74971},\n {'_id': 614438,\n  'bikeid': 885,\n  'start_time': datetime.time(14, 12, tzinfo=psycopg2.tz.FixedOffsetTimezone(offset=180, name=None)),\n  'duration_minutes': 8,\n  'start_station_name': '8th & Congress',\n  'end_station_name': '17th & Guadalupe',\n  'start_latitude': 30.2698,\n  'start_longitude': -97.74186,\n  'end_latitude': 30.27974,\n  'end_longitude': -97.74254}]"
     },
     "execution_count": 3,
     "metadata": {},
     "output_type": "execute_result"
    }
   ],
   "source": [
    "from saqp_manager import SaqpManager\n",
    "\n",
    "saqp_manager = SaqpManager([query[0] for query in workload], [query[1] for query in workload], 10)\n",
    "sample = saqp_manager.get_sample()\n",
    "sample"
   ],
   "metadata": {
    "collapsed": false
   }
  },
  {
   "cell_type": "code",
   "execution_count": 4,
   "outputs": [
    {
     "data": {
      "text/plain": "      _id  bikeid      start_time  duration_minutes  \\\n0  614429     122  21:38:28+03:00                14   \n1  614430     270  20:12:00+03:00                49   \n2  614431     172  16:12:00+02:00                 5   \n3  614432      62  17:43:21+03:00                94   \n4  614433     276  17:12:00+02:00                11   \n5  614434     303  12:19:16+03:00                18   \n6  614435     242  12:12:00+03:00                81   \n7  614436     104  14:12:00+03:00                 9   \n8  614437     863  18:57:14+03:00                 8   \n9  614438     885  14:12:00+03:00                 8   \n\n            start_station_name                         end_station_name  \\\n0            Palmer Auditorium                           4th & Congress   \n1     South Congress & Academy                           4th & Congress   \n2               4th & Congress                              5th & Bowie   \n3         Trinity & 6th Street                             Brazos & 6th   \n4         Trinity & 6th Street                           Plaza Saltillo   \n5            East 4th & Chicon  Convention Center / 4th St. @ MetroRail   \n6         Rainey St @ Cummings                     Rainey St @ Cummings   \n7  Barton Springs @ Kinney Ave               Barton Springs & Riverside   \n8               6th & Congress      Long Center @ South 1st & Riverside   \n9               8th & Congress                         17th & Guadalupe   \n\n   start_latitude  start_longitude  end_latitude  end_longitude  \n0        30.25971        -97.75346      30.26634      -97.74378  \n1        30.25226        -97.74854      30.26634      -97.74378  \n2        30.26634        -97.74378      30.26960      -97.75332  \n3        30.26735        -97.73933      30.26754      -97.74154  \n4        30.26735        -97.73933      30.26217      -97.72743  \n5        30.25987        -97.72373      30.26483      -97.73900  \n6        30.25579        -97.73982      30.25579      -97.73982  \n7        30.26200        -97.76118      30.25870      -97.74872  \n8        30.26822        -97.74285      30.25941      -97.74971  \n9        30.26980        -97.74186      30.27974      -97.74254  ",
      "text/html": "<div>\n<style scoped>\n    .dataframe tbody tr th:only-of-type {\n        vertical-align: middle;\n    }\n\n    .dataframe tbody tr th {\n        vertical-align: top;\n    }\n\n    .dataframe thead th {\n        text-align: right;\n    }\n</style>\n<table border=\"1\" class=\"dataframe\">\n  <thead>\n    <tr style=\"text-align: right;\">\n      <th></th>\n      <th>_id</th>\n      <th>bikeid</th>\n      <th>start_time</th>\n      <th>duration_minutes</th>\n      <th>start_station_name</th>\n      <th>end_station_name</th>\n      <th>start_latitude</th>\n      <th>start_longitude</th>\n      <th>end_latitude</th>\n      <th>end_longitude</th>\n    </tr>\n  </thead>\n  <tbody>\n    <tr>\n      <th>0</th>\n      <td>614429</td>\n      <td>122</td>\n      <td>21:38:28+03:00</td>\n      <td>14</td>\n      <td>Palmer Auditorium</td>\n      <td>4th &amp; Congress</td>\n      <td>30.25971</td>\n      <td>-97.75346</td>\n      <td>30.26634</td>\n      <td>-97.74378</td>\n    </tr>\n    <tr>\n      <th>1</th>\n      <td>614430</td>\n      <td>270</td>\n      <td>20:12:00+03:00</td>\n      <td>49</td>\n      <td>South Congress &amp; Academy</td>\n      <td>4th &amp; Congress</td>\n      <td>30.25226</td>\n      <td>-97.74854</td>\n      <td>30.26634</td>\n      <td>-97.74378</td>\n    </tr>\n    <tr>\n      <th>2</th>\n      <td>614431</td>\n      <td>172</td>\n      <td>16:12:00+02:00</td>\n      <td>5</td>\n      <td>4th &amp; Congress</td>\n      <td>5th &amp; Bowie</td>\n      <td>30.26634</td>\n      <td>-97.74378</td>\n      <td>30.26960</td>\n      <td>-97.75332</td>\n    </tr>\n    <tr>\n      <th>3</th>\n      <td>614432</td>\n      <td>62</td>\n      <td>17:43:21+03:00</td>\n      <td>94</td>\n      <td>Trinity &amp; 6th Street</td>\n      <td>Brazos &amp; 6th</td>\n      <td>30.26735</td>\n      <td>-97.73933</td>\n      <td>30.26754</td>\n      <td>-97.74154</td>\n    </tr>\n    <tr>\n      <th>4</th>\n      <td>614433</td>\n      <td>276</td>\n      <td>17:12:00+02:00</td>\n      <td>11</td>\n      <td>Trinity &amp; 6th Street</td>\n      <td>Plaza Saltillo</td>\n      <td>30.26735</td>\n      <td>-97.73933</td>\n      <td>30.26217</td>\n      <td>-97.72743</td>\n    </tr>\n    <tr>\n      <th>5</th>\n      <td>614434</td>\n      <td>303</td>\n      <td>12:19:16+03:00</td>\n      <td>18</td>\n      <td>East 4th &amp; Chicon</td>\n      <td>Convention Center / 4th St. @ MetroRail</td>\n      <td>30.25987</td>\n      <td>-97.72373</td>\n      <td>30.26483</td>\n      <td>-97.73900</td>\n    </tr>\n    <tr>\n      <th>6</th>\n      <td>614435</td>\n      <td>242</td>\n      <td>12:12:00+03:00</td>\n      <td>81</td>\n      <td>Rainey St @ Cummings</td>\n      <td>Rainey St @ Cummings</td>\n      <td>30.25579</td>\n      <td>-97.73982</td>\n      <td>30.25579</td>\n      <td>-97.73982</td>\n    </tr>\n    <tr>\n      <th>7</th>\n      <td>614436</td>\n      <td>104</td>\n      <td>14:12:00+03:00</td>\n      <td>9</td>\n      <td>Barton Springs @ Kinney Ave</td>\n      <td>Barton Springs &amp; Riverside</td>\n      <td>30.26200</td>\n      <td>-97.76118</td>\n      <td>30.25870</td>\n      <td>-97.74872</td>\n    </tr>\n    <tr>\n      <th>8</th>\n      <td>614437</td>\n      <td>863</td>\n      <td>18:57:14+03:00</td>\n      <td>8</td>\n      <td>6th &amp; Congress</td>\n      <td>Long Center @ South 1st &amp; Riverside</td>\n      <td>30.26822</td>\n      <td>-97.74285</td>\n      <td>30.25941</td>\n      <td>-97.74971</td>\n    </tr>\n    <tr>\n      <th>9</th>\n      <td>614438</td>\n      <td>885</td>\n      <td>14:12:00+03:00</td>\n      <td>8</td>\n      <td>8th &amp; Congress</td>\n      <td>17th &amp; Guadalupe</td>\n      <td>30.26980</td>\n      <td>-97.74186</td>\n      <td>30.27974</td>\n      <td>-97.74254</td>\n    </tr>\n  </tbody>\n</table>\n</div>"
     },
     "execution_count": 4,
     "metadata": {},
     "output_type": "execute_result"
    }
   ],
   "source": [
    "pd.DataFrame(sample)"
   ],
   "metadata": {
    "collapsed": false
   }
  }
 ],
 "metadata": {
  "kernelspec": {
   "display_name": "Python 3",
   "language": "python",
   "name": "python3"
  },
  "language_info": {
   "codemirror_mode": {
    "name": "ipython",
    "version": 2
   },
   "file_extension": ".py",
   "mimetype": "text/x-python",
   "name": "python",
   "nbconvert_exporter": "python",
   "pygments_lexer": "ipython2",
   "version": "2.7.6"
  }
 },
 "nbformat": 4,
 "nbformat_minor": 0
}
