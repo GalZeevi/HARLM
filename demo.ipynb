{
 "cells": [
  {
   "cell_type": "markdown",
   "source": [
    "## Demo"
   ],
   "metadata": {
    "collapsed": false
   }
  },
  {
   "cell_type": "code",
   "execution_count": 9,
   "outputs": [
    {
     "name": "stdout",
     "output_type": "stream",
     "text": [
      "The autoreload extension is already loaded. To reload it, use:\n",
      "  %reload_ext autoreload\n"
     ]
    }
   ],
   "source": [
    "%load_ext autoreload\n",
    "%autoreload 2"
   ],
   "metadata": {
    "collapsed": false
   }
  },
  {
   "cell_type": "code",
   "execution_count": 10,
   "outputs": [
    {
     "data": {
      "text/plain": "        bikeid           start_time  duration_minutes  \\\n0            8  2015-03-19 19:12:00                41   \n1          468  2016-03-21 21:17:48                 7   \n2          107  2016-05-29 13:09:31                35   \n3          428  2016-02-20 14:40:49                12   \n4          572  2015-07-09 16:12:00                 4   \n...        ...                  ...               ...   \n614423     183  2017-07-11 18:56:51                43   \n614424     849  2017-07-13 06:02:13                 5   \n614425     209  2017-07-31 11:20:23                31   \n614426    2048  2017-07-21 06:08:30                 5   \n614427     452  2017-07-31 11:19:48                32   \n\n             start_station_name         end_station_name  start_latitude  \\\n0              Waller & 6th St.     Trinity & 6th Street        30.26461   \n1              Waller & 6th St.     Trinity & 6th Street        30.26461   \n2              Waller & 6th St.     Trinity & 6th Street        30.26461   \n3              Waller & 6th St.     Trinity & 6th Street        30.26461   \n4              Waller & 6th St.     Trinity & 6th Street        30.26461   \n...                         ...                      ...             ...   \n614423  Congress & Cesar Chavez  Congress & Cesar Chavez        30.26332   \n614424  Congress & Cesar Chavez           Boardwalk West        30.26332   \n614425  Congress & Cesar Chavez           Boardwalk West        30.26332   \n614426  Congress & Cesar Chavez           Boardwalk West        30.26332   \n614427  Congress & Cesar Chavez           Boardwalk West        30.26332   \n\n        start_longitude  end_latitude  end_longitude  \n0             -97.73049      30.26735      -97.73933  \n1             -97.73049      30.26735      -97.73933  \n2             -97.73049      30.26735      -97.73933  \n3             -97.73049      30.26735      -97.73933  \n4             -97.73049      30.26735      -97.73933  \n...                 ...           ...            ...  \n614423        -97.74508      30.26332      -97.74508  \n614424        -97.74508      30.25457      -97.74258  \n614425        -97.74508      30.25457      -97.74258  \n614426        -97.74508      30.25457      -97.74258  \n614427        -97.74508      30.25457      -97.74258  \n\n[614428 rows x 9 columns]",
      "text/html": "<div>\n<style scoped>\n    .dataframe tbody tr th:only-of-type {\n        vertical-align: middle;\n    }\n\n    .dataframe tbody tr th {\n        vertical-align: top;\n    }\n\n    .dataframe thead th {\n        text-align: right;\n    }\n</style>\n<table border=\"1\" class=\"dataframe\">\n  <thead>\n    <tr style=\"text-align: right;\">\n      <th></th>\n      <th>bikeid</th>\n      <th>start_time</th>\n      <th>duration_minutes</th>\n      <th>start_station_name</th>\n      <th>end_station_name</th>\n      <th>start_latitude</th>\n      <th>start_longitude</th>\n      <th>end_latitude</th>\n      <th>end_longitude</th>\n    </tr>\n  </thead>\n  <tbody>\n    <tr>\n      <th>0</th>\n      <td>8</td>\n      <td>2015-03-19 19:12:00</td>\n      <td>41</td>\n      <td>Waller &amp; 6th St.</td>\n      <td>Trinity &amp; 6th Street</td>\n      <td>30.26461</td>\n      <td>-97.73049</td>\n      <td>30.26735</td>\n      <td>-97.73933</td>\n    </tr>\n    <tr>\n      <th>1</th>\n      <td>468</td>\n      <td>2016-03-21 21:17:48</td>\n      <td>7</td>\n      <td>Waller &amp; 6th St.</td>\n      <td>Trinity &amp; 6th Street</td>\n      <td>30.26461</td>\n      <td>-97.73049</td>\n      <td>30.26735</td>\n      <td>-97.73933</td>\n    </tr>\n    <tr>\n      <th>2</th>\n      <td>107</td>\n      <td>2016-05-29 13:09:31</td>\n      <td>35</td>\n      <td>Waller &amp; 6th St.</td>\n      <td>Trinity &amp; 6th Street</td>\n      <td>30.26461</td>\n      <td>-97.73049</td>\n      <td>30.26735</td>\n      <td>-97.73933</td>\n    </tr>\n    <tr>\n      <th>3</th>\n      <td>428</td>\n      <td>2016-02-20 14:40:49</td>\n      <td>12</td>\n      <td>Waller &amp; 6th St.</td>\n      <td>Trinity &amp; 6th Street</td>\n      <td>30.26461</td>\n      <td>-97.73049</td>\n      <td>30.26735</td>\n      <td>-97.73933</td>\n    </tr>\n    <tr>\n      <th>4</th>\n      <td>572</td>\n      <td>2015-07-09 16:12:00</td>\n      <td>4</td>\n      <td>Waller &amp; 6th St.</td>\n      <td>Trinity &amp; 6th Street</td>\n      <td>30.26461</td>\n      <td>-97.73049</td>\n      <td>30.26735</td>\n      <td>-97.73933</td>\n    </tr>\n    <tr>\n      <th>...</th>\n      <td>...</td>\n      <td>...</td>\n      <td>...</td>\n      <td>...</td>\n      <td>...</td>\n      <td>...</td>\n      <td>...</td>\n      <td>...</td>\n      <td>...</td>\n    </tr>\n    <tr>\n      <th>614423</th>\n      <td>183</td>\n      <td>2017-07-11 18:56:51</td>\n      <td>43</td>\n      <td>Congress &amp; Cesar Chavez</td>\n      <td>Congress &amp; Cesar Chavez</td>\n      <td>30.26332</td>\n      <td>-97.74508</td>\n      <td>30.26332</td>\n      <td>-97.74508</td>\n    </tr>\n    <tr>\n      <th>614424</th>\n      <td>849</td>\n      <td>2017-07-13 06:02:13</td>\n      <td>5</td>\n      <td>Congress &amp; Cesar Chavez</td>\n      <td>Boardwalk West</td>\n      <td>30.26332</td>\n      <td>-97.74508</td>\n      <td>30.25457</td>\n      <td>-97.74258</td>\n    </tr>\n    <tr>\n      <th>614425</th>\n      <td>209</td>\n      <td>2017-07-31 11:20:23</td>\n      <td>31</td>\n      <td>Congress &amp; Cesar Chavez</td>\n      <td>Boardwalk West</td>\n      <td>30.26332</td>\n      <td>-97.74508</td>\n      <td>30.25457</td>\n      <td>-97.74258</td>\n    </tr>\n    <tr>\n      <th>614426</th>\n      <td>2048</td>\n      <td>2017-07-21 06:08:30</td>\n      <td>5</td>\n      <td>Congress &amp; Cesar Chavez</td>\n      <td>Boardwalk West</td>\n      <td>30.26332</td>\n      <td>-97.74508</td>\n      <td>30.25457</td>\n      <td>-97.74258</td>\n    </tr>\n    <tr>\n      <th>614427</th>\n      <td>452</td>\n      <td>2017-07-31 11:19:48</td>\n      <td>32</td>\n      <td>Congress &amp; Cesar Chavez</td>\n      <td>Boardwalk West</td>\n      <td>30.26332</td>\n      <td>-97.74508</td>\n      <td>30.25457</td>\n      <td>-97.74258</td>\n    </tr>\n  </tbody>\n</table>\n<p>614428 rows × 9 columns</p>\n</div>"
     },
     "execution_count": 10,
     "metadata": {},
     "output_type": "execute_result"
    }
   ],
   "source": [
    "import pandas as pd\n",
    "\n",
    "bikes = pd.read_csv('./datasets/austin_bikes_final.csv')\n",
    "bikes"
   ],
   "metadata": {
    "collapsed": false
   }
  },
  {
   "cell_type": "code",
   "execution_count": 11,
   "outputs": [
    {
     "name": "stdout",
     "output_type": "stream",
     "text": [
      "============ starting iteration 1   ============\n",
      "Created query:\n",
      "SELECT _id FROM public.austin_bikes_1000 WHERE start_latitude BETWEEN 30.280838931893975 AND 30.285228319610322 AND bikeid BETWEEN 1129.110366328931 AND 1288.8863541010926 AND end_longitude BETWEEN -97.75472365881295 AND -97.74052115610151\n",
      "iteration took: 1.14 ms\n",
      "============ starting iteration 2   ============\n",
      "Created query:\n",
      "SELECT _id FROM public.austin_bikes_1000 WHERE start_station_name IN ('Brazos & 6th' , '6th & Navasota St.' , 'Republic Square @ Guadalupe & 4th St.' , 'Palmer Auditorium' , 'Pfluger Bridge @ W 2nd Street' , 'Barton Springs Pool' , 'East 6th & Pedernales St.' , 'East 2nd & Pedernales' , 'UT West Mall @ Guadalupe' , 'East 6th at Robert Martinez' , 'Capitol Station / Congress & 11th' , 'Long Center @ South 1st & Riverside' , 'South Congress & Academy' , 'Nueces @ 3rd' , 'East 11th St. at Victory Grill' , '3rd & West' , 'San Jacinto & 8th Street' , 'Guadalupe & 21st' , '17th & Guadalupe' , 'Republic Square @ Federal Courthouse Plaza' , 'East 11th St. & San Marcos' , '8th & Congress' , '2nd & Congress' , 'Boardwalk West' , 'State Capitol Visitors Garage @ San Jacinto & 12th' , 'Plaza Saltillo' , 'Rainey St @ Cummings' , 'East 4th & Chicon' , 'Pease Park' , 'Davis at Rainey Street' , 'West & 6th St.' , 'Guadalupe & 6th' , 'Red River & 8th Street') AND duration_minutes BETWEEN 312.066270160419 AND 350.8377271750735\n",
      "iteration took: 1.15 ms\n",
      "============ starting iteration 3   ============\n",
      "Created query:\n",
      "SELECT _id FROM public.austin_bikes_1000 WHERE bikeid BETWEEN 1453.3989712969064 AND 1628.831463887283 AND start_latitude BETWEEN 30.258658012996435 AND 30.273170956001984 AND start_station_name IN ('Capitol Station / Congress & 11th' , 'East 6th & Pedernales St.' , '5th & San Marcos' , 'Guadalupe & 21st' , 'Trinity & 6th Street' , 'Convention Center / 3rd & Trinity' , 'Red River & 8th Street' , 'Rainey St @ Cummings' , 'East 11th St. & San Marcos' , 'UT West Mall @ Guadalupe' , 'State Capitol @ 14th & Colorado' , 'South Congress & Elizabeth' , 'Boardwalk West' , 'Long Center @ South 1st & Riverside' , 'State Capitol Visitors Garage @ San Jacinto & 12th' , 'Nueces & 3rd' , '6th & Congress' , '6th & Navasota St.' , 'Republic Square @ Federal Courthouse Plaza' , 'Capital Metro HQ - East 5th at Broadway' , '17th & Guadalupe' , 'Lavaca & 6th' , '5th & Bowie' , 'Zilker Park West' , 'West & 6th St.' , 'ACC - Rio Grande & 12th' , 'Barton Springs @ Kinney Ave' , 'Riverside @ S. Lamar' , 'East 4th & Chicon' , 'Palmer Auditorium' , 'Pease Park' , 'Convention Center / 4th St. @ MetroRail' , 'Barton Springs Pool' , 'Davis at Rainey Street' , 'South Congress & Barton Springs at the Austin American-Statesman' , 'City Hall / Lavaca & 2nd')\n",
      "iteration took: 1.00 ms\n",
      "============ starting iteration 4   ============\n",
      "Created query:\n",
      "SELECT _id FROM public.austin_bikes_1000 WHERE duration_minutes BETWEEN 61.574261842258615 AND 269.10490945400227 AND start_longitude BETWEEN -97.76916660236641 AND -97.71476677114788\n",
      "iteration took: 1.00 ms\n",
      "============ starting iteration 5   ============\n",
      "Created query:\n",
      "SELECT _id FROM public.austin_bikes_1000 WHERE end_latitude BETWEEN 30.25157809207855 AND 30.28249604784644\n",
      "iteration took: 3.98 ms\n",
      "============ starting iteration 6   ============\n",
      "Created query:\n",
      "SELECT _id FROM public.austin_bikes_1000 WHERE start_longitude BETWEEN -97.74535035226309 AND -97.72756654176457\n",
      "iteration took: 1.99 ms\n",
      "============ starting iteration 7   ============\n",
      "Created query:\n",
      "SELECT _id FROM public.austin_bikes_1000 WHERE end_longitude BETWEEN -97.73887146843208 AND -97.72928526539373 AND start_longitude BETWEEN -97.74334395693144 AND -97.7166489978786 AND end_station_name IN ('Lavaca & 6th' , 'Convention Center / 4th St. @ MetroRail' , 'City Hall / Lavaca & 2nd' , '13th & San Antonio' , 'Barton Springs & Riverside' , '2nd & Congress' , 'San Jacinto & 8th Street' , 'East 6th at Robert Martinez' , '8th & Congress' , 'Riverside @ S. Lamar' , 'Nueces & 3rd' , '5th & Bowie' , 'ACC - Rio Grande & 12th' , 'Trinity & 6th Street' , 'East 11th St. at Victory Grill' , 'Medina & East 6th' , 'Pfluger Bridge @ W 2nd Street' , 'Guadalupe & 6th' , 'ACC - West & 12th Street' , 'Nueces @ 3rd' , 'South Congress & Elizabeth' , 'Barton Springs Pool' , 'Republic Square @ Federal Courthouse Plaza' , 'Convention Center / 3rd & Trinity' , 'Zilker Park West' , 'Guadalupe & 21st' , 'State Parking Garage @ Brazos & 18th' , '17th & Guadalupe' , 'South Congress & Barton Springs at the Austin American-Statesman' , '3rd & West' , 'Pease Park' , 'Boardwalk West' , '4th & Congress' , 'West & 6th St.' , 'Rainey @ River St' , 'Red River & 8th Street' , 'Plaza Saltillo' , 'Rainey St @ Cummings' , '5th & San Marcos' , 'East 11th St. & San Marcos' , '6th & Congress' , 'State Capitol Visitors Garage @ San Jacinto & 12th' , 'MoPac Pedestrian Bridge @ Veterans Drive' , 'Toomey Rd @ South Lamar' , 'East 4th & Chicon' , 'Palmer Auditorium' , 'Waller & 6th St.' , 'East 6th & Pedernales St.' , 'Capital Metro HQ - East 5th at Broadway' , 'East 2nd & Pedernales' , 'UT West Mall @ Guadalupe' , 'Barton Springs @ Kinney Ave' , '6th & Navasota St.' , 'Brazos & 6th' , 'Bullock Museum @ Congress & MLK' , 'State Capitol @ 14th & Colorado' , 'Davis at Rainey Street' , 'Long Center @ South 1st & Riverside' , 'South Congress & Academy' , 'East 7th & Pleasant Valley' , 'Republic Square @ Guadalupe & 4th St.' , 'Capitol Station / Congress & 11th')\n",
      "iteration took: 1.00 ms\n",
      "============ starting iteration 8   ============\n",
      "Created query:\n",
      "SELECT _id FROM public.austin_bikes_1000 WHERE start_latitude BETWEEN 30.266508972394384 AND 30.274760500393604 AND start_station_name IN ('Boardwalk West' , 'South Congress & Elizabeth' , 'Nueces & 3rd' , 'Nueces @ 3rd' , 'East 11th St. & San Marcos' , 'South Congress & Barton Springs at the Austin American-Statesman' , 'East 4th & Chicon' , 'Medina & East 6th' , 'Republic Square' , 'Convention Center / 3rd & Trinity' , 'Red River & 8th Street' , '6th & Congress' , 'Waller & 6th St.' , 'City Hall / Lavaca & 2nd' , 'East 2nd & Pedernales' , 'Rainey St @ Cummings' , 'Guadalupe & 21st' , 'UT West Mall @ Guadalupe' , '6th & Navasota St.' , 'Convention Center / 4th St. @ MetroRail' , 'Capitol Station / Congress & 11th' , '5th & San Marcos' , 'Bullock Museum @ Congress & MLK' , 'Brazos & 6th' , '4th & Congress' , 'Rainey @ River St' , 'Republic Square @ Federal Courthouse Plaza' , '5th & Bowie' , 'State Capitol Visitors Garage @ San Jacinto & 12th' , 'Pfluger Bridge @ W 2nd Street' , 'Barton Springs @ Kinney Ave' , 'Capital Metro HQ - East 5th at Broadway' , 'Guadalupe & 6th' , 'Lavaca & 6th' , '2nd & Congress' , '13th & San Antonio' , 'Palmer Auditorium' , '17th & Guadalupe' , 'Trinity & 6th Street' , 'South Congress & James' , 'MoPac Pedestrian Bridge @ Veterans Drive' , 'State Capitol @ 14th & Colorado' , 'South Congress & Academy' , 'Barton Springs Pool' , 'Toomey Rd @ South Lamar' , 'Riverside @ S. Lamar' , 'State Parking Garage @ Brazos & 18th' , '11th & San Jacinto' , 'Plaza Saltillo' , 'East 11th St. at Victory Grill' , 'Davis at Rainey Street' , 'West & 6th St.' , 'Barton Springs & Riverside' , 'East 6th & Pedernales St.' , 'East 6th at Robert Martinez' , '8th & Congress' , 'Long Center @ South 1st & Riverside' , 'Zilker Park' , 'Pease Park' , 'ACC - Rio Grande & 12th')\n",
      "iteration took: 1.99 ms\n",
      "============ starting iteration 9   ============\n",
      "Created query:\n",
      "SELECT _id FROM public.austin_bikes_1000 WHERE start_longitude BETWEEN -97.77059048045714 AND -97.76959200257984\n",
      "iteration took: 0.00 ms\n",
      "============ starting iteration 10   ============\n",
      "Created query:\n",
      "SELECT _id FROM public.austin_bikes_1000 WHERE start_latitude BETWEEN 30.25084266405208 AND 30.28434676232557 AND duration_minutes BETWEEN 152.99736570896445 AND 803.8140688380054 AND start_longitude BETWEEN -97.7502543977385 AND -97.73033606300231\n",
      "iteration took: 1.00 ms\n",
      "============ starting iteration 11   ============\n",
      "Created query:\n",
      "SELECT _id FROM public.austin_bikes_1000 WHERE duration_minutes BETWEEN 391.01187940001006 AND 399.68241467275215 AND start_station_name IN ('3rd & West' , 'East 2nd & Pedernales' , 'Bullock Museum @ Congress & MLK' , 'Plaza Saltillo' , 'Pfluger Bridge @ W 2nd Street' , 'East 11th St. & San Marcos' , 'Red River & 8th Street' , 'East 6th at Robert Martinez' , 'ACC - Rio Grande & 12th' , 'ACC - West & 12th Street' , '13th & San Antonio' , 'Capital Metro HQ - East 5th at Broadway' , 'South Congress & Barton Springs at the Austin American-Statesman' , 'UT West Mall @ Guadalupe' , '2nd & Congress' , 'Capitol Station / Congress & 11th' , 'Medina & East 6th' , 'South Congress & Elizabeth' , 'San Jacinto & 8th Street' , 'Long Center @ South 1st & Riverside' , 'Nueces & 3rd' , 'Republic Square @ Guadalupe & 4th St.' , '6th & Congress' , 'Barton Springs @ Kinney Ave' , 'Guadalupe & 21st' , 'Zilker Park West' , 'Rainey @ River St' , 'Davis at Rainey Street' , 'Guadalupe & 6th' , '5th & San Marcos' , 'South Congress & James' , 'East 6th & Pedernales St.' , 'Riverside @ S. Lamar' , 'Nueces @ 3rd' , 'Pease Park' , '17th & Guadalupe' , '6th & Navasota St.' , 'Boardwalk West' , 'State Parking Garage @ Brazos & 18th' , 'Lavaca & 6th' , '8th & Congress' , 'South Congress & Academy' , 'MoPac Pedestrian Bridge @ Veterans Drive' , 'East 11th St. at Victory Grill' , 'Palmer Auditorium' , 'Toomey Rd @ South Lamar' , '5th & Bowie' , 'Rainey St @ Cummings' , 'Convention Center / 3rd & Trinity' , 'Republic Square @ Federal Courthouse Plaza' , 'Zilker Park' , 'Barton Springs Pool' , 'Trinity & 6th Street' , 'State Capitol Visitors Garage @ San Jacinto & 12th' , 'Barton Springs & Riverside' , 'Republic Square' , 'State Capitol @ 14th & Colorado' , 'West & 6th St.' , 'Convention Center / 4th St. @ MetroRail') AND start_latitude BETWEEN 30.28251460797943 AND 30.282760824544837\n",
      "iteration took: 1.00 ms\n",
      "============ starting iteration 12   ============\n",
      "Created query:\n",
      "SELECT _id FROM public.austin_bikes_1000 WHERE end_station_name IN ('8th & Congress') AND end_latitude BETWEEN 30.268522112460445 AND 30.27108739462044 AND start_station_name IN ('Davis at Rainey Street' , 'Convention Center / 3rd & Trinity' , '6th & Congress' , 'Plaza Saltillo' , 'MoPac Pedestrian Bridge @ Veterans Drive' , 'City Hall / Lavaca & 2nd' , 'East 6th & Pedernales St.' , 'Pfluger Bridge @ W 2nd Street' , '4th & Congress' , '11th & San Jacinto' , 'Pease Park' , 'Rainey @ River St' , 'ACC - West & 12th Street' , 'ACC - Rio Grande & 12th' , 'Brazos & 6th' , 'East 11th St. at Victory Grill' , 'Capital Metro HQ - East 5th at Broadway' , 'Republic Square @ Federal Courthouse Plaza' , '6th & Navasota St.' , 'State Capitol Visitors Garage @ San Jacinto & 12th' , 'San Jacinto & 8th Street' , '5th & San Marcos' , 'Barton Springs & Riverside' , 'Trinity & 6th Street' , 'State Parking Garage @ Brazos & 18th' , 'Palmer Auditorium')\n",
      "iteration took: 0.00 ms\n",
      "============ starting iteration 13   ============\n",
      "Created query:\n",
      "SELECT _id FROM public.austin_bikes_1000 WHERE end_longitude BETWEEN -97.76696635737109 AND -97.75170111929961\n",
      "iteration took: 0.99 ms\n",
      "============ starting iteration 14   ============\n",
      "Created query:\n",
      "SELECT _id FROM public.austin_bikes_1000 WHERE start_station_name IN ('Rainey @ River St' , 'Lavaca & 6th' , 'Barton Springs @ Kinney Ave' , 'Riverside @ S. Lamar' , 'Trinity & 6th Street' , 'East 6th at Robert Martinez' , 'Red River & 8th Street' , 'South Congress & Barton Springs at the Austin American-Statesman' , 'Plaza Saltillo' , '13th & San Antonio' , '5th & Bowie' , 'Guadalupe & 21st' , 'East 2nd & Pedernales' , 'East 4th & Chicon' , '17th & Guadalupe' , 'Nueces & 3rd' , 'Capitol Station / Congress & 11th' , 'Convention Center / 3rd & Trinity' , 'Republic Square @ Federal Courthouse Plaza' , 'Pease Park' , '11th & San Jacinto' , '3rd & West' , 'Zilker Park' , 'East 11th St. & San Marcos' , 'Palmer Auditorium' , 'Toomey Rd @ South Lamar' , 'Guadalupe & 6th' , 'Capital Metro HQ - East 5th at Broadway' , 'ACC - Rio Grande & 12th' , 'State Capitol @ 14th & Colorado' , 'State Capitol Visitors Garage @ San Jacinto & 12th' , 'MoPac Pedestrian Bridge @ Veterans Drive' , 'San Jacinto & 8th Street' , 'Barton Springs & Riverside' , 'City Hall / Lavaca & 2nd' , 'Long Center @ South 1st & Riverside' , 'ACC - West & 12th Street') AND end_station_name IN ('South Congress & James' , 'Long Center @ South 1st & Riverside' , 'City Hall / Lavaca & 2nd' , 'East 7th & Pleasant Valley' , 'ACC - West & 12th Street' , 'UT West Mall @ Guadalupe' , 'Pfluger Bridge @ W 2nd Street' , '4th & Congress' , 'South Congress & Barton Springs at the Austin American-Statesman' , 'Toomey Rd @ South Lamar' , 'Republic Square @ Federal Courthouse Plaza' , 'Republic Square @ Guadalupe & 4th St.' , 'State Capitol @ 14th & Colorado' , 'Palmer Auditorium' , 'Lavaca & 6th' , 'Rainey St @ Cummings' , '6th & Navasota St.' , '13th & San Antonio' , 'East 4th & Chicon' , 'San Jacinto & 8th Street' , 'Boardwalk West' , 'Convention Center / 3rd & Trinity' , '17th & Guadalupe' , 'South Congress & Elizabeth' , '8th & Congress' , 'East 11th St. & San Marcos' , 'East 6th & Pedernales St.' , 'State Capitol Visitors Garage @ San Jacinto & 12th' , 'Barton Springs @ Kinney Ave' , '6th & Congress' , '5th & Bowie' , 'ACC - Rio Grande & 12th' , 'Nueces & 3rd' , '3rd & West' , 'Zilker Park West' , 'MoPac Pedestrian Bridge @ Veterans Drive' , 'East 11th St. at Victory Grill' , 'Capitol Station / Congress & 11th' , '2nd & Congress' , 'East 6th at Robert Martinez' , 'East 2nd & Pedernales' , 'Trinity & 6th Street' , 'Capital Metro HQ - East 5th at Broadway' , 'Plaza Saltillo' , 'Barton Springs & Riverside' , 'State Parking Garage @ Brazos & 18th' , 'Medina & East 6th' , '11th & San Jacinto' , 'West & 6th St.' , 'Rainey @ River St' , 'Nueces @ 3rd' , 'Pease Park' , 'South Congress & Academy' , 'Guadalupe & 21st' , 'Brazos & 6th' , 'Zilker Park' , 'Waller & 6th St.' , 'Davis at Rainey Street' , 'Red River & 8th Street' , 'Riverside @ S. Lamar' , 'Convention Center / 4th St. @ MetroRail' , 'Bullock Museum @ Congress & MLK' , 'Guadalupe & 6th')\n",
      "iteration took: 3.00 ms\n",
      "============ starting iteration 15   ============\n",
      "Created query:\n",
      "SELECT _id FROM public.austin_bikes_1000 WHERE end_station_name IN ('5th & Bowie' , 'ACC - West & 12th Street' , 'Trinity & 6th Street' , 'Republic Square @ Guadalupe & 4th St.' , 'Boardwalk West' , 'South Congress & Elizabeth' , 'Pease Park' , 'Davis at Rainey Street' , 'Nueces & 3rd' , 'Medina & East 6th' , 'Barton Springs @ Kinney Ave' , '17th & Guadalupe' , 'Brazos & 6th' , 'East 2nd & Pedernales' , 'MoPac Pedestrian Bridge @ Veterans Drive' , 'Rainey St @ Cummings' , 'Plaza Saltillo' , 'Convention Center / 4th St. @ MetroRail' , 'East 4th & Chicon' , 'Republic Square @ Federal Courthouse Plaza' , 'San Jacinto & 8th Street' , '13th & San Antonio' , '8th & Congress' , 'State Capitol @ 14th & Colorado' , 'South Congress & Barton Springs at the Austin American-Statesman' , 'Barton Springs & Riverside' , 'Guadalupe & 6th' , '4th & Congress' , 'State Capitol Visitors Garage @ San Jacinto & 12th' , '6th & Navasota St.' , '2nd & Congress' , 'Riverside @ S. Lamar' , 'UT West Mall @ Guadalupe' , 'East 11th St. at Victory Grill' , 'Waller & 6th St.' , 'West & 6th St.' , 'Capitol Station / Congress & 11th' , 'Red River & 8th Street' , 'East 6th at Robert Martinez' , 'Rainey @ River St') AND bikeid BETWEEN 1366.7011977893515 AND 1563.6624312152553\n",
      "iteration took: 1.02 ms\n",
      "============ starting iteration 16   ============\n",
      "Created query:\n",
      "SELECT _id FROM public.austin_bikes_1000 WHERE duration_minutes BETWEEN 100.02022614566852 AND 562.4552393332059 AND bikeid BETWEEN 721.3110306681025 AND 1264.1334592643218 AND start_latitude BETWEEN 30.26525454916852 AND 30.2723427464782\n",
      "iteration took: 0.98 ms\n",
      "============ starting iteration 17   ============\n",
      "Created query:\n",
      "SELECT _id FROM public.austin_bikes_1000 WHERE duration_minutes BETWEEN 673.3269248318262 AND 855.8751383578029\n",
      "iteration took: 0.00 ms\n",
      "============ starting iteration 18   ============\n",
      "Created query:\n",
      "SELECT _id FROM public.austin_bikes_1000 WHERE duration_minutes BETWEEN 48.65097093882909 AND 347.90046117624485 AND start_station_name IN ('East 11th St. at Victory Grill' , 'Pfluger Bridge @ W 2nd Street' , 'Capital Metro HQ - East 5th at Broadway' , 'City Hall / Lavaca & 2nd' , '17th & Guadalupe' , '2nd & Congress' , '4th & Congress' , 'Capitol Station / Congress & 11th' , 'UT West Mall @ Guadalupe' , 'Bullock Museum @ Congress & MLK' , 'East 6th at Robert Martinez' , 'Riverside @ S. Lamar' , 'East 6th & Pedernales St.' , 'Nueces & 3rd' , 'East 2nd & Pedernales' , 'Plaza Saltillo' , 'Republic Square @ Federal Courthouse Plaza' , 'Medina & East 6th' , 'Republic Square' , 'East 4th & Chicon' , 'Guadalupe & 21st' , '5th & San Marcos' , 'South Congress & Barton Springs at the Austin American-Statesman' , 'Barton Springs Pool' , 'Trinity & 6th Street' , '13th & San Antonio' , 'Red River & 8th Street' , 'Davis at Rainey Street' , 'Palmer Auditorium' , '6th & Navasota St.' , 'Barton Springs @ Kinney Ave' , 'Rainey St @ Cummings' , 'Barton Springs & Riverside' , 'Brazos & 6th' , '3rd & West' , '8th & Congress' , 'West & 6th St.' , 'Convention Center / 3rd & Trinity' , 'ACC - Rio Grande & 12th' , 'State Parking Garage @ Brazos & 18th' , 'San Jacinto & 8th Street' , 'Nueces @ 3rd' , 'Zilker Park West' , 'Convention Center / 4th St. @ MetroRail' , '5th & Bowie' , 'South Congress & Elizabeth' , '11th & San Jacinto' , 'Lavaca & 6th' , 'Long Center @ South 1st & Riverside' , 'ACC - West & 12th Street' , 'Republic Square @ Guadalupe & 4th St.' , '6th & Congress' , 'Rainey @ River St' , 'Zilker Park' , 'East 11th St. & San Marcos' , 'Guadalupe & 6th' , 'Pease Park' , 'MoPac Pedestrian Bridge @ Veterans Drive' , 'Boardwalk West' , 'South Congress & Academy' , 'State Capitol Visitors Garage @ San Jacinto & 12th' , 'State Capitol @ 14th & Colorado' , 'Toomey Rd @ South Lamar')\n",
      "iteration took: 2.00 ms\n",
      "============ starting iteration 19   ============\n",
      "Created query:\n",
      "SELECT _id FROM public.austin_bikes_1000 WHERE end_station_name IN ('17th & Guadalupe' , 'Medina & East 6th' , 'Barton Springs & Riverside' , '5th & San Marcos' , 'Riverside @ S. Lamar' , 'State Parking Garage @ Brazos & 18th')\n",
      "iteration took: 0.99 ms\n",
      "============ starting iteration 20   ============\n",
      "Created query:\n",
      "SELECT _id FROM public.austin_bikes_1000 WHERE start_latitude BETWEEN 30.275147958039568 AND 30.28212642575455 AND bikeid BETWEEN 296.30375000537924 AND 1050.0343363484023 AND duration_minutes BETWEEN 571.9507706087171 AND 729.1110725983639\n",
      "iteration took: 1.00 ms\n",
      "============ starting iteration 21   ============\n",
      "Created query:\n",
      "SELECT _id FROM public.austin_bikes_1000 WHERE start_station_name IN ('ACC - West & 12th Street' , '4th & Congress' , 'Capitol Station / Congress & 11th' , '17th & Guadalupe' , 'Guadalupe & 21st' , 'East 2nd & Pedernales' , 'Guadalupe & 6th' , '3rd & West' , 'Capital Metro HQ - East 5th at Broadway' , 'MoPac Pedestrian Bridge @ Veterans Drive' , 'Lavaca & 6th' , 'Red River & 8th Street' , 'ACC - Rio Grande & 12th' , 'East 11th St. at Victory Grill' , 'City Hall / Lavaca & 2nd' , 'Barton Springs @ Kinney Ave' , '8th & Congress' , '5th & Bowie' , 'Davis at Rainey Street' , 'West & 6th St.' , 'Nueces & 3rd' , 'Barton Springs & Riverside' , 'East 4th & Chicon' , 'San Jacinto & 8th Street' , 'Bullock Museum @ Congress & MLK' , '6th & Navasota St.' , 'Long Center @ South 1st & Riverside' , 'East 6th at Robert Martinez')\n",
      "iteration took: 2.54 ms\n",
      "============ starting iteration 22   ============\n",
      "Created query:\n",
      "SELECT _id FROM public.austin_bikes_1000 WHERE bikeid BETWEEN 549.7149199757342 AND 758.960462740476 AND end_longitude BETWEEN -97.76004783580287 AND -97.75404963108942\n",
      "iteration took: 1.99 ms\n",
      "============ starting iteration 23   ============\n",
      "Created query:\n",
      "SELECT _id FROM public.austin_bikes_1000 WHERE bikeid BETWEEN 1597.2593337199455 AND 2126.373054840188 AND duration_minutes BETWEEN 212.89666332572492 AND 451.76449779653143\n",
      "iteration took: 1.00 ms\n",
      "============ starting iteration 24   ============\n",
      "Created query:\n",
      "SELECT _id FROM public.austin_bikes_1000 WHERE bikeid BETWEEN 150.95547742703124 AND 921.4881184783632\n",
      "iteration took: 2.99 ms\n",
      "============ starting iteration 25   ============\n",
      "Created query:\n",
      "SELECT _id FROM public.austin_bikes_1000 WHERE end_station_name IN ('South Congress & James' , 'State Capitol Visitors Garage @ San Jacinto & 12th' , 'West & 6th St.' , 'Lavaca & 6th' , 'Pfluger Bridge @ W 2nd Street' , '5th & Bowie' , 'State Parking Garage @ Brazos & 18th' , 'Pease Park' , 'Brazos & 6th' , '11th & San Jacinto' , 'Plaza Saltillo' , 'East 11th St. at Victory Grill' , 'City Hall / Lavaca & 2nd' , 'Long Center @ South 1st & Riverside' , 'Republic Square @ Federal Courthouse Plaza' , 'Davis at Rainey Street' , 'Riverside @ S. Lamar' , 'East 6th at Robert Martinez' , 'Barton Springs @ Kinney Ave' , '17th & Guadalupe' , 'MoPac Pedestrian Bridge @ Veterans Drive' , 'Medina & East 6th' , '8th & Congress' , 'East 6th & Pedernales St.' , '6th & Congress' , 'San Jacinto & 8th Street' , '2nd & Congress' , 'Waller & 6th St.' , 'Republic Square @ Guadalupe & 4th St.' , '5th & San Marcos' , 'Boardwalk West' , 'Convention Center / 3rd & Trinity' , 'Toomey Rd @ South Lamar' , 'East 4th & Chicon' , 'Red River & 8th Street' , 'Capital Metro HQ - East 5th at Broadway' , 'East 2nd & Pedernales' , 'Guadalupe & 21st' , 'Nueces & 3rd' , 'Zilker Park West' , 'Rainey @ River St' , 'Zilker Park' , 'UT West Mall @ Guadalupe' , 'Trinity & 6th Street' , 'ACC - West & 12th Street' , '13th & San Antonio' , 'Bullock Museum @ Congress & MLK' , 'Nueces @ 3rd' , 'Guadalupe & 6th' , 'State Capitol @ 14th & Colorado' , 'South Congress & Barton Springs at the Austin American-Statesman' , '6th & Navasota St.' , 'Barton Springs Pool' , 'East 11th St. & San Marcos' , 'Convention Center / 4th St. @ MetroRail' , 'Rainey St @ Cummings' , '4th & Congress' , 'South Congress & Elizabeth' , 'ACC - Rio Grande & 12th' , 'Barton Springs & Riverside' , 'Palmer Auditorium' , 'Capitol Station / Congress & 11th' , 'South Congress & Academy') AND duration_minutes BETWEEN 139.73005722484828 AND 502.96485478203743 AND bikeid BETWEEN 93.9601034011014 AND 511.39914180007406\n",
      "iteration took: 1.00 ms\n",
      "============ starting iteration 26   ============\n",
      "Created query:\n",
      "SELECT _id FROM public.austin_bikes_1000 WHERE start_latitude BETWEEN 30.26288475678543 AND 30.27151575056207 AND bikeid BETWEEN 297.7851069789108 AND 1923.6668673375245\n",
      "iteration took: 2.69 ms\n",
      "============ starting iteration 27   ============\n",
      "Created query:\n",
      "SELECT _id FROM public.austin_bikes_1000 WHERE bikeid BETWEEN 824.1010041221145 AND 1830.8807260214346 AND start_longitude BETWEEN -97.7580300735944 AND -97.73222961444709 AND end_latitude BETWEEN 30.2665550663979 AND 30.2690383910548\n",
      "iteration took: 1.00 ms\n",
      "============ starting iteration 28   ============\n",
      "Created query:\n",
      "SELECT _id FROM public.austin_bikes_1000 WHERE bikeid BETWEEN 1761.556318027592 AND 2050.6739638668596 AND end_station_name IN ('Long Center @ South 1st & Riverside' , '4th & Congress' , 'Barton Springs @ Kinney Ave')\n",
      "iteration took: 0.00 ms\n",
      "============ starting iteration 29   ============\n",
      "Created query:\n",
      "SELECT _id FROM public.austin_bikes_1000 WHERE end_latitude BETWEEN 30.25772647997481 AND 30.264921628129986 AND end_longitude BETWEEN -97.7627653647619 AND -97.73973770488756 AND start_latitude BETWEEN 30.252970921291176 AND 30.276110442407596\n",
      "iteration took: 2.27 ms\n",
      "============ starting iteration 30   ============\n",
      "Created query:\n",
      "SELECT _id FROM public.austin_bikes_1000 WHERE end_longitude BETWEEN -97.73378650560899 AND -97.72174969186946\n",
      "iteration took: 1.36 ms\n"
     ]
    }
   ],
   "source": [
    "from jaccard_workload_approximator import JaccardWorkloadApproximator\n",
    "\n",
    "workload_approximator = JaccardWorkloadApproximator()\n",
    "workload = workload_approximator.get_workload_approximation(30)"
   ],
   "metadata": {
    "collapsed": false
   }
  },
  {
   "cell_type": "code",
   "execution_count": 14,
   "outputs": [
    {
     "name": "stdout",
     "output_type": "stream",
     "text": [
      "Start running LazyGreedy with type UC\n",
      "============ starting iteration 1   ============\n",
      "iteration took: 105.14 ms\n",
      "============ starting iteration 2   ============\n",
      "iteration took: 246.75 ms\n",
      "============ starting iteration 3   ============\n",
      "iteration took: 304.98 ms\n",
      "============ starting iteration 4   ============\n",
      "iteration took: 335.44 ms\n",
      "============ starting iteration 5   ============\n",
      "iteration took: 331.48 ms\n",
      "============ starting iteration 6   ============\n",
      "iteration took: 388.87 ms\n",
      "============ starting iteration 7   ============\n",
      "iteration took: 402.62 ms\n",
      "============ starting iteration 8   ============\n",
      "iteration took: 386.69 ms\n",
      "============ starting iteration 9   ============\n",
      "iteration took: 433.45 ms\n",
      "============ starting iteration 10   ============\n",
      "iteration took: 464.90 ms\n",
      "============ starting iteration 11   ============\n",
      "iteration took: 513.83 ms\n",
      "============ starting iteration 12   ============\n",
      "iteration took: 510.36 ms\n",
      "============ starting iteration 13   ============\n",
      "iteration took: 571.37 ms\n",
      "============ starting iteration 14   ============\n",
      "iteration took: 576.15 ms\n",
      "============ starting iteration 15   ============\n",
      "iteration took: 665.13 ms\n",
      "============ starting iteration 16   ============\n",
      "iteration took: 654.35 ms\n",
      "============ starting iteration 17   ============\n",
      "iteration took: 659.04 ms\n",
      "============ starting iteration 18   ============\n",
      "iteration took: 723.18 ms\n",
      "============ starting iteration 19   ============\n",
      "iteration took: 742.83 ms\n",
      "============ starting iteration 20   ============\n",
      "iteration took: 760.95 ms\n",
      "============ starting iteration 21   ============\n",
      "iteration took: 790.06 ms\n",
      "============ starting iteration 22   ============\n",
      "iteration took: 820.27 ms\n",
      "============ starting iteration 23   ============\n",
      "iteration took: 848.84 ms\n",
      "============ starting iteration 24   ============\n",
      "iteration took: 892.01 ms\n",
      "============ starting iteration 25   ============\n",
      "iteration took: 911.77 ms\n",
      "============ starting iteration 26   ============\n",
      "iteration took: 942.40 ms\n",
      "============ starting iteration 27   ============\n",
      "iteration took: 983.94 ms\n",
      "============ starting iteration 28   ============\n",
      "iteration took: 1015.81 ms\n",
      "============ starting iteration 29   ============\n",
      "iteration took: 1048.59 ms\n",
      "============ starting iteration 30   ============\n",
      "iteration took: 1069.91 ms\n",
      "============ starting iteration 31   ============\n",
      "iteration took: 3.72 ms\n",
      "LazyGreedy with type UC finished after 31 iterations\n",
      "algorithm took: 19107.84 ms\n",
      "Start running LazyGreedy with type CB\n",
      "============ starting iteration 1   ============\n",
      "iteration took: 105.89 ms\n",
      "============ starting iteration 2   ============\n",
      "iteration took: 226.99 ms\n",
      "============ starting iteration 3   ============\n",
      "iteration took: 259.28 ms\n",
      "============ starting iteration 4   ============\n",
      "iteration took: 282.72 ms\n",
      "============ starting iteration 5   ============\n",
      "iteration took: 329.60 ms\n",
      "============ starting iteration 6   ============\n",
      "iteration took: 348.85 ms\n",
      "============ starting iteration 7   ============\n",
      "iteration took: 376.11 ms\n",
      "============ starting iteration 8   ============\n",
      "iteration took: 414.48 ms\n",
      "============ starting iteration 9   ============\n",
      "iteration took: 435.49 ms\n",
      "============ starting iteration 10   ============\n",
      "iteration took: 497.01 ms\n",
      "============ starting iteration 11   ============\n",
      "iteration took: 494.28 ms\n",
      "============ starting iteration 12   ============\n",
      "iteration took: 570.25 ms\n",
      "============ starting iteration 13   ============\n",
      "iteration took: 568.83 ms\n",
      "============ starting iteration 14   ============\n",
      "iteration took: 618.02 ms\n",
      "============ starting iteration 15   ============\n",
      "iteration took: 603.31 ms\n",
      "============ starting iteration 16   ============\n",
      "iteration took: 655.86 ms\n",
      "============ starting iteration 17   ============\n",
      "iteration took: 710.15 ms\n",
      "============ starting iteration 18   ============\n",
      "iteration took: 674.79 ms\n",
      "============ starting iteration 19   ============\n",
      "iteration took: 738.10 ms\n",
      "============ starting iteration 20   ============\n",
      "iteration took: 780.45 ms\n",
      "============ starting iteration 21   ============\n",
      "iteration took: 797.61 ms\n",
      "============ starting iteration 22   ============\n",
      "iteration took: 814.68 ms\n",
      "============ starting iteration 23   ============\n",
      "iteration took: 847.54 ms\n",
      "============ starting iteration 24   ============\n",
      "iteration took: 1005.94 ms\n",
      "============ starting iteration 25   ============\n",
      "iteration took: 936.72 ms\n",
      "============ starting iteration 26   ============\n",
      "iteration took: 973.33 ms\n",
      "============ starting iteration 27   ============\n",
      "iteration took: 970.55 ms\n",
      "============ starting iteration 28   ============\n",
      "iteration took: 1001.96 ms\n",
      "============ starting iteration 29   ============\n",
      "iteration took: 1125.54 ms\n",
      "============ starting iteration 30   ============\n",
      "iteration took: 1215.48 ms\n",
      "============ starting iteration 31   ============\n",
      "iteration took: 2.99 ms\n",
      "LazyGreedy with type CB finished after 31 iterations\n",
      "algorithm took: 19385.79 ms\n"
     ]
    },
    {
     "data": {
      "text/plain": "[{'_id': 614429,\n  'bikeid': 693,\n  'start_time': datetime.datetime(2016, 3, 20, 19, 46, 36, tzinfo=psycopg2.tz.FixedOffsetTimezone(offset=120, name=None)),\n  'duration_minutes': 8,\n  'start_station_name': '5th & Bowie',\n  'end_station_name': '8th & Congress',\n  'start_latitude': 30.2696,\n  'start_longitude': -97.75332,\n  'end_latitude': 30.2698,\n  'end_longitude': -97.74186},\n {'_id': 614430,\n  'bikeid': 577,\n  'start_time': datetime.datetime(2016, 3, 1, 16, 7, 50, tzinfo=psycopg2.tz.FixedOffsetTimezone(offset=120, name=None)),\n  'duration_minutes': 11,\n  'start_station_name': 'Barton Springs @ Kinney Ave',\n  'end_station_name': '5th & Bowie',\n  'start_latitude': 30.262,\n  'start_longitude': -97.76118,\n  'end_latitude': 30.2696,\n  'end_longitude': -97.75332},\n {'_id': 614431,\n  'bikeid': 465,\n  'start_time': datetime.datetime(2016, 5, 5, 7, 29, 25, tzinfo=psycopg2.tz.FixedOffsetTimezone(offset=180, name=None)),\n  'duration_minutes': 13,\n  'start_station_name': 'South Congress & Academy',\n  'end_station_name': 'Capitol Station / Congress & 11th',\n  'start_latitude': 30.25226,\n  'start_longitude': -97.74854,\n  'end_latitude': 30.2726,\n  'end_longitude': -97.74127},\n {'_id': 614432,\n  'bikeid': 391,\n  'start_time': datetime.datetime(2014, 6, 28, 9, 12, tzinfo=psycopg2.tz.FixedOffsetTimezone(offset=180, name=None)),\n  'duration_minutes': 10,\n  'start_station_name': 'State Capitol Visitors Garage @ San Jacinto & 12th',\n  'end_station_name': '2nd & Congress',\n  'start_latitude': 30.27336,\n  'start_longitude': -97.73805,\n  'end_latitude': 30.26408,\n  'end_longitude': -97.74355},\n {'_id': 614433,\n  'bikeid': 970,\n  'start_time': datetime.datetime(2017, 5, 16, 17, 41, 7, tzinfo=psycopg2.tz.FixedOffsetTimezone(offset=180, name=None)),\n  'duration_minutes': 10,\n  'start_station_name': '6th & Congress',\n  'end_station_name': 'Davis at Rainey Street',\n  'start_latitude': 30.26822,\n  'start_longitude': -97.74285,\n  'end_latitude': 30.26019,\n  'end_longitude': -97.73845},\n {'_id': 614434,\n  'bikeid': 961,\n  'start_time': datetime.datetime(2014, 3, 28, 18, 12, tzinfo=psycopg2.tz.FixedOffsetTimezone(offset=180, name=None)),\n  'duration_minutes': 8,\n  'start_station_name': 'Capitol Station / Congress & 11th',\n  'end_station_name': 'City Hall / Lavaca & 2nd',\n  'start_latitude': 30.2726,\n  'start_longitude': -97.74127,\n  'end_latitude': 30.26476,\n  'end_longitude': -97.74678},\n {'_id': 614435,\n  'bikeid': 775,\n  'start_time': datetime.datetime(2015, 3, 14, 18, 12, tzinfo=psycopg2.tz.FixedOffsetTimezone(offset=120, name=None)),\n  'duration_minutes': 1,\n  'start_station_name': 'Barton Springs & Riverside',\n  'end_station_name': 'Barton Springs & Riverside',\n  'start_latitude': 30.2587,\n  'start_longitude': -97.74872,\n  'end_latitude': 30.2587,\n  'end_longitude': -97.74872},\n {'_id': 614436,\n  'bikeid': 668,\n  'start_time': datetime.datetime(2015, 3, 29, 9, 12, tzinfo=psycopg2.tz.FixedOffsetTimezone(offset=180, name=None)),\n  'duration_minutes': 28,\n  'start_station_name': 'Palmer Auditorium',\n  'end_station_name': '5th & Bowie',\n  'start_latitude': 30.25971,\n  'start_longitude': -97.75346,\n  'end_latitude': 30.2696,\n  'end_longitude': -97.75332},\n {'_id': 614437,\n  'bikeid': 8,\n  'start_time': datetime.datetime(2014, 10, 27, 16, 12, tzinfo=psycopg2.tz.FixedOffsetTimezone(offset=120, name=None)),\n  'duration_minutes': 3,\n  'start_station_name': 'San Jacinto & 8th Street',\n  'end_station_name': 'Convention Center / 4th St. @ MetroRail',\n  'start_latitude': 30.26912,\n  'start_longitude': -97.73986,\n  'end_latitude': 30.26483,\n  'end_longitude': -97.739},\n {'_id': 614438,\n  'bikeid': 37,\n  'start_time': datetime.datetime(2015, 10, 4, 17, 12, 16, tzinfo=psycopg2.tz.FixedOffsetTimezone(offset=180, name=None)),\n  'duration_minutes': 6,\n  'start_station_name': 'Barton Springs @ Kinney Ave',\n  'end_station_name': 'Zilker Park',\n  'start_latitude': 30.262,\n  'start_longitude': -97.76118,\n  'end_latitude': 30.2659,\n  'end_longitude': -97.76822},\n {'_id': 614439,\n  'bikeid': 850,\n  'start_time': datetime.datetime(2014, 8, 30, 11, 12, tzinfo=psycopg2.tz.FixedOffsetTimezone(offset=180, name=None)),\n  'duration_minutes': 7,\n  'start_station_name': 'Long Center @ South 1st & Riverside',\n  'end_station_name': '4th & Congress',\n  'start_latitude': 30.25941,\n  'start_longitude': -97.74971,\n  'end_latitude': 30.26634,\n  'end_longitude': -97.74378},\n {'_id': 614440,\n  'bikeid': 24,\n  'start_time': datetime.datetime(2016, 9, 30, 16, 18, 59, tzinfo=psycopg2.tz.FixedOffsetTimezone(offset=180, name=None)),\n  'duration_minutes': 24,\n  'start_station_name': '2nd & Congress',\n  'end_station_name': 'Zilker Park',\n  'start_latitude': 30.26408,\n  'start_longitude': -97.74355,\n  'end_latitude': 30.2659,\n  'end_longitude': -97.76822},\n {'_id': 614441,\n  'bikeid': 690,\n  'start_time': datetime.datetime(2015, 6, 29, 19, 12, tzinfo=psycopg2.tz.FixedOffsetTimezone(offset=180, name=None)),\n  'duration_minutes': 10,\n  'start_station_name': 'Rainey St @ Cummings',\n  'end_station_name': 'City Hall / Lavaca & 2nd',\n  'start_latitude': 30.25579,\n  'start_longitude': -97.73982,\n  'end_latitude': 30.26476,\n  'end_longitude': -97.74678},\n {'_id': 614442,\n  'bikeid': 551,\n  'start_time': datetime.datetime(2017, 5, 6, 22, 14, 21, tzinfo=psycopg2.tz.FixedOffsetTimezone(offset=180, name=None)),\n  'duration_minutes': 37,\n  'start_station_name': 'Palmer Auditorium',\n  'end_station_name': 'Plaza Saltillo',\n  'start_latitude': 30.25971,\n  'start_longitude': -97.75346,\n  'end_latitude': 30.26217,\n  'end_longitude': -97.72743},\n {'_id': 614443,\n  'bikeid': 685,\n  'start_time': datetime.datetime(2017, 3, 10, 20, 0, tzinfo=psycopg2.tz.FixedOffsetTimezone(offset=120, name=None)),\n  'duration_minutes': 12,\n  'start_station_name': '4th & Congress',\n  'end_station_name': 'East 2nd & Pedernales',\n  'start_latitude': 30.26634,\n  'start_longitude': -97.74378,\n  'end_latitude': 30.25542,\n  'end_longitude': -97.71665},\n {'_id': 614444,\n  'bikeid': 236,\n  'start_time': datetime.datetime(2014, 9, 26, 18, 12, tzinfo=psycopg2.tz.FixedOffsetTimezone(offset=180, name=None)),\n  'duration_minutes': 10,\n  'start_station_name': 'Capitol Station / Congress & 11th',\n  'end_station_name': 'Republic Square @ Guadalupe & 4th St.',\n  'start_latitude': 30.2726,\n  'start_longitude': -97.74127,\n  'end_latitude': 30.26774,\n  'end_longitude': -97.74692},\n {'_id': 614445,\n  'bikeid': 459,\n  'start_time': datetime.datetime(2014, 10, 8, 12, 12, tzinfo=psycopg2.tz.FixedOffsetTimezone(offset=180, name=None)),\n  'duration_minutes': 56,\n  'start_station_name': 'State Capitol Visitors Garage @ San Jacinto & 12th',\n  'end_station_name': 'Convention Center / 4th St. @ MetroRail',\n  'start_latitude': 30.27336,\n  'start_longitude': -97.73805,\n  'end_latitude': 30.26483,\n  'end_longitude': -97.739},\n {'_id': 614446,\n  'bikeid': 669,\n  'start_time': datetime.datetime(2017, 7, 2, 23, 51, 35, tzinfo=psycopg2.tz.FixedOffsetTimezone(offset=180, name=None)),\n  'duration_minutes': 11,\n  'start_station_name': 'South Congress & Academy',\n  'end_station_name': '3rd & West',\n  'start_latitude': 30.25226,\n  'start_longitude': -97.74854,\n  'end_latitude': 30.2678,\n  'end_longitude': -97.75189},\n {'_id': 614447,\n  'bikeid': 140,\n  'start_time': datetime.datetime(2014, 4, 10, 13, 12, tzinfo=psycopg2.tz.FixedOffsetTimezone(offset=180, name=None)),\n  'duration_minutes': 15,\n  'start_station_name': '2nd & Congress',\n  'end_station_name': 'Riverside @ S. Lamar',\n  'start_latitude': 30.26408,\n  'start_longitude': -97.74355,\n  'end_latitude': 30.26446,\n  'end_longitude': -97.75665},\n {'_id': 614448,\n  'bikeid': 37,\n  'start_time': datetime.datetime(2016, 3, 28, 20, 36, 20, tzinfo=psycopg2.tz.FixedOffsetTimezone(offset=180, name=None)),\n  'duration_minutes': 14,\n  'start_station_name': 'UT West Mall @ Guadalupe',\n  'end_station_name': 'Long Center @ South 1st & Riverside',\n  'start_latitude': 30.28576,\n  'start_longitude': -97.74181,\n  'end_latitude': 30.25941,\n  'end_longitude': -97.74971},\n {'_id': 614449,\n  'bikeid': 547,\n  'start_time': datetime.datetime(2015, 8, 5, 20, 12, tzinfo=psycopg2.tz.FixedOffsetTimezone(offset=180, name=None)),\n  'duration_minutes': 7,\n  'start_station_name': 'West & 6th St.',\n  'end_station_name': 'Trinity & 6th Street',\n  'start_latitude': 30.27041,\n  'start_longitude': -97.75046,\n  'end_latitude': 30.26735,\n  'end_longitude': -97.73933},\n {'_id': 614450,\n  'bikeid': 117,\n  'start_time': datetime.datetime(2016, 1, 23, 16, 12, 38, tzinfo=psycopg2.tz.FixedOffsetTimezone(offset=120, name=None)),\n  'duration_minutes': 8,\n  'start_station_name': 'Rainey St @ Cummings',\n  'end_station_name': '2nd & Congress',\n  'start_latitude': 30.25579,\n  'start_longitude': -97.73982,\n  'end_latitude': 30.26408,\n  'end_longitude': -97.74355},\n {'_id': 614451,\n  'bikeid': 661,\n  'start_time': datetime.datetime(2016, 10, 7, 16, 4, 4, tzinfo=psycopg2.tz.FixedOffsetTimezone(offset=180, name=None)),\n  'duration_minutes': 41,\n  'start_station_name': 'Convention Center / 3rd & Trinity',\n  'end_station_name': 'Zilker Park West',\n  'start_latitude': 30.26426,\n  'start_longitude': -97.74023,\n  'end_latitude': 30.26587,\n  'end_longitude': -97.76826},\n {'_id': 614452,\n  'bikeid': 183,\n  'start_time': datetime.datetime(2017, 5, 22, 16, 46, 13, tzinfo=psycopg2.tz.FixedOffsetTimezone(offset=180, name=None)),\n  'duration_minutes': 44,\n  'start_station_name': 'Barton Springs @ Kinney Ave',\n  'end_station_name': 'Zilker Park',\n  'start_latitude': 30.262,\n  'start_longitude': -97.76118,\n  'end_latitude': 30.2659,\n  'end_longitude': -97.76822},\n {'_id': 614453,\n  'bikeid': 188,\n  'start_time': datetime.datetime(2015, 7, 8, 9, 12, tzinfo=psycopg2.tz.FixedOffsetTimezone(offset=180, name=None)),\n  'duration_minutes': 7,\n  'start_station_name': 'Waller & 6th St.',\n  'end_station_name': 'Rainey St @ Cummings',\n  'start_latitude': 30.26461,\n  'start_longitude': -97.73049,\n  'end_latitude': 30.25579,\n  'end_longitude': -97.73982},\n {'_id': 614454,\n  'bikeid': 789,\n  'start_time': datetime.datetime(2015, 7, 31, 18, 12, tzinfo=psycopg2.tz.FixedOffsetTimezone(offset=180, name=None)),\n  'duration_minutes': 0,\n  'start_station_name': '2nd & Congress',\n  'end_station_name': 'West & 6th St.',\n  'start_latitude': 30.26408,\n  'start_longitude': -97.74355,\n  'end_latitude': 30.27041,\n  'end_longitude': -97.75046},\n {'_id': 614455,\n  'bikeid': 95,\n  'start_time': datetime.datetime(2017, 4, 7, 13, 27, 57, tzinfo=psycopg2.tz.FixedOffsetTimezone(offset=180, name=None)),\n  'duration_minutes': 31,\n  'start_station_name': 'MoPac Pedestrian Bridge @ Veterans Drive',\n  'end_station_name': 'Capitol Station / Congress & 11th',\n  'start_latitude': 30.27466,\n  'start_longitude': -97.77028,\n  'end_latitude': 30.2726,\n  'end_longitude': -97.74127},\n {'_id': 614456,\n  'bikeid': 746,\n  'start_time': datetime.datetime(2016, 6, 29, 14, 16, 20, tzinfo=psycopg2.tz.FixedOffsetTimezone(offset=180, name=None)),\n  'duration_minutes': 88,\n  'start_station_name': 'Barton Springs & Riverside',\n  'end_station_name': 'Bullock Museum @ Congress & MLK',\n  'start_latitude': 30.2587,\n  'start_longitude': -97.74872,\n  'end_latitude': 30.28039,\n  'end_longitude': -97.73809},\n {'_id': 614457,\n  'bikeid': 25,\n  'start_time': datetime.datetime(2017, 7, 23, 17, 54, 15, tzinfo=psycopg2.tz.FixedOffsetTimezone(offset=180, name=None)),\n  'duration_minutes': 59,\n  'start_station_name': 'UT West Mall @ Guadalupe',\n  'end_station_name': 'Medina & East 6th',\n  'start_latitude': 30.28576,\n  'start_longitude': -97.74181,\n  'end_latitude': 30.26455,\n  'end_longitude': -97.73165},\n {'_id': 614458,\n  'bikeid': 865,\n  'start_time': datetime.datetime(2014, 12, 15, 16, 12, tzinfo=psycopg2.tz.FixedOffsetTimezone(offset=120, name=None)),\n  'duration_minutes': 19,\n  'start_station_name': 'Barton Springs & Riverside',\n  'end_station_name': 'Riverside @ S. Lamar',\n  'start_latitude': 30.2587,\n  'start_longitude': -97.74872,\n  'end_latitude': 30.26446,\n  'end_longitude': -97.75665}]"
     },
     "execution_count": 14,
     "metadata": {},
     "output_type": "execute_result"
    }
   ],
   "source": [
    "from saqp_manager import SaqpManager\n",
    "\n",
    "saqp_manager = SaqpManager([query[0] for query in workload], [query[1] for query in workload], 30)\n",
    "sample = saqp_manager.get_sample()\n",
    "sample"
   ],
   "metadata": {
    "collapsed": false
   }
  },
  {
   "cell_type": "code",
   "execution_count": 15,
   "outputs": [
    {
     "data": {
      "text/plain": "       _id  bikeid                 start_time  duration_minutes  \\\n0   614429     693  2016-03-20 19:46:36+02:00                 8   \n1   614430     577  2016-03-01 16:07:50+02:00                11   \n2   614431     465  2016-05-05 07:29:25+03:00                13   \n3   614432     391  2014-06-28 09:12:00+03:00                10   \n4   614433     970  2017-05-16 17:41:07+03:00                10   \n5   614434     961  2014-03-28 18:12:00+03:00                 8   \n6   614435     775  2015-03-14 18:12:00+02:00                 1   \n7   614436     668  2015-03-29 09:12:00+03:00                28   \n8   614437       8  2014-10-27 16:12:00+02:00                 3   \n9   614438      37  2015-10-04 17:12:16+03:00                 6   \n10  614439     850  2014-08-30 11:12:00+03:00                 7   \n11  614440      24  2016-09-30 16:18:59+03:00                24   \n12  614441     690  2015-06-29 19:12:00+03:00                10   \n13  614442     551  2017-05-06 22:14:21+03:00                37   \n14  614443     685  2017-03-10 20:00:00+02:00                12   \n15  614444     236  2014-09-26 18:12:00+03:00                10   \n16  614445     459  2014-10-08 12:12:00+03:00                56   \n17  614446     669  2017-07-02 23:51:35+03:00                11   \n18  614447     140  2014-04-10 13:12:00+03:00                15   \n19  614448      37  2016-03-28 20:36:20+03:00                14   \n20  614449     547  2015-08-05 20:12:00+03:00                 7   \n21  614450     117  2016-01-23 16:12:38+02:00                 8   \n22  614451     661  2016-10-07 16:04:04+03:00                41   \n23  614452     183  2017-05-22 16:46:13+03:00                44   \n24  614453     188  2015-07-08 09:12:00+03:00                 7   \n25  614454     789  2015-07-31 18:12:00+03:00                 0   \n26  614455      95  2017-04-07 13:27:57+03:00                31   \n27  614456     746  2016-06-29 14:16:20+03:00                88   \n28  614457      25  2017-07-23 17:54:15+03:00                59   \n29  614458     865  2014-12-15 16:12:00+02:00                19   \n\n                                   start_station_name  \\\n0                                         5th & Bowie   \n1                         Barton Springs @ Kinney Ave   \n2                            South Congress & Academy   \n3   State Capitol Visitors Garage @ San Jacinto & ...   \n4                                      6th & Congress   \n5                   Capitol Station / Congress & 11th   \n6                          Barton Springs & Riverside   \n7                                   Palmer Auditorium   \n8                            San Jacinto & 8th Street   \n9                         Barton Springs @ Kinney Ave   \n10                Long Center @ South 1st & Riverside   \n11                                     2nd & Congress   \n12                               Rainey St @ Cummings   \n13                                  Palmer Auditorium   \n14                                     4th & Congress   \n15                  Capitol Station / Congress & 11th   \n16  State Capitol Visitors Garage @ San Jacinto & ...   \n17                           South Congress & Academy   \n18                                     2nd & Congress   \n19                           UT West Mall @ Guadalupe   \n20                                     West & 6th St.   \n21                               Rainey St @ Cummings   \n22                  Convention Center / 3rd & Trinity   \n23                        Barton Springs @ Kinney Ave   \n24                                   Waller & 6th St.   \n25                                     2nd & Congress   \n26           MoPac Pedestrian Bridge @ Veterans Drive   \n27                         Barton Springs & Riverside   \n28                           UT West Mall @ Guadalupe   \n29                         Barton Springs & Riverside   \n\n                           end_station_name  start_latitude  start_longitude  \\\n0                            8th & Congress        30.26960        -97.75332   \n1                               5th & Bowie        30.26200        -97.76118   \n2         Capitol Station / Congress & 11th        30.25226        -97.74854   \n3                            2nd & Congress        30.27336        -97.73805   \n4                    Davis at Rainey Street        30.26822        -97.74285   \n5                  City Hall / Lavaca & 2nd        30.27260        -97.74127   \n6                Barton Springs & Riverside        30.25870        -97.74872   \n7                               5th & Bowie        30.25971        -97.75346   \n8   Convention Center / 4th St. @ MetroRail        30.26912        -97.73986   \n9                               Zilker Park        30.26200        -97.76118   \n10                           4th & Congress        30.25941        -97.74971   \n11                              Zilker Park        30.26408        -97.74355   \n12                 City Hall / Lavaca & 2nd        30.25579        -97.73982   \n13                           Plaza Saltillo        30.25971        -97.75346   \n14                    East 2nd & Pedernales        30.26634        -97.74378   \n15    Republic Square @ Guadalupe & 4th St.        30.27260        -97.74127   \n16  Convention Center / 4th St. @ MetroRail        30.27336        -97.73805   \n17                               3rd & West        30.25226        -97.74854   \n18                     Riverside @ S. Lamar        30.26408        -97.74355   \n19      Long Center @ South 1st & Riverside        30.28576        -97.74181   \n20                     Trinity & 6th Street        30.27041        -97.75046   \n21                           2nd & Congress        30.25579        -97.73982   \n22                         Zilker Park West        30.26426        -97.74023   \n23                              Zilker Park        30.26200        -97.76118   \n24                     Rainey St @ Cummings        30.26461        -97.73049   \n25                           West & 6th St.        30.26408        -97.74355   \n26        Capitol Station / Congress & 11th        30.27466        -97.77028   \n27          Bullock Museum @ Congress & MLK        30.25870        -97.74872   \n28                        Medina & East 6th        30.28576        -97.74181   \n29                     Riverside @ S. Lamar        30.25870        -97.74872   \n\n    end_latitude  end_longitude  \n0       30.26980      -97.74186  \n1       30.26960      -97.75332  \n2       30.27260      -97.74127  \n3       30.26408      -97.74355  \n4       30.26019      -97.73845  \n5       30.26476      -97.74678  \n6       30.25870      -97.74872  \n7       30.26960      -97.75332  \n8       30.26483      -97.73900  \n9       30.26590      -97.76822  \n10      30.26634      -97.74378  \n11      30.26590      -97.76822  \n12      30.26476      -97.74678  \n13      30.26217      -97.72743  \n14      30.25542      -97.71665  \n15      30.26774      -97.74692  \n16      30.26483      -97.73900  \n17      30.26780      -97.75189  \n18      30.26446      -97.75665  \n19      30.25941      -97.74971  \n20      30.26735      -97.73933  \n21      30.26408      -97.74355  \n22      30.26587      -97.76826  \n23      30.26590      -97.76822  \n24      30.25579      -97.73982  \n25      30.27041      -97.75046  \n26      30.27260      -97.74127  \n27      30.28039      -97.73809  \n28      30.26455      -97.73165  \n29      30.26446      -97.75665  ",
      "text/html": "<div>\n<style scoped>\n    .dataframe tbody tr th:only-of-type {\n        vertical-align: middle;\n    }\n\n    .dataframe tbody tr th {\n        vertical-align: top;\n    }\n\n    .dataframe thead th {\n        text-align: right;\n    }\n</style>\n<table border=\"1\" class=\"dataframe\">\n  <thead>\n    <tr style=\"text-align: right;\">\n      <th></th>\n      <th>_id</th>\n      <th>bikeid</th>\n      <th>start_time</th>\n      <th>duration_minutes</th>\n      <th>start_station_name</th>\n      <th>end_station_name</th>\n      <th>start_latitude</th>\n      <th>start_longitude</th>\n      <th>end_latitude</th>\n      <th>end_longitude</th>\n    </tr>\n  </thead>\n  <tbody>\n    <tr>\n      <th>0</th>\n      <td>614429</td>\n      <td>693</td>\n      <td>2016-03-20 19:46:36+02:00</td>\n      <td>8</td>\n      <td>5th &amp; Bowie</td>\n      <td>8th &amp; Congress</td>\n      <td>30.26960</td>\n      <td>-97.75332</td>\n      <td>30.26980</td>\n      <td>-97.74186</td>\n    </tr>\n    <tr>\n      <th>1</th>\n      <td>614430</td>\n      <td>577</td>\n      <td>2016-03-01 16:07:50+02:00</td>\n      <td>11</td>\n      <td>Barton Springs @ Kinney Ave</td>\n      <td>5th &amp; Bowie</td>\n      <td>30.26200</td>\n      <td>-97.76118</td>\n      <td>30.26960</td>\n      <td>-97.75332</td>\n    </tr>\n    <tr>\n      <th>2</th>\n      <td>614431</td>\n      <td>465</td>\n      <td>2016-05-05 07:29:25+03:00</td>\n      <td>13</td>\n      <td>South Congress &amp; Academy</td>\n      <td>Capitol Station / Congress &amp; 11th</td>\n      <td>30.25226</td>\n      <td>-97.74854</td>\n      <td>30.27260</td>\n      <td>-97.74127</td>\n    </tr>\n    <tr>\n      <th>3</th>\n      <td>614432</td>\n      <td>391</td>\n      <td>2014-06-28 09:12:00+03:00</td>\n      <td>10</td>\n      <td>State Capitol Visitors Garage @ San Jacinto &amp; ...</td>\n      <td>2nd &amp; Congress</td>\n      <td>30.27336</td>\n      <td>-97.73805</td>\n      <td>30.26408</td>\n      <td>-97.74355</td>\n    </tr>\n    <tr>\n      <th>4</th>\n      <td>614433</td>\n      <td>970</td>\n      <td>2017-05-16 17:41:07+03:00</td>\n      <td>10</td>\n      <td>6th &amp; Congress</td>\n      <td>Davis at Rainey Street</td>\n      <td>30.26822</td>\n      <td>-97.74285</td>\n      <td>30.26019</td>\n      <td>-97.73845</td>\n    </tr>\n    <tr>\n      <th>5</th>\n      <td>614434</td>\n      <td>961</td>\n      <td>2014-03-28 18:12:00+03:00</td>\n      <td>8</td>\n      <td>Capitol Station / Congress &amp; 11th</td>\n      <td>City Hall / Lavaca &amp; 2nd</td>\n      <td>30.27260</td>\n      <td>-97.74127</td>\n      <td>30.26476</td>\n      <td>-97.74678</td>\n    </tr>\n    <tr>\n      <th>6</th>\n      <td>614435</td>\n      <td>775</td>\n      <td>2015-03-14 18:12:00+02:00</td>\n      <td>1</td>\n      <td>Barton Springs &amp; Riverside</td>\n      <td>Barton Springs &amp; Riverside</td>\n      <td>30.25870</td>\n      <td>-97.74872</td>\n      <td>30.25870</td>\n      <td>-97.74872</td>\n    </tr>\n    <tr>\n      <th>7</th>\n      <td>614436</td>\n      <td>668</td>\n      <td>2015-03-29 09:12:00+03:00</td>\n      <td>28</td>\n      <td>Palmer Auditorium</td>\n      <td>5th &amp; Bowie</td>\n      <td>30.25971</td>\n      <td>-97.75346</td>\n      <td>30.26960</td>\n      <td>-97.75332</td>\n    </tr>\n    <tr>\n      <th>8</th>\n      <td>614437</td>\n      <td>8</td>\n      <td>2014-10-27 16:12:00+02:00</td>\n      <td>3</td>\n      <td>San Jacinto &amp; 8th Street</td>\n      <td>Convention Center / 4th St. @ MetroRail</td>\n      <td>30.26912</td>\n      <td>-97.73986</td>\n      <td>30.26483</td>\n      <td>-97.73900</td>\n    </tr>\n    <tr>\n      <th>9</th>\n      <td>614438</td>\n      <td>37</td>\n      <td>2015-10-04 17:12:16+03:00</td>\n      <td>6</td>\n      <td>Barton Springs @ Kinney Ave</td>\n      <td>Zilker Park</td>\n      <td>30.26200</td>\n      <td>-97.76118</td>\n      <td>30.26590</td>\n      <td>-97.76822</td>\n    </tr>\n    <tr>\n      <th>10</th>\n      <td>614439</td>\n      <td>850</td>\n      <td>2014-08-30 11:12:00+03:00</td>\n      <td>7</td>\n      <td>Long Center @ South 1st &amp; Riverside</td>\n      <td>4th &amp; Congress</td>\n      <td>30.25941</td>\n      <td>-97.74971</td>\n      <td>30.26634</td>\n      <td>-97.74378</td>\n    </tr>\n    <tr>\n      <th>11</th>\n      <td>614440</td>\n      <td>24</td>\n      <td>2016-09-30 16:18:59+03:00</td>\n      <td>24</td>\n      <td>2nd &amp; Congress</td>\n      <td>Zilker Park</td>\n      <td>30.26408</td>\n      <td>-97.74355</td>\n      <td>30.26590</td>\n      <td>-97.76822</td>\n    </tr>\n    <tr>\n      <th>12</th>\n      <td>614441</td>\n      <td>690</td>\n      <td>2015-06-29 19:12:00+03:00</td>\n      <td>10</td>\n      <td>Rainey St @ Cummings</td>\n      <td>City Hall / Lavaca &amp; 2nd</td>\n      <td>30.25579</td>\n      <td>-97.73982</td>\n      <td>30.26476</td>\n      <td>-97.74678</td>\n    </tr>\n    <tr>\n      <th>13</th>\n      <td>614442</td>\n      <td>551</td>\n      <td>2017-05-06 22:14:21+03:00</td>\n      <td>37</td>\n      <td>Palmer Auditorium</td>\n      <td>Plaza Saltillo</td>\n      <td>30.25971</td>\n      <td>-97.75346</td>\n      <td>30.26217</td>\n      <td>-97.72743</td>\n    </tr>\n    <tr>\n      <th>14</th>\n      <td>614443</td>\n      <td>685</td>\n      <td>2017-03-10 20:00:00+02:00</td>\n      <td>12</td>\n      <td>4th &amp; Congress</td>\n      <td>East 2nd &amp; Pedernales</td>\n      <td>30.26634</td>\n      <td>-97.74378</td>\n      <td>30.25542</td>\n      <td>-97.71665</td>\n    </tr>\n    <tr>\n      <th>15</th>\n      <td>614444</td>\n      <td>236</td>\n      <td>2014-09-26 18:12:00+03:00</td>\n      <td>10</td>\n      <td>Capitol Station / Congress &amp; 11th</td>\n      <td>Republic Square @ Guadalupe &amp; 4th St.</td>\n      <td>30.27260</td>\n      <td>-97.74127</td>\n      <td>30.26774</td>\n      <td>-97.74692</td>\n    </tr>\n    <tr>\n      <th>16</th>\n      <td>614445</td>\n      <td>459</td>\n      <td>2014-10-08 12:12:00+03:00</td>\n      <td>56</td>\n      <td>State Capitol Visitors Garage @ San Jacinto &amp; ...</td>\n      <td>Convention Center / 4th St. @ MetroRail</td>\n      <td>30.27336</td>\n      <td>-97.73805</td>\n      <td>30.26483</td>\n      <td>-97.73900</td>\n    </tr>\n    <tr>\n      <th>17</th>\n      <td>614446</td>\n      <td>669</td>\n      <td>2017-07-02 23:51:35+03:00</td>\n      <td>11</td>\n      <td>South Congress &amp; Academy</td>\n      <td>3rd &amp; West</td>\n      <td>30.25226</td>\n      <td>-97.74854</td>\n      <td>30.26780</td>\n      <td>-97.75189</td>\n    </tr>\n    <tr>\n      <th>18</th>\n      <td>614447</td>\n      <td>140</td>\n      <td>2014-04-10 13:12:00+03:00</td>\n      <td>15</td>\n      <td>2nd &amp; Congress</td>\n      <td>Riverside @ S. Lamar</td>\n      <td>30.26408</td>\n      <td>-97.74355</td>\n      <td>30.26446</td>\n      <td>-97.75665</td>\n    </tr>\n    <tr>\n      <th>19</th>\n      <td>614448</td>\n      <td>37</td>\n      <td>2016-03-28 20:36:20+03:00</td>\n      <td>14</td>\n      <td>UT West Mall @ Guadalupe</td>\n      <td>Long Center @ South 1st &amp; Riverside</td>\n      <td>30.28576</td>\n      <td>-97.74181</td>\n      <td>30.25941</td>\n      <td>-97.74971</td>\n    </tr>\n    <tr>\n      <th>20</th>\n      <td>614449</td>\n      <td>547</td>\n      <td>2015-08-05 20:12:00+03:00</td>\n      <td>7</td>\n      <td>West &amp; 6th St.</td>\n      <td>Trinity &amp; 6th Street</td>\n      <td>30.27041</td>\n      <td>-97.75046</td>\n      <td>30.26735</td>\n      <td>-97.73933</td>\n    </tr>\n    <tr>\n      <th>21</th>\n      <td>614450</td>\n      <td>117</td>\n      <td>2016-01-23 16:12:38+02:00</td>\n      <td>8</td>\n      <td>Rainey St @ Cummings</td>\n      <td>2nd &amp; Congress</td>\n      <td>30.25579</td>\n      <td>-97.73982</td>\n      <td>30.26408</td>\n      <td>-97.74355</td>\n    </tr>\n    <tr>\n      <th>22</th>\n      <td>614451</td>\n      <td>661</td>\n      <td>2016-10-07 16:04:04+03:00</td>\n      <td>41</td>\n      <td>Convention Center / 3rd &amp; Trinity</td>\n      <td>Zilker Park West</td>\n      <td>30.26426</td>\n      <td>-97.74023</td>\n      <td>30.26587</td>\n      <td>-97.76826</td>\n    </tr>\n    <tr>\n      <th>23</th>\n      <td>614452</td>\n      <td>183</td>\n      <td>2017-05-22 16:46:13+03:00</td>\n      <td>44</td>\n      <td>Barton Springs @ Kinney Ave</td>\n      <td>Zilker Park</td>\n      <td>30.26200</td>\n      <td>-97.76118</td>\n      <td>30.26590</td>\n      <td>-97.76822</td>\n    </tr>\n    <tr>\n      <th>24</th>\n      <td>614453</td>\n      <td>188</td>\n      <td>2015-07-08 09:12:00+03:00</td>\n      <td>7</td>\n      <td>Waller &amp; 6th St.</td>\n      <td>Rainey St @ Cummings</td>\n      <td>30.26461</td>\n      <td>-97.73049</td>\n      <td>30.25579</td>\n      <td>-97.73982</td>\n    </tr>\n    <tr>\n      <th>25</th>\n      <td>614454</td>\n      <td>789</td>\n      <td>2015-07-31 18:12:00+03:00</td>\n      <td>0</td>\n      <td>2nd &amp; Congress</td>\n      <td>West &amp; 6th St.</td>\n      <td>30.26408</td>\n      <td>-97.74355</td>\n      <td>30.27041</td>\n      <td>-97.75046</td>\n    </tr>\n    <tr>\n      <th>26</th>\n      <td>614455</td>\n      <td>95</td>\n      <td>2017-04-07 13:27:57+03:00</td>\n      <td>31</td>\n      <td>MoPac Pedestrian Bridge @ Veterans Drive</td>\n      <td>Capitol Station / Congress &amp; 11th</td>\n      <td>30.27466</td>\n      <td>-97.77028</td>\n      <td>30.27260</td>\n      <td>-97.74127</td>\n    </tr>\n    <tr>\n      <th>27</th>\n      <td>614456</td>\n      <td>746</td>\n      <td>2016-06-29 14:16:20+03:00</td>\n      <td>88</td>\n      <td>Barton Springs &amp; Riverside</td>\n      <td>Bullock Museum @ Congress &amp; MLK</td>\n      <td>30.25870</td>\n      <td>-97.74872</td>\n      <td>30.28039</td>\n      <td>-97.73809</td>\n    </tr>\n    <tr>\n      <th>28</th>\n      <td>614457</td>\n      <td>25</td>\n      <td>2017-07-23 17:54:15+03:00</td>\n      <td>59</td>\n      <td>UT West Mall @ Guadalupe</td>\n      <td>Medina &amp; East 6th</td>\n      <td>30.28576</td>\n      <td>-97.74181</td>\n      <td>30.26455</td>\n      <td>-97.73165</td>\n    </tr>\n    <tr>\n      <th>29</th>\n      <td>614458</td>\n      <td>865</td>\n      <td>2014-12-15 16:12:00+02:00</td>\n      <td>19</td>\n      <td>Barton Springs &amp; Riverside</td>\n      <td>Riverside @ S. Lamar</td>\n      <td>30.25870</td>\n      <td>-97.74872</td>\n      <td>30.26446</td>\n      <td>-97.75665</td>\n    </tr>\n  </tbody>\n</table>\n</div>"
     },
     "execution_count": 15,
     "metadata": {},
     "output_type": "execute_result"
    }
   ],
   "source": [
    "df = pd.DataFrame(sample)"
   ],
   "metadata": {
    "collapsed": false
   }
  },
  {
   "cell_type": "code",
   "execution_count": 18,
   "outputs": [
    {
     "data": {
      "text/plain": "        _id  bikeid                 start_time  duration_minutes  \\\n0    614435     775  2015-03-14 18:12:00+02:00                 1   \n1    614448      37  2016-03-28 20:36:20+03:00                14   \n2    614467     124  2016-05-29 11:03:32+03:00                53   \n3    614470     625  2015-09-07 22:12:09+03:00                19   \n4    614503     745  2016-10-24 16:15:51+03:00                65   \n..      ...     ...                        ...               ...   \n110  615405     789  2015-11-14 07:12:23+02:00                 4   \n111  615408     865  2015-10-03 12:12:50+03:00                36   \n112  615409     406  2015-07-04 17:12:00+03:00                10   \n113  615416     327  2016-01-31 18:10:23+02:00                12   \n114  615422     685  2016-09-30 10:37:26+03:00                45   \n\n                          start_station_name  \\\n0                 Barton Springs & Riverside   \n1                   UT West Mall @ Guadalupe   \n2                       Rainey St @ Cummings   \n3                Barton Springs @ Kinney Ave   \n4        Long Center @ South 1st & Riverside   \n..                                       ...   \n110                               3rd & West   \n111      Long Center @ South 1st & Riverside   \n112                     Rainey St @ Cummings   \n113  Convention Center / 4th St. @ MetroRail   \n114      Long Center @ South 1st & Riverside   \n\n                        end_station_name  start_latitude  start_longitude  \\\n0             Barton Springs & Riverside        30.25870        -97.74872   \n1    Long Center @ South 1st & Riverside        30.28576        -97.74181   \n2             Barton Springs & Riverside        30.25579        -97.73982   \n3    Long Center @ South 1st & Riverside        30.26200        -97.76118   \n4    Long Center @ South 1st & Riverside        30.25941        -97.74971   \n..                                   ...             ...              ...   \n110              Toomey Rd @ South Lamar        30.26780        -97.75189   \n111              Toomey Rd @ South Lamar        30.25941        -97.74971   \n112           Barton Springs & Riverside        30.25579        -97.73982   \n113                    Rainey @ River St        30.26483        -97.73900   \n114  Long Center @ South 1st & Riverside        30.25941        -97.74971   \n\n     end_latitude  end_longitude  \n0        30.25870      -97.74872  \n1        30.25941      -97.74971  \n2        30.25870      -97.74872  \n3        30.25941      -97.74971  \n4        30.25941      -97.74971  \n..            ...            ...  \n110      30.26304      -97.75824  \n111      30.26304      -97.75824  \n112      30.25870      -97.74872  \n113      30.25802      -97.73910  \n114      30.25941      -97.74971  \n\n[115 rows x 10 columns]",
      "text/html": "<div>\n<style scoped>\n    .dataframe tbody tr th:only-of-type {\n        vertical-align: middle;\n    }\n\n    .dataframe tbody tr th {\n        vertical-align: top;\n    }\n\n    .dataframe thead th {\n        text-align: right;\n    }\n</style>\n<table border=\"1\" class=\"dataframe\">\n  <thead>\n    <tr style=\"text-align: right;\">\n      <th></th>\n      <th>_id</th>\n      <th>bikeid</th>\n      <th>start_time</th>\n      <th>duration_minutes</th>\n      <th>start_station_name</th>\n      <th>end_station_name</th>\n      <th>start_latitude</th>\n      <th>start_longitude</th>\n      <th>end_latitude</th>\n      <th>end_longitude</th>\n    </tr>\n  </thead>\n  <tbody>\n    <tr>\n      <th>0</th>\n      <td>614435</td>\n      <td>775</td>\n      <td>2015-03-14 18:12:00+02:00</td>\n      <td>1</td>\n      <td>Barton Springs &amp; Riverside</td>\n      <td>Barton Springs &amp; Riverside</td>\n      <td>30.25870</td>\n      <td>-97.74872</td>\n      <td>30.25870</td>\n      <td>-97.74872</td>\n    </tr>\n    <tr>\n      <th>1</th>\n      <td>614448</td>\n      <td>37</td>\n      <td>2016-03-28 20:36:20+03:00</td>\n      <td>14</td>\n      <td>UT West Mall @ Guadalupe</td>\n      <td>Long Center @ South 1st &amp; Riverside</td>\n      <td>30.28576</td>\n      <td>-97.74181</td>\n      <td>30.25941</td>\n      <td>-97.74971</td>\n    </tr>\n    <tr>\n      <th>2</th>\n      <td>614467</td>\n      <td>124</td>\n      <td>2016-05-29 11:03:32+03:00</td>\n      <td>53</td>\n      <td>Rainey St @ Cummings</td>\n      <td>Barton Springs &amp; Riverside</td>\n      <td>30.25579</td>\n      <td>-97.73982</td>\n      <td>30.25870</td>\n      <td>-97.74872</td>\n    </tr>\n    <tr>\n      <th>3</th>\n      <td>614470</td>\n      <td>625</td>\n      <td>2015-09-07 22:12:09+03:00</td>\n      <td>19</td>\n      <td>Barton Springs @ Kinney Ave</td>\n      <td>Long Center @ South 1st &amp; Riverside</td>\n      <td>30.26200</td>\n      <td>-97.76118</td>\n      <td>30.25941</td>\n      <td>-97.74971</td>\n    </tr>\n    <tr>\n      <th>4</th>\n      <td>614503</td>\n      <td>745</td>\n      <td>2016-10-24 16:15:51+03:00</td>\n      <td>65</td>\n      <td>Long Center @ South 1st &amp; Riverside</td>\n      <td>Long Center @ South 1st &amp; Riverside</td>\n      <td>30.25941</td>\n      <td>-97.74971</td>\n      <td>30.25941</td>\n      <td>-97.74971</td>\n    </tr>\n    <tr>\n      <th>...</th>\n      <td>...</td>\n      <td>...</td>\n      <td>...</td>\n      <td>...</td>\n      <td>...</td>\n      <td>...</td>\n      <td>...</td>\n      <td>...</td>\n      <td>...</td>\n      <td>...</td>\n    </tr>\n    <tr>\n      <th>110</th>\n      <td>615405</td>\n      <td>789</td>\n      <td>2015-11-14 07:12:23+02:00</td>\n      <td>4</td>\n      <td>3rd &amp; West</td>\n      <td>Toomey Rd @ South Lamar</td>\n      <td>30.26780</td>\n      <td>-97.75189</td>\n      <td>30.26304</td>\n      <td>-97.75824</td>\n    </tr>\n    <tr>\n      <th>111</th>\n      <td>615408</td>\n      <td>865</td>\n      <td>2015-10-03 12:12:50+03:00</td>\n      <td>36</td>\n      <td>Long Center @ South 1st &amp; Riverside</td>\n      <td>Toomey Rd @ South Lamar</td>\n      <td>30.25941</td>\n      <td>-97.74971</td>\n      <td>30.26304</td>\n      <td>-97.75824</td>\n    </tr>\n    <tr>\n      <th>112</th>\n      <td>615409</td>\n      <td>406</td>\n      <td>2015-07-04 17:12:00+03:00</td>\n      <td>10</td>\n      <td>Rainey St @ Cummings</td>\n      <td>Barton Springs &amp; Riverside</td>\n      <td>30.25579</td>\n      <td>-97.73982</td>\n      <td>30.25870</td>\n      <td>-97.74872</td>\n    </tr>\n    <tr>\n      <th>113</th>\n      <td>615416</td>\n      <td>327</td>\n      <td>2016-01-31 18:10:23+02:00</td>\n      <td>12</td>\n      <td>Convention Center / 4th St. @ MetroRail</td>\n      <td>Rainey @ River St</td>\n      <td>30.26483</td>\n      <td>-97.73900</td>\n      <td>30.25802</td>\n      <td>-97.73910</td>\n    </tr>\n    <tr>\n      <th>114</th>\n      <td>615422</td>\n      <td>685</td>\n      <td>2016-09-30 10:37:26+03:00</td>\n      <td>45</td>\n      <td>Long Center @ South 1st &amp; Riverside</td>\n      <td>Long Center @ South 1st &amp; Riverside</td>\n      <td>30.25941</td>\n      <td>-97.74971</td>\n      <td>30.25941</td>\n      <td>-97.74971</td>\n    </tr>\n  </tbody>\n</table>\n<p>115 rows × 10 columns</p>\n</div>"
     },
     "execution_count": 18,
     "metadata": {},
     "output_type": "execute_result"
    }
   ],
   "source": [
    "from data_access import DataAccess\n",
    "\n",
    "dataAccess = DataAccess()\n",
    "dataAccess.select_to_df(\"SELECT * FROM public.austin_bikes_1000 WHERE end_latitude BETWEEN 30.257 AND 30.264 AND end_longitude BETWEEN -97.762 AND -97.739\")"
   ],
   "metadata": {
    "collapsed": false
   }
  },
  {
   "cell_type": "code",
   "execution_count": null,
   "outputs": [],
   "source": [],
   "metadata": {
    "collapsed": false
   }
  }
 ],
 "metadata": {
  "kernelspec": {
   "display_name": "Python 3",
   "language": "python",
   "name": "python3"
  },
  "language_info": {
   "codemirror_mode": {
    "name": "ipython",
    "version": 2
   },
   "file_extension": ".py",
   "mimetype": "text/x-python",
   "name": "python",
   "nbconvert_exporter": "python",
   "pygments_lexer": "ipython2",
   "version": "2.7.6"
  }
 },
 "nbformat": 4,
 "nbformat_minor": 0
}
