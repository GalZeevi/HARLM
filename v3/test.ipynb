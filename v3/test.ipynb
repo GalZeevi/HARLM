{
 "cells": [
  {
   "cell_type": "code",
   "execution_count": 22,
   "metadata": {
    "collapsed": true
   },
   "outputs": [
    {
     "data": {
      "text/plain": "            FL_DATE OP_CARRIER  OP_CARRIER_FL_NUM ORIGIN DEST  CRS_DEP_TIME  \\\n0        2009-01-01         XE               1204    DCA  EWR          1100   \n1        2009-01-01         XE               1206    EWR  IAD          1510   \n2        2009-01-01         XE               1207    EWR  DCA          1100   \n3        2009-01-01         XE               1208    DCA  EWR          1240   \n4        2009-01-01         XE               1209    IAD  EWR          1715   \n...             ...        ...                ...    ...  ...           ...   \n6429333  2009-12-31         YV               2846    YUM  PHX           615   \n6429334  2009-12-31         YV               2850    YUM  PHX          1929   \n6429335  2009-12-31         YV               2866    YUM  PHX          1400   \n6429336  2009-12-31         YV               2868    YUM  PHX          1620   \n6429337  2009-12-31         YV               2871    YUM  PHX          1123   \n\n         DEP_TIME  DEP_DELAY  TAXI_OUT  WHEELS_OFF  ...  CRS_ARR_TIME  \\\n0          1058.0       -2.0      18.0      1116.0  ...          1202   \n1          1509.0       -1.0      28.0      1537.0  ...          1632   \n2          1059.0       -1.0      20.0      1119.0  ...          1210   \n3          1249.0        9.0      10.0      1259.0  ...          1357   \n4          1705.0      -10.0      24.0      1729.0  ...          1900   \n...           ...        ...       ...         ...  ...           ...   \n6429333     605.0      -10.0      19.0       624.0  ...           722   \n6429334    1919.0      -10.0       7.0      1926.0  ...          2039   \n6429335    1400.0        0.0      29.0      1429.0  ...          1455   \n6429336    1615.0       -5.0      10.0      1625.0  ...          1727   \n6429337    1113.0      -10.0      14.0      1127.0  ...          1230   \n\n         ARR_TIME  ARR_DELAY  ARR_DELAY  CANCELLED  DIVERTED  \\\n0          1206.0        4.0        4.0        0.0       0.0   \n1          1624.0       -8.0       -8.0        0.0       0.0   \n2          1201.0       -9.0       -9.0        0.0       0.0   \n3          1345.0      -12.0      -12.0        0.0       0.0   \n4          1822.0      -38.0      -38.0        0.0       0.0   \n...           ...        ...        ...        ...       ...   \n6429333     716.0       -6.0       -6.0        0.0       0.0   \n6429334    2020.0      -19.0      -19.0        0.0       0.0   \n6429335    1510.0       15.0       15.0        0.0       0.0   \n6429336    1716.0      -11.0      -11.0        0.0       0.0   \n6429337    1217.0      -13.0      -13.0        0.0       0.0   \n\n         CRS_ELAPSED_TIME  ACTUAL_ELAPSED_TIME  AIR_TIME  DISTANCE  \n0                    62.0                 68.0      42.0     199.0  \n1                    82.0                 75.0      43.0     213.0  \n2                    70.0                 62.0      36.0     199.0  \n3                    77.0                 56.0      37.0     199.0  \n4                   105.0                 77.0      40.0     213.0  \n...                   ...                  ...       ...       ...  \n6429333              67.0                 71.0      39.0     160.0  \n6429334              70.0                 61.0      48.0     160.0  \n6429335              55.0                 70.0      32.0     160.0  \n6429336              67.0                 61.0      45.0     160.0  \n6429337              67.0                 64.0      35.0     160.0  \n\n[6429338 rows x 22 columns]",
      "text/html": "<div>\n<style scoped>\n    .dataframe tbody tr th:only-of-type {\n        vertical-align: middle;\n    }\n\n    .dataframe tbody tr th {\n        vertical-align: top;\n    }\n\n    .dataframe thead th {\n        text-align: right;\n    }\n</style>\n<table border=\"1\" class=\"dataframe\">\n  <thead>\n    <tr style=\"text-align: right;\">\n      <th></th>\n      <th>FL_DATE</th>\n      <th>OP_CARRIER</th>\n      <th>OP_CARRIER_FL_NUM</th>\n      <th>ORIGIN</th>\n      <th>DEST</th>\n      <th>CRS_DEP_TIME</th>\n      <th>DEP_TIME</th>\n      <th>DEP_DELAY</th>\n      <th>TAXI_OUT</th>\n      <th>WHEELS_OFF</th>\n      <th>...</th>\n      <th>CRS_ARR_TIME</th>\n      <th>ARR_TIME</th>\n      <th>ARR_DELAY</th>\n      <th>ARR_DELAY</th>\n      <th>CANCELLED</th>\n      <th>DIVERTED</th>\n      <th>CRS_ELAPSED_TIME</th>\n      <th>ACTUAL_ELAPSED_TIME</th>\n      <th>AIR_TIME</th>\n      <th>DISTANCE</th>\n    </tr>\n  </thead>\n  <tbody>\n    <tr>\n      <th>0</th>\n      <td>2009-01-01</td>\n      <td>XE</td>\n      <td>1204</td>\n      <td>DCA</td>\n      <td>EWR</td>\n      <td>1100</td>\n      <td>1058.0</td>\n      <td>-2.0</td>\n      <td>18.0</td>\n      <td>1116.0</td>\n      <td>...</td>\n      <td>1202</td>\n      <td>1206.0</td>\n      <td>4.0</td>\n      <td>4.0</td>\n      <td>0.0</td>\n      <td>0.0</td>\n      <td>62.0</td>\n      <td>68.0</td>\n      <td>42.0</td>\n      <td>199.0</td>\n    </tr>\n    <tr>\n      <th>1</th>\n      <td>2009-01-01</td>\n      <td>XE</td>\n      <td>1206</td>\n      <td>EWR</td>\n      <td>IAD</td>\n      <td>1510</td>\n      <td>1509.0</td>\n      <td>-1.0</td>\n      <td>28.0</td>\n      <td>1537.0</td>\n      <td>...</td>\n      <td>1632</td>\n      <td>1624.0</td>\n      <td>-8.0</td>\n      <td>-8.0</td>\n      <td>0.0</td>\n      <td>0.0</td>\n      <td>82.0</td>\n      <td>75.0</td>\n      <td>43.0</td>\n      <td>213.0</td>\n    </tr>\n    <tr>\n      <th>2</th>\n      <td>2009-01-01</td>\n      <td>XE</td>\n      <td>1207</td>\n      <td>EWR</td>\n      <td>DCA</td>\n      <td>1100</td>\n      <td>1059.0</td>\n      <td>-1.0</td>\n      <td>20.0</td>\n      <td>1119.0</td>\n      <td>...</td>\n      <td>1210</td>\n      <td>1201.0</td>\n      <td>-9.0</td>\n      <td>-9.0</td>\n      <td>0.0</td>\n      <td>0.0</td>\n      <td>70.0</td>\n      <td>62.0</td>\n      <td>36.0</td>\n      <td>199.0</td>\n    </tr>\n    <tr>\n      <th>3</th>\n      <td>2009-01-01</td>\n      <td>XE</td>\n      <td>1208</td>\n      <td>DCA</td>\n      <td>EWR</td>\n      <td>1240</td>\n      <td>1249.0</td>\n      <td>9.0</td>\n      <td>10.0</td>\n      <td>1259.0</td>\n      <td>...</td>\n      <td>1357</td>\n      <td>1345.0</td>\n      <td>-12.0</td>\n      <td>-12.0</td>\n      <td>0.0</td>\n      <td>0.0</td>\n      <td>77.0</td>\n      <td>56.0</td>\n      <td>37.0</td>\n      <td>199.0</td>\n    </tr>\n    <tr>\n      <th>4</th>\n      <td>2009-01-01</td>\n      <td>XE</td>\n      <td>1209</td>\n      <td>IAD</td>\n      <td>EWR</td>\n      <td>1715</td>\n      <td>1705.0</td>\n      <td>-10.0</td>\n      <td>24.0</td>\n      <td>1729.0</td>\n      <td>...</td>\n      <td>1900</td>\n      <td>1822.0</td>\n      <td>-38.0</td>\n      <td>-38.0</td>\n      <td>0.0</td>\n      <td>0.0</td>\n      <td>105.0</td>\n      <td>77.0</td>\n      <td>40.0</td>\n      <td>213.0</td>\n    </tr>\n    <tr>\n      <th>...</th>\n      <td>...</td>\n      <td>...</td>\n      <td>...</td>\n      <td>...</td>\n      <td>...</td>\n      <td>...</td>\n      <td>...</td>\n      <td>...</td>\n      <td>...</td>\n      <td>...</td>\n      <td>...</td>\n      <td>...</td>\n      <td>...</td>\n      <td>...</td>\n      <td>...</td>\n      <td>...</td>\n      <td>...</td>\n      <td>...</td>\n      <td>...</td>\n      <td>...</td>\n      <td>...</td>\n    </tr>\n    <tr>\n      <th>6429333</th>\n      <td>2009-12-31</td>\n      <td>YV</td>\n      <td>2846</td>\n      <td>YUM</td>\n      <td>PHX</td>\n      <td>615</td>\n      <td>605.0</td>\n      <td>-10.0</td>\n      <td>19.0</td>\n      <td>624.0</td>\n      <td>...</td>\n      <td>722</td>\n      <td>716.0</td>\n      <td>-6.0</td>\n      <td>-6.0</td>\n      <td>0.0</td>\n      <td>0.0</td>\n      <td>67.0</td>\n      <td>71.0</td>\n      <td>39.0</td>\n      <td>160.0</td>\n    </tr>\n    <tr>\n      <th>6429334</th>\n      <td>2009-12-31</td>\n      <td>YV</td>\n      <td>2850</td>\n      <td>YUM</td>\n      <td>PHX</td>\n      <td>1929</td>\n      <td>1919.0</td>\n      <td>-10.0</td>\n      <td>7.0</td>\n      <td>1926.0</td>\n      <td>...</td>\n      <td>2039</td>\n      <td>2020.0</td>\n      <td>-19.0</td>\n      <td>-19.0</td>\n      <td>0.0</td>\n      <td>0.0</td>\n      <td>70.0</td>\n      <td>61.0</td>\n      <td>48.0</td>\n      <td>160.0</td>\n    </tr>\n    <tr>\n      <th>6429335</th>\n      <td>2009-12-31</td>\n      <td>YV</td>\n      <td>2866</td>\n      <td>YUM</td>\n      <td>PHX</td>\n      <td>1400</td>\n      <td>1400.0</td>\n      <td>0.0</td>\n      <td>29.0</td>\n      <td>1429.0</td>\n      <td>...</td>\n      <td>1455</td>\n      <td>1510.0</td>\n      <td>15.0</td>\n      <td>15.0</td>\n      <td>0.0</td>\n      <td>0.0</td>\n      <td>55.0</td>\n      <td>70.0</td>\n      <td>32.0</td>\n      <td>160.0</td>\n    </tr>\n    <tr>\n      <th>6429336</th>\n      <td>2009-12-31</td>\n      <td>YV</td>\n      <td>2868</td>\n      <td>YUM</td>\n      <td>PHX</td>\n      <td>1620</td>\n      <td>1615.0</td>\n      <td>-5.0</td>\n      <td>10.0</td>\n      <td>1625.0</td>\n      <td>...</td>\n      <td>1727</td>\n      <td>1716.0</td>\n      <td>-11.0</td>\n      <td>-11.0</td>\n      <td>0.0</td>\n      <td>0.0</td>\n      <td>67.0</td>\n      <td>61.0</td>\n      <td>45.0</td>\n      <td>160.0</td>\n    </tr>\n    <tr>\n      <th>6429337</th>\n      <td>2009-12-31</td>\n      <td>YV</td>\n      <td>2871</td>\n      <td>YUM</td>\n      <td>PHX</td>\n      <td>1123</td>\n      <td>1113.0</td>\n      <td>-10.0</td>\n      <td>14.0</td>\n      <td>1127.0</td>\n      <td>...</td>\n      <td>1230</td>\n      <td>1217.0</td>\n      <td>-13.0</td>\n      <td>-13.0</td>\n      <td>0.0</td>\n      <td>0.0</td>\n      <td>67.0</td>\n      <td>64.0</td>\n      <td>35.0</td>\n      <td>160.0</td>\n    </tr>\n  </tbody>\n</table>\n<p>6429338 rows × 22 columns</p>\n</div>"
     },
     "execution_count": 22,
     "metadata": {},
     "output_type": "execute_result"
    }
   ],
   "source": [
    "import pandas as pd\n",
    "csv_data = pd.read_csv('datasets/flights/2009.csv', index_col=False, delimiter=',')\n",
    "csv_data = csv_data[['FL_DATE', 'OP_CARRIER', 'OP_CARRIER_FL_NUM', 'ORIGIN', 'DEST', 'CRS_DEP_TIME', 'DEP_TIME', 'DEP_DELAY', 'TAXI_OUT', 'WHEELS_OFF', 'WHEELS_ON','TAXI_IN', 'CRS_ARR_TIME', 'ARR_TIME', 'ARR_DELAY', 'ARR_DELAY', 'CANCELLED', 'DIVERTED', 'CRS_ELAPSED_TIME', 'ACTUAL_ELAPSED_TIME', 'AIR_TIME', 'DISTANCE']]\n",
    "csv_data"
   ]
  },
  {
   "cell_type": "code",
   "execution_count": 23,
   "outputs": [
    {
     "data": {
      "text/plain": "102362"
     },
     "execution_count": 23,
     "metadata": {},
     "output_type": "execute_result"
    }
   ],
   "source": [
    "csv_data.isna().any(axis=1).sum()"
   ],
   "metadata": {
    "collapsed": false
   }
  },
  {
   "cell_type": "code",
   "execution_count": 24,
   "outputs": [
    {
     "data": {
      "text/plain": "0"
     },
     "execution_count": 24,
     "metadata": {},
     "output_type": "execute_result"
    }
   ],
   "source": [
    "csv_data.dropna(inplace=True)\n",
    "csv_data.isna().any(axis=1).sum()"
   ],
   "metadata": {
    "collapsed": false
   }
  },
  {
   "cell_type": "code",
   "execution_count": 25,
   "outputs": [
    {
     "data": {
      "text/plain": "6326976"
     },
     "execution_count": 25,
     "metadata": {},
     "output_type": "execute_result"
    }
   ],
   "source": [
    "len(csv_data.index)"
   ],
   "metadata": {
    "collapsed": false
   }
  },
  {
   "cell_type": "code",
   "execution_count": 54,
   "outputs": [
    {
     "data": {
      "text/plain": "0.952772806657836"
     },
     "execution_count": 54,
     "metadata": {},
     "output_type": "execute_result"
    }
   ],
   "source": [
    "from checkpoint_manager_v3 import CheckpointManager\n",
    "import numpy as np\n",
    "\n",
    "CheckpointManager.load('2500-50-greedy_sample')[1]"
   ],
   "metadata": {
    "collapsed": false
   }
  },
  {
   "cell_type": "code",
   "execution_count": 30,
   "outputs": [
    {
     "data": {
      "text/plain": "array([1. , 0.5, 1. ])"
     },
     "execution_count": 30,
     "metadata": {},
     "output_type": "execute_result"
    }
   ],
   "source": [
    "import numpy as np\n",
    "\n",
    "np.minimum([2, 0.5, 1], 1)"
   ],
   "metadata": {
    "collapsed": false
   }
  },
  {
   "cell_type": "code",
   "execution_count": 1,
   "outputs": [
    {
     "name": "stdout",
     "output_type": "stream",
     "text": [
      "Saving checkpoint 100-50-greedy_sample.pkl to: [./checkpoints/2]\n",
      "Connecting to the mysql database...\n",
      "Connected to localhost:datasets.\n",
      "Saving checkpoint 100-50-random_sample.pkl to: [./checkpoints/2]\n",
      "Saving checkpoint 1000-50-greedy_sample.pkl to: [./checkpoints/2]\n",
      "Saving checkpoint 1000-50-random_sample.pkl to: [./checkpoints/2]\n",
      "Saving checkpoint 2000-50-greedy_sample.pkl to: [./checkpoints/2]\n",
      "Saving checkpoint 2000-50-random_sample.pkl to: [./checkpoints/2]\n",
      "Saving checkpoint 2500-50-greedy_sample.pkl to: [./checkpoints/2]\n",
      "Saving checkpoint 2500-50-random_sample.pkl to: [./checkpoints/2]\n"
     ]
    },
    {
     "data": {
      "text/plain": "([100, 1000, 2000, 2500],\n [0.3494346788064144,\n  0.7907545209119454,\n  0.9213826651668613,\n  0.952772806657836],\n [0.19601036663938295,\n  0.6218634808965774,\n  0.7568241337489884,\n  0.8081557547686438])"
     },
     "execution_count": 1,
     "metadata": {},
     "output_type": "execute_result"
    }
   ],
   "source": [
    "from graphs_generator import get_score_by_k\n",
    "\n",
    "get_score_by_k([100, 1000, 2000, 2500])"
   ],
   "metadata": {
    "collapsed": false
   }
  },
  {
   "cell_type": "code",
   "execution_count": 3,
   "outputs": [
    {
     "data": {
      "text/plain": "([0,\n  1,\n  2,\n  3,\n  4,\n  5,\n  6,\n  7,\n  8,\n  9,\n  10,\n  11,\n  12,\n  13,\n  14,\n  15,\n  16,\n  17,\n  18,\n  19,\n  20,\n  21,\n  22,\n  23,\n  24,\n  25,\n  26,\n  27,\n  28,\n  29],\n [0.0,\n  0.3333333333333333,\n  0.0,\n  0.0,\n  0.0,\n  0.74,\n  0.32,\n  0.62,\n  0.0,\n  1.0,\n  0.34,\n  0.42,\n  0.0,\n  0.02,\n  0.0,\n  1.0,\n  1.0,\n  0.16,\n  0.2,\n  0.18,\n  1.0,\n  0.64,\n  0.14,\n  0.13043478260869565,\n  0.72,\n  0.0,\n  0.44,\n  1.0,\n  0.0,\n  1.0])"
     },
     "execution_count": 3,
     "metadata": {},
     "output_type": "execute_result"
    }
   ],
   "source": [
    "from graphs_generator import get_score_by_query\n",
    "from checkpoint_manager_v3 import CheckpointManager\n",
    "\n",
    "greedy_sample = CheckpointManager.load('100-50-greedy_sample', 2)[0]\n",
    "get_score_by_query(greedy_sample, [*range(30)])"
   ],
   "metadata": {
    "collapsed": false
   }
  },
  {
   "cell_type": "code",
   "execution_count": 13,
   "outputs": [
    {
     "data": {
      "text/plain": "1000"
     },
     "execution_count": 13,
     "metadata": {},
     "output_type": "execute_result"
    }
   ],
   "source": [
    "from checkpoint_manager_v3 import CheckpointManager\n",
    "\n",
    "num_of_queries = len(CheckpointManager.load('results'))\n",
    "num_of_queries"
   ],
   "metadata": {
    "collapsed": false
   }
  },
  {
   "cell_type": "markdown",
   "source": [
    "## PLOTS TO COPY TO SERVER"
   ],
   "metadata": {
    "collapsed": false
   }
  },
  {
   "cell_type": "code",
   "execution_count": 36,
   "outputs": [
    {
     "name": "stdout",
     "output_type": "stream",
     "text": [
      "Saving checkpoint 100-50-greedy_sample.pkl to: [./checkpoints/2]\n",
      "Saving checkpoint 100-50-random_sample.pkl to: [./checkpoints/2]\n",
      "Saving checkpoint 500-50-greedy_sample.pkl to: [./checkpoints/2]\n",
      "Saving checkpoint 500-50-random_sample.pkl to: [./checkpoints/2]\n",
      "Saving checkpoint 1000-50-greedy_sample.pkl to: [./checkpoints/2]\n",
      "Saving checkpoint 1000-50-random_sample.pkl to: [./checkpoints/2]\n",
      "Saving checkpoint 1500-50-greedy_sample.pkl to: [./checkpoints/2]\n",
      "Saving checkpoint 1500-50-random_sample.pkl to: [./checkpoints/2]\n",
      "Saving checkpoint 2000-50-greedy_sample.pkl to: [./checkpoints/2]\n",
      "Saving checkpoint 2000-50-random_sample.pkl to: [./checkpoints/2]\n",
      "Saving checkpoint 2500-50-greedy_sample.pkl to: [./checkpoints/2]\n",
      "Saving checkpoint 2500-50-random_sample.pkl to: [./checkpoints/2]\n"
     ]
    },
    {
     "data": {
      "text/plain": "<Figure size 640x480 with 1 Axes>",
      "image/png": "[encoded data removed]"
     },
     "metadata": {},
     "output_type": "display_data"
    }
   ],
   "source": [
    "import matplotlib.pyplot as plt\n",
    "from config_manager_v3 import ConfigManager\n",
    "from graphs_generator import get_score_by_k\n",
    "\n",
    "\n",
    "view_size = ConfigManager.get_config('samplerConfig.viewSize')\n",
    "k_list = [100, 500, 1000, 1500, 2000, 2500]\n",
    "_, greedy_scores, random_scores = get_score_by_k(k_list)\n",
    "\n",
    "plt.bar([p - 50 for p in k_list], random_scores, 50, label='random')\n",
    "plt.bar(k_list, greedy_scores, 50, label='greedy')\n",
    "plt.xlabel(\"k\")\n",
    "plt.ylabel(\"score\")\n",
    "plt.title(f\"Error for k=[{k_list[0]},...,{k_list[-1]}], view_size={view_size}\")\n",
    "plt.legend()\n",
    "plt.show()"
   ],
   "metadata": {
    "collapsed": false
   }
  },
  {
   "cell_type": "code",
   "execution_count": 22,
   "outputs": [
    {
     "data": {
      "text/plain": "<Figure size 640x480 with 1 Axes>",
      "image/png": "[encoded data removed]"
     },
     "metadata": {},
     "output_type": "display_data"
    }
   ],
   "source": [
    "import matplotlib.pyplot as plt\n",
    "from config_manager_v3 import ConfigManager\n",
    "import numpy as np\n",
    "\n",
    "k = 100\n",
    "view_size = 50\n",
    "\n",
    "test_len = int(ConfigManager.get_config('samplerConfig.testSize') * num_of_queries)\n",
    "x = np.random.choice(test_len, 30, replace=False)\n",
    "\n",
    "greedy_sample = CheckpointManager.load(f'{k}-{view_size}-greedy_sample', 2)[0]\n",
    "greedy_scores = get_score_by_query(greedy_sample, x)[1]\n",
    "random_sample = CheckpointManager.load(f'{k}-{view_size}-random_sample', 2)[0]\n",
    "random_scores = get_score_by_query(random_sample, x)[1]\n",
    "\n",
    "plt.bar([p - 0.3 for p in range(len(x))], random_scores, 0.3, label='random')\n",
    "plt.bar(range(len(x)), greedy_scores, 0.3, label='greedy')\n",
    "plt.xlabel(\"Query num\")\n",
    "plt.ylabel(\"score\")\n",
    "plt.title(f\"Error for k={k}, view_size={view_size}\")\n",
    "plt.legend()\n",
    "plt.show()"
   ],
   "metadata": {
    "collapsed": false
   }
  }
 ],
 "metadata": {
  "kernelspec": {
   "display_name": "Python 3",
   "language": "python",
   "name": "python3"
  },
  "language_info": {
   "codemirror_mode": {
    "name": "ipython",
    "version": 2
   },
   "file_extension": ".py",
   "mimetype": "text/x-python",
   "name": "python",
   "nbconvert_exporter": "python",
   "pygments_lexer": "ipython2",
   "version": "2.7.6"
  }
 },
 "nbformat": 4,
 "nbformat_minor": 0
}
