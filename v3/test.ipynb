{
 "cells": [
  {
   "cell_type": "code",
   "execution_count": 1,
   "metadata": {
    "collapsed": true
   },
   "outputs": [
    {
     "data": {
      "text/plain": "            FL_DATE OP_CARRIER  OP_CARRIER_FL_NUM ORIGIN DEST  CRS_DEP_TIME  \\\n0        2009-01-01         XE               1204    DCA  EWR          1100   \n1        2009-01-01         XE               1206    EWR  IAD          1510   \n2        2009-01-01         XE               1207    EWR  DCA          1100   \n3        2009-01-01         XE               1208    DCA  EWR          1240   \n4        2009-01-01         XE               1209    IAD  EWR          1715   \n...             ...        ...                ...    ...  ...           ...   \n6429333  2009-12-31         YV               2846    YUM  PHX           615   \n6429334  2009-12-31         YV               2850    YUM  PHX          1929   \n6429335  2009-12-31         YV               2866    YUM  PHX          1400   \n6429336  2009-12-31         YV               2868    YUM  PHX          1620   \n6429337  2009-12-31         YV               2871    YUM  PHX          1123   \n\n         DEP_TIME  DEP_DELAY  TAXI_OUT  WHEELS_OFF  ...  CRS_ARR_TIME  \\\n0          1058.0       -2.0      18.0      1116.0  ...          1202   \n1          1509.0       -1.0      28.0      1537.0  ...          1632   \n2          1059.0       -1.0      20.0      1119.0  ...          1210   \n3          1249.0        9.0      10.0      1259.0  ...          1357   \n4          1705.0      -10.0      24.0      1729.0  ...          1900   \n...           ...        ...       ...         ...  ...           ...   \n6429333     605.0      -10.0      19.0       624.0  ...           722   \n6429334    1919.0      -10.0       7.0      1926.0  ...          2039   \n6429335    1400.0        0.0      29.0      1429.0  ...          1455   \n6429336    1615.0       -5.0      10.0      1625.0  ...          1727   \n6429337    1113.0      -10.0      14.0      1127.0  ...          1230   \n\n         ARR_TIME  ARR_DELAY  ARR_DELAY  CANCELLED  DIVERTED  \\\n0          1206.0        4.0        4.0        0.0       0.0   \n1          1624.0       -8.0       -8.0        0.0       0.0   \n2          1201.0       -9.0       -9.0        0.0       0.0   \n3          1345.0      -12.0      -12.0        0.0       0.0   \n4          1822.0      -38.0      -38.0        0.0       0.0   \n...           ...        ...        ...        ...       ...   \n6429333     716.0       -6.0       -6.0        0.0       0.0   \n6429334    2020.0      -19.0      -19.0        0.0       0.0   \n6429335    1510.0       15.0       15.0        0.0       0.0   \n6429336    1716.0      -11.0      -11.0        0.0       0.0   \n6429337    1217.0      -13.0      -13.0        0.0       0.0   \n\n         CRS_ELAPSED_TIME  ACTUAL_ELAPSED_TIME  AIR_TIME  DISTANCE  \n0                    62.0                 68.0      42.0     199.0  \n1                    82.0                 75.0      43.0     213.0  \n2                    70.0                 62.0      36.0     199.0  \n3                    77.0                 56.0      37.0     199.0  \n4                   105.0                 77.0      40.0     213.0  \n...                   ...                  ...       ...       ...  \n6429333              67.0                 71.0      39.0     160.0  \n6429334              70.0                 61.0      48.0     160.0  \n6429335              55.0                 70.0      32.0     160.0  \n6429336              67.0                 61.0      45.0     160.0  \n6429337              67.0                 64.0      35.0     160.0  \n\n[6326976 rows x 22 columns]",
      "text/html": "<div>\n<style scoped>\n    .dataframe tbody tr th:only-of-type {\n        vertical-align: middle;\n    }\n\n    .dataframe tbody tr th {\n        vertical-align: top;\n    }\n\n    .dataframe thead th {\n        text-align: right;\n    }\n</style>\n<table border=\"1\" class=\"dataframe\">\n  <thead>\n    <tr style=\"text-align: right;\">\n      <th></th>\n      <th>FL_DATE</th>\n      <th>OP_CARRIER</th>\n      <th>OP_CARRIER_FL_NUM</th>\n      <th>ORIGIN</th>\n      <th>DEST</th>\n      <th>CRS_DEP_TIME</th>\n      <th>DEP_TIME</th>\n      <th>DEP_DELAY</th>\n      <th>TAXI_OUT</th>\n      <th>WHEELS_OFF</th>\n      <th>...</th>\n      <th>CRS_ARR_TIME</th>\n      <th>ARR_TIME</th>\n      <th>ARR_DELAY</th>\n      <th>ARR_DELAY</th>\n      <th>CANCELLED</th>\n      <th>DIVERTED</th>\n      <th>CRS_ELAPSED_TIME</th>\n      <th>ACTUAL_ELAPSED_TIME</th>\n      <th>AIR_TIME</th>\n      <th>DISTANCE</th>\n    </tr>\n  </thead>\n  <tbody>\n    <tr>\n      <th>0</th>\n      <td>2009-01-01</td>\n      <td>XE</td>\n      <td>1204</td>\n      <td>DCA</td>\n      <td>EWR</td>\n      <td>1100</td>\n      <td>1058.0</td>\n      <td>-2.0</td>\n      <td>18.0</td>\n      <td>1116.0</td>\n      <td>...</td>\n      <td>1202</td>\n      <td>1206.0</td>\n      <td>4.0</td>\n      <td>4.0</td>\n      <td>0.0</td>\n      <td>0.0</td>\n      <td>62.0</td>\n      <td>68.0</td>\n      <td>42.0</td>\n      <td>199.0</td>\n    </tr>\n    <tr>\n      <th>1</th>\n      <td>2009-01-01</td>\n      <td>XE</td>\n      <td>1206</td>\n      <td>EWR</td>\n      <td>IAD</td>\n      <td>1510</td>\n      <td>1509.0</td>\n      <td>-1.0</td>\n      <td>28.0</td>\n      <td>1537.0</td>\n      <td>...</td>\n      <td>1632</td>\n      <td>1624.0</td>\n      <td>-8.0</td>\n      <td>-8.0</td>\n      <td>0.0</td>\n      <td>0.0</td>\n      <td>82.0</td>\n      <td>75.0</td>\n      <td>43.0</td>\n      <td>213.0</td>\n    </tr>\n    <tr>\n      <th>2</th>\n      <td>2009-01-01</td>\n      <td>XE</td>\n      <td>1207</td>\n      <td>EWR</td>\n      <td>DCA</td>\n      <td>1100</td>\n      <td>1059.0</td>\n      <td>-1.0</td>\n      <td>20.0</td>\n      <td>1119.0</td>\n      <td>...</td>\n      <td>1210</td>\n      <td>1201.0</td>\n      <td>-9.0</td>\n      <td>-9.0</td>\n      <td>0.0</td>\n      <td>0.0</td>\n      <td>70.0</td>\n      <td>62.0</td>\n      <td>36.0</td>\n      <td>199.0</td>\n    </tr>\n    <tr>\n      <th>3</th>\n      <td>2009-01-01</td>\n      <td>XE</td>\n      <td>1208</td>\n      <td>DCA</td>\n      <td>EWR</td>\n      <td>1240</td>\n      <td>1249.0</td>\n      <td>9.0</td>\n      <td>10.0</td>\n      <td>1259.0</td>\n      <td>...</td>\n      <td>1357</td>\n      <td>1345.0</td>\n      <td>-12.0</td>\n      <td>-12.0</td>\n      <td>0.0</td>\n      <td>0.0</td>\n      <td>77.0</td>\n      <td>56.0</td>\n      <td>37.0</td>\n      <td>199.0</td>\n    </tr>\n    <tr>\n      <th>4</th>\n      <td>2009-01-01</td>\n      <td>XE</td>\n      <td>1209</td>\n      <td>IAD</td>\n      <td>EWR</td>\n      <td>1715</td>\n      <td>1705.0</td>\n      <td>-10.0</td>\n      <td>24.0</td>\n      <td>1729.0</td>\n      <td>...</td>\n      <td>1900</td>\n      <td>1822.0</td>\n      <td>-38.0</td>\n      <td>-38.0</td>\n      <td>0.0</td>\n      <td>0.0</td>\n      <td>105.0</td>\n      <td>77.0</td>\n      <td>40.0</td>\n      <td>213.0</td>\n    </tr>\n    <tr>\n      <th>...</th>\n      <td>...</td>\n      <td>...</td>\n      <td>...</td>\n      <td>...</td>\n      <td>...</td>\n      <td>...</td>\n      <td>...</td>\n      <td>...</td>\n      <td>...</td>\n      <td>...</td>\n      <td>...</td>\n      <td>...</td>\n      <td>...</td>\n      <td>...</td>\n      <td>...</td>\n      <td>...</td>\n      <td>...</td>\n      <td>...</td>\n      <td>...</td>\n      <td>...</td>\n      <td>...</td>\n    </tr>\n    <tr>\n      <th>6429333</th>\n      <td>2009-12-31</td>\n      <td>YV</td>\n      <td>2846</td>\n      <td>YUM</td>\n      <td>PHX</td>\n      <td>615</td>\n      <td>605.0</td>\n      <td>-10.0</td>\n      <td>19.0</td>\n      <td>624.0</td>\n      <td>...</td>\n      <td>722</td>\n      <td>716.0</td>\n      <td>-6.0</td>\n      <td>-6.0</td>\n      <td>0.0</td>\n      <td>0.0</td>\n      <td>67.0</td>\n      <td>71.0</td>\n      <td>39.0</td>\n      <td>160.0</td>\n    </tr>\n    <tr>\n      <th>6429334</th>\n      <td>2009-12-31</td>\n      <td>YV</td>\n      <td>2850</td>\n      <td>YUM</td>\n      <td>PHX</td>\n      <td>1929</td>\n      <td>1919.0</td>\n      <td>-10.0</td>\n      <td>7.0</td>\n      <td>1926.0</td>\n      <td>...</td>\n      <td>2039</td>\n      <td>2020.0</td>\n      <td>-19.0</td>\n      <td>-19.0</td>\n      <td>0.0</td>\n      <td>0.0</td>\n      <td>70.0</td>\n      <td>61.0</td>\n      <td>48.0</td>\n      <td>160.0</td>\n    </tr>\n    <tr>\n      <th>6429335</th>\n      <td>2009-12-31</td>\n      <td>YV</td>\n      <td>2866</td>\n      <td>YUM</td>\n      <td>PHX</td>\n      <td>1400</td>\n      <td>1400.0</td>\n      <td>0.0</td>\n      <td>29.0</td>\n      <td>1429.0</td>\n      <td>...</td>\n      <td>1455</td>\n      <td>1510.0</td>\n      <td>15.0</td>\n      <td>15.0</td>\n      <td>0.0</td>\n      <td>0.0</td>\n      <td>55.0</td>\n      <td>70.0</td>\n      <td>32.0</td>\n      <td>160.0</td>\n    </tr>\n    <tr>\n      <th>6429336</th>\n      <td>2009-12-31</td>\n      <td>YV</td>\n      <td>2868</td>\n      <td>YUM</td>\n      <td>PHX</td>\n      <td>1620</td>\n      <td>1615.0</td>\n      <td>-5.0</td>\n      <td>10.0</td>\n      <td>1625.0</td>\n      <td>...</td>\n      <td>1727</td>\n      <td>1716.0</td>\n      <td>-11.0</td>\n      <td>-11.0</td>\n      <td>0.0</td>\n      <td>0.0</td>\n      <td>67.0</td>\n      <td>61.0</td>\n      <td>45.0</td>\n      <td>160.0</td>\n    </tr>\n    <tr>\n      <th>6429337</th>\n      <td>2009-12-31</td>\n      <td>YV</td>\n      <td>2871</td>\n      <td>YUM</td>\n      <td>PHX</td>\n      <td>1123</td>\n      <td>1113.0</td>\n      <td>-10.0</td>\n      <td>14.0</td>\n      <td>1127.0</td>\n      <td>...</td>\n      <td>1230</td>\n      <td>1217.0</td>\n      <td>-13.0</td>\n      <td>-13.0</td>\n      <td>0.0</td>\n      <td>0.0</td>\n      <td>67.0</td>\n      <td>64.0</td>\n      <td>35.0</td>\n      <td>160.0</td>\n    </tr>\n  </tbody>\n</table>\n<p>6326976 rows × 22 columns</p>\n</div>"
     },
     "execution_count": 1,
     "metadata": {},
     "output_type": "execute_result"
    }
   ],
   "source": [
    "import pandas as pd\n",
    "csv_data = pd.read_csv('datasets/flights/2009.csv', index_col=False, delimiter=',')\n",
    "csv_data = csv_data[['FL_DATE', 'OP_CARRIER', 'OP_CARRIER_FL_NUM', 'ORIGIN', 'DEST', 'CRS_DEP_TIME', 'DEP_TIME', 'DEP_DELAY', 'TAXI_OUT', 'WHEELS_OFF', 'WHEELS_ON','TAXI_IN', 'CRS_ARR_TIME', 'ARR_TIME', 'ARR_DELAY', 'ARR_DELAY', 'CANCELLED', 'DIVERTED', 'CRS_ELAPSED_TIME', 'ACTUAL_ELAPSED_TIME', 'AIR_TIME', 'DISTANCE']]\n",
    "csv_data.dropna(inplace=True)\n",
    "csv_data"
   ]
  },
  {
   "cell_type": "code",
   "execution_count": 3,
   "outputs": [
    {
     "data": {
      "text/plain": "102362"
     },
     "execution_count": 3,
     "metadata": {},
     "output_type": "execute_result"
    }
   ],
   "source": [
    "csv_data.isna().any(axis=1).sum()"
   ],
   "metadata": {
    "collapsed": false
   }
  },
  {
   "cell_type": "code",
   "execution_count": 4,
   "outputs": [
    {
     "data": {
      "text/plain": "0"
     },
     "execution_count": 4,
     "metadata": {},
     "output_type": "execute_result"
    }
   ],
   "source": [
    "csv_data.dropna(inplace=True)\n",
    "csv_data.isna().any(axis=1).sum()"
   ],
   "metadata": {
    "collapsed": false
   }
  },
  {
   "cell_type": "code",
   "execution_count": 5,
   "outputs": [
    {
     "data": {
      "text/plain": "6326976"
     },
     "execution_count": 5,
     "metadata": {},
     "output_type": "execute_result"
    }
   ],
   "source": [
    "len(csv_data.index)"
   ],
   "metadata": {
    "collapsed": false
   }
  },
  {
   "cell_type": "code",
   "execution_count": 2,
   "outputs": [
    {
     "data": {
      "text/plain": "            FL_DATE OP_CARRIER  OP_CARRIER_FL_NUM ORIGIN DEST  CRS_DEP_TIME  \\\n154161   2009-01-09         9E               2614    CHA  MEM          1727   \n1758828  2009-04-10         MQ               3925    ORD  MLI           825   \n4265748  2009-08-26         XE               3087    IAH  MTJ           910   \n5995781  2009-12-06         XE               2902    IAH  LFT          1740   \n2674649  2009-06-01         WN               1193    PBI  BWI          1025   \n...             ...        ...                ...    ...  ...           ...   \n5917685  2009-12-02         EV               5219    CAE  ATL          1135   \n5638177  2009-11-15         MQ               4276    OMA  ORD          1155   \n3221156  2009-07-01         XE               2853    DAY  EWR           645   \n512793   2009-01-30         MQ               3738    GSP  DFW           555   \n4722884  2009-09-21         WN               1942    PHX  LAS          1545   \n\n         DEP_TIME  DEP_DELAY  TAXI_OUT  WHEELS_OFF  ...  CRS_ARR_TIME  \\\n154161     1724.0       -3.0       6.0      1730.0  ...          1740   \n1758828     820.0       -5.0      15.0       835.0  ...           915   \n4265748     900.0      -10.0      20.0       920.0  ...          1047   \n5995781    1752.0       12.0      13.0      1805.0  ...          1834   \n2674649    1021.0       -4.0       9.0      1030.0  ...          1245   \n...           ...        ...       ...         ...  ...           ...   \n5917685    1239.0       64.0       8.0      1247.0  ...          1245   \n5638177    1214.0       19.0      12.0      1226.0  ...          1320   \n3221156     641.0       -4.0      27.0       708.0  ...           832   \n512793      551.0       -4.0      15.0       606.0  ...           755   \n4722884    1546.0        1.0      11.0      1557.0  ...          1655   \n\n         ARR_TIME  ARR_DELAY  ARR_DELAY  CANCELLED  DIVERTED  \\\n154161     1734.0       -6.0       -6.0        0.0       0.0   \n1758828     904.0      -11.0      -11.0        0.0       0.0   \n4265748    1027.0      -20.0      -20.0        0.0       0.0   \n5995781    1842.0        8.0        8.0        0.0       0.0   \n2674649    1239.0       -6.0       -6.0        0.0       0.0   \n...           ...        ...        ...        ...       ...   \n5917685    1358.0       73.0       73.0        0.0       0.0   \n5638177    1336.0       16.0       16.0        0.0       0.0   \n3221156     832.0        0.0        0.0        0.0       0.0   \n512793      750.0       -5.0       -5.0        0.0       0.0   \n4722884    1647.0       -8.0       -8.0        0.0       0.0   \n\n         CRS_ELAPSED_TIME  ACTUAL_ELAPSED_TIME  AIR_TIME  DISTANCE  \n154161               73.0                 70.0      55.0     271.0  \n1758828              50.0                 44.0      26.0     139.0  \n4265748             157.0                147.0     124.0     926.0  \n5995781              54.0                 50.0      32.0     201.0  \n2674649             140.0                138.0     125.0     883.0  \n...                   ...                  ...       ...       ...  \n5917685              70.0                 79.0      62.0     191.0  \n5638177              85.0                 82.0      65.0     416.0  \n3221156             107.0                111.0      79.0     533.0  \n512793              180.0                179.0     159.0     862.0  \n4722884              70.0                 61.0      46.0     256.0  \n\n[1000 rows x 22 columns]",
      "text/html": "<div>\n<style scoped>\n    .dataframe tbody tr th:only-of-type {\n        vertical-align: middle;\n    }\n\n    .dataframe tbody tr th {\n        vertical-align: top;\n    }\n\n    .dataframe thead th {\n        text-align: right;\n    }\n</style>\n<table border=\"1\" class=\"dataframe\">\n  <thead>\n    <tr style=\"text-align: right;\">\n      <th></th>\n      <th>FL_DATE</th>\n      <th>OP_CARRIER</th>\n      <th>OP_CARRIER_FL_NUM</th>\n      <th>ORIGIN</th>\n      <th>DEST</th>\n      <th>CRS_DEP_TIME</th>\n      <th>DEP_TIME</th>\n      <th>DEP_DELAY</th>\n      <th>TAXI_OUT</th>\n      <th>WHEELS_OFF</th>\n      <th>...</th>\n      <th>CRS_ARR_TIME</th>\n      <th>ARR_TIME</th>\n      <th>ARR_DELAY</th>\n      <th>ARR_DELAY</th>\n      <th>CANCELLED</th>\n      <th>DIVERTED</th>\n      <th>CRS_ELAPSED_TIME</th>\n      <th>ACTUAL_ELAPSED_TIME</th>\n      <th>AIR_TIME</th>\n      <th>DISTANCE</th>\n    </tr>\n  </thead>\n  <tbody>\n    <tr>\n      <th>154161</th>\n      <td>2009-01-09</td>\n      <td>9E</td>\n      <td>2614</td>\n      <td>CHA</td>\n      <td>MEM</td>\n      <td>1727</td>\n      <td>1724.0</td>\n      <td>-3.0</td>\n      <td>6.0</td>\n      <td>1730.0</td>\n      <td>...</td>\n      <td>1740</td>\n      <td>1734.0</td>\n      <td>-6.0</td>\n      <td>-6.0</td>\n      <td>0.0</td>\n      <td>0.0</td>\n      <td>73.0</td>\n      <td>70.0</td>\n      <td>55.0</td>\n      <td>271.0</td>\n    </tr>\n    <tr>\n      <th>1758828</th>\n      <td>2009-04-10</td>\n      <td>MQ</td>\n      <td>3925</td>\n      <td>ORD</td>\n      <td>MLI</td>\n      <td>825</td>\n      <td>820.0</td>\n      <td>-5.0</td>\n      <td>15.0</td>\n      <td>835.0</td>\n      <td>...</td>\n      <td>915</td>\n      <td>904.0</td>\n      <td>-11.0</td>\n      <td>-11.0</td>\n      <td>0.0</td>\n      <td>0.0</td>\n      <td>50.0</td>\n      <td>44.0</td>\n      <td>26.0</td>\n      <td>139.0</td>\n    </tr>\n    <tr>\n      <th>4265748</th>\n      <td>2009-08-26</td>\n      <td>XE</td>\n      <td>3087</td>\n      <td>IAH</td>\n      <td>MTJ</td>\n      <td>910</td>\n      <td>900.0</td>\n      <td>-10.0</td>\n      <td>20.0</td>\n      <td>920.0</td>\n      <td>...</td>\n      <td>1047</td>\n      <td>1027.0</td>\n      <td>-20.0</td>\n      <td>-20.0</td>\n      <td>0.0</td>\n      <td>0.0</td>\n      <td>157.0</td>\n      <td>147.0</td>\n      <td>124.0</td>\n      <td>926.0</td>\n    </tr>\n    <tr>\n      <th>5995781</th>\n      <td>2009-12-06</td>\n      <td>XE</td>\n      <td>2902</td>\n      <td>IAH</td>\n      <td>LFT</td>\n      <td>1740</td>\n      <td>1752.0</td>\n      <td>12.0</td>\n      <td>13.0</td>\n      <td>1805.0</td>\n      <td>...</td>\n      <td>1834</td>\n      <td>1842.0</td>\n      <td>8.0</td>\n      <td>8.0</td>\n      <td>0.0</td>\n      <td>0.0</td>\n      <td>54.0</td>\n      <td>50.0</td>\n      <td>32.0</td>\n      <td>201.0</td>\n    </tr>\n    <tr>\n      <th>2674649</th>\n      <td>2009-06-01</td>\n      <td>WN</td>\n      <td>1193</td>\n      <td>PBI</td>\n      <td>BWI</td>\n      <td>1025</td>\n      <td>1021.0</td>\n      <td>-4.0</td>\n      <td>9.0</td>\n      <td>1030.0</td>\n      <td>...</td>\n      <td>1245</td>\n      <td>1239.0</td>\n      <td>-6.0</td>\n      <td>-6.0</td>\n      <td>0.0</td>\n      <td>0.0</td>\n      <td>140.0</td>\n      <td>138.0</td>\n      <td>125.0</td>\n      <td>883.0</td>\n    </tr>\n    <tr>\n      <th>...</th>\n      <td>...</td>\n      <td>...</td>\n      <td>...</td>\n      <td>...</td>\n      <td>...</td>\n      <td>...</td>\n      <td>...</td>\n      <td>...</td>\n      <td>...</td>\n      <td>...</td>\n      <td>...</td>\n      <td>...</td>\n      <td>...</td>\n      <td>...</td>\n      <td>...</td>\n      <td>...</td>\n      <td>...</td>\n      <td>...</td>\n      <td>...</td>\n      <td>...</td>\n      <td>...</td>\n    </tr>\n    <tr>\n      <th>5917685</th>\n      <td>2009-12-02</td>\n      <td>EV</td>\n      <td>5219</td>\n      <td>CAE</td>\n      <td>ATL</td>\n      <td>1135</td>\n      <td>1239.0</td>\n      <td>64.0</td>\n      <td>8.0</td>\n      <td>1247.0</td>\n      <td>...</td>\n      <td>1245</td>\n      <td>1358.0</td>\n      <td>73.0</td>\n      <td>73.0</td>\n      <td>0.0</td>\n      <td>0.0</td>\n      <td>70.0</td>\n      <td>79.0</td>\n      <td>62.0</td>\n      <td>191.0</td>\n    </tr>\n    <tr>\n      <th>5638177</th>\n      <td>2009-11-15</td>\n      <td>MQ</td>\n      <td>4276</td>\n      <td>OMA</td>\n      <td>ORD</td>\n      <td>1155</td>\n      <td>1214.0</td>\n      <td>19.0</td>\n      <td>12.0</td>\n      <td>1226.0</td>\n      <td>...</td>\n      <td>1320</td>\n      <td>1336.0</td>\n      <td>16.0</td>\n      <td>16.0</td>\n      <td>0.0</td>\n      <td>0.0</td>\n      <td>85.0</td>\n      <td>82.0</td>\n      <td>65.0</td>\n      <td>416.0</td>\n    </tr>\n    <tr>\n      <th>3221156</th>\n      <td>2009-07-01</td>\n      <td>XE</td>\n      <td>2853</td>\n      <td>DAY</td>\n      <td>EWR</td>\n      <td>645</td>\n      <td>641.0</td>\n      <td>-4.0</td>\n      <td>27.0</td>\n      <td>708.0</td>\n      <td>...</td>\n      <td>832</td>\n      <td>832.0</td>\n      <td>0.0</td>\n      <td>0.0</td>\n      <td>0.0</td>\n      <td>0.0</td>\n      <td>107.0</td>\n      <td>111.0</td>\n      <td>79.0</td>\n      <td>533.0</td>\n    </tr>\n    <tr>\n      <th>512793</th>\n      <td>2009-01-30</td>\n      <td>MQ</td>\n      <td>3738</td>\n      <td>GSP</td>\n      <td>DFW</td>\n      <td>555</td>\n      <td>551.0</td>\n      <td>-4.0</td>\n      <td>15.0</td>\n      <td>606.0</td>\n      <td>...</td>\n      <td>755</td>\n      <td>750.0</td>\n      <td>-5.0</td>\n      <td>-5.0</td>\n      <td>0.0</td>\n      <td>0.0</td>\n      <td>180.0</td>\n      <td>179.0</td>\n      <td>159.0</td>\n      <td>862.0</td>\n    </tr>\n    <tr>\n      <th>4722884</th>\n      <td>2009-09-21</td>\n      <td>WN</td>\n      <td>1942</td>\n      <td>PHX</td>\n      <td>LAS</td>\n      <td>1545</td>\n      <td>1546.0</td>\n      <td>1.0</td>\n      <td>11.0</td>\n      <td>1557.0</td>\n      <td>...</td>\n      <td>1655</td>\n      <td>1647.0</td>\n      <td>-8.0</td>\n      <td>-8.0</td>\n      <td>0.0</td>\n      <td>0.0</td>\n      <td>70.0</td>\n      <td>61.0</td>\n      <td>46.0</td>\n      <td>256.0</td>\n    </tr>\n  </tbody>\n</table>\n<p>1000 rows × 22 columns</p>\n</div>"
     },
     "execution_count": 2,
     "metadata": {},
     "output_type": "execute_result"
    }
   ],
   "source": [
    "csv_data.sample(1000)"
   ],
   "metadata": {
    "collapsed": false
   }
  },
  {
   "cell_type": "code",
   "execution_count": null,
   "outputs": [
    {
     "name": "stderr",
     "output_type": "stream",
     "text": [
      "  0%|          | 0/1000 [00:00<?, ?it/s]"
     ]
    },
    {
     "name": "stdout",
     "output_type": "stream",
     "text": [
      "Connecting to the mysql database...\n",
      "Connected to localhost:datasets.\n"
     ]
    }
   ],
   "source": [
    "from query_batch_generator import generate_batch\n",
    "\n",
    "generate_batch()\n",
    "# from pandasql import sqldf\n",
    "# sqldf(f'SELECT * FROM csv_data LIMIT 10', globals())"
   ],
   "metadata": {
    "collapsed": false
   }
  },
  {
   "cell_type": "code",
   "execution_count": 5,
   "outputs": [
    {
     "data": {
      "text/plain": "1000"
     },
     "execution_count": 5,
     "metadata": {},
     "output_type": "execute_result"
    }
   ],
   "source": [
    "from checkpoint_manager_v3 import CheckpointManager\n",
    "\n",
    "results = CheckpointManager.load('results', 2)\n",
    "len(results)"
   ],
   "metadata": {
    "collapsed": false
   }
  },
  {
   "cell_type": "code",
   "execution_count": 1,
   "outputs": [
    {
     "name": "stdout",
     "output_type": "stream",
     "text": [
      "Connecting to the mysql database...\n",
      "Connected to localhost:datasets.\n"
     ]
    },
    {
     "name": "stderr",
     "output_type": "stream",
     "text": [
      "100%|██████████| 10/10 [00:09<00:00,  1.01it/s]\n",
      "100%|██████████| 1000/1000 [00:39<00:00, 25.26it/s]\n"
     ]
    },
    {
     "data": {
      "text/plain": "([0,\n  1,\n  2,\n  3,\n  4,\n  5,\n  6,\n  7,\n  8,\n  9,\n  10,\n  11,\n  12,\n  13,\n  14,\n  15,\n  16,\n  17,\n  18,\n  19,\n  20,\n  21,\n  22,\n  23,\n  24,\n  25,\n  26,\n  27,\n  28,\n  29,\n  30,\n  31,\n  32,\n  33,\n  34,\n  35,\n  36,\n  37,\n  38,\n  39,\n  40,\n  41,\n  42,\n  43,\n  44,\n  45,\n  46,\n  47,\n  48,\n  49,\n  50,\n  51,\n  52,\n  53,\n  54,\n  55,\n  56,\n  57,\n  58,\n  59,\n  60,\n  61,\n  62,\n  63,\n  64,\n  65,\n  66,\n  67,\n  68,\n  69,\n  70,\n  71,\n  72,\n  73,\n  74,\n  75,\n  76,\n  77,\n  78,\n  79,\n  80,\n  81,\n  82,\n  83,\n  84,\n  85,\n  86,\n  87,\n  88,\n  89,\n  90,\n  91,\n  92,\n  93,\n  94,\n  95,\n  96,\n  97,\n  98,\n  99,\n  100,\n  101,\n  102,\n  103,\n  104,\n  105,\n  106,\n  107,\n  108,\n  109,\n  110,\n  111,\n  112,\n  113,\n  114,\n  115,\n  116,\n  117,\n  118,\n  119,\n  120,\n  121,\n  122,\n  123,\n  124,\n  125,\n  126,\n  127,\n  128,\n  129,\n  130,\n  131,\n  132,\n  133,\n  134,\n  135,\n  136,\n  137,\n  138,\n  139,\n  140,\n  141,\n  142,\n  143,\n  144,\n  145,\n  146,\n  147,\n  148,\n  149,\n  150,\n  151,\n  152,\n  153,\n  154,\n  155,\n  156,\n  157,\n  158,\n  159,\n  160,\n  161,\n  162,\n  163,\n  164,\n  165,\n  166,\n  167,\n  168,\n  169,\n  170,\n  171,\n  172,\n  173,\n  174,\n  175,\n  176,\n  177,\n  178,\n  179,\n  180,\n  181,\n  182,\n  183,\n  184,\n  185,\n  186,\n  187,\n  188,\n  189,\n  190,\n  191,\n  192,\n  193,\n  194,\n  195,\n  196,\n  197,\n  198,\n  199,\n  200,\n  201,\n  202,\n  203,\n  204,\n  205,\n  206,\n  207,\n  208,\n  209,\n  210,\n  211,\n  212,\n  213,\n  214,\n  215,\n  216,\n  217,\n  218,\n  219,\n  220,\n  221,\n  222,\n  223,\n  224,\n  225,\n  226,\n  227,\n  228,\n  229,\n  230,\n  231,\n  232,\n  233,\n  234,\n  235,\n  236,\n  237,\n  238,\n  239,\n  240,\n  241,\n  242,\n  243,\n  244,\n  245,\n  246,\n  247,\n  248,\n  249,\n  250,\n  251,\n  252,\n  253,\n  254,\n  255,\n  256,\n  257,\n  258,\n  259,\n  260,\n  261,\n  262,\n  263,\n  264,\n  265,\n  266,\n  267,\n  268,\n  269,\n  270,\n  271,\n  272,\n  273,\n  274,\n  275,\n  276,\n  277,\n  278,\n  279,\n  280,\n  281,\n  282,\n  283,\n  284,\n  285,\n  286,\n  287,\n  288,\n  289,\n  290,\n  291,\n  292,\n  293,\n  294,\n  295,\n  296,\n  297,\n  298,\n  299,\n  300,\n  301,\n  302,\n  303,\n  304,\n  305,\n  306,\n  307,\n  308,\n  309,\n  310,\n  311,\n  312,\n  313,\n  314,\n  315,\n  316,\n  317,\n  318,\n  319,\n  320,\n  321,\n  322,\n  323,\n  324,\n  325,\n  326,\n  327,\n  328,\n  329,\n  330,\n  331,\n  332,\n  333,\n  334,\n  335,\n  336,\n  337,\n  338,\n  339,\n  340,\n  341,\n  342,\n  343,\n  344,\n  345,\n  346,\n  347,\n  348,\n  349,\n  350,\n  351,\n  352,\n  353,\n  354,\n  355,\n  356,\n  357,\n  358,\n  359,\n  360,\n  361,\n  362,\n  363,\n  364,\n  365,\n  366,\n  367,\n  368,\n  369,\n  370,\n  371,\n  372,\n  373,\n  374,\n  375,\n  376,\n  377,\n  378,\n  379,\n  380,\n  381,\n  382,\n  383,\n  384,\n  385,\n  386,\n  387,\n  388,\n  389,\n  390,\n  391,\n  392,\n  393,\n  394,\n  395,\n  396,\n  397,\n  398,\n  399,\n  400,\n  401,\n  402,\n  403,\n  404,\n  405,\n  406,\n  407,\n  408,\n  409,\n  410,\n  411,\n  412,\n  413,\n  414,\n  415,\n  416,\n  417,\n  418,\n  419,\n  420,\n  421,\n  422,\n  423,\n  424,\n  425,\n  426,\n  427,\n  428,\n  429,\n  430,\n  431,\n  432,\n  433,\n  434,\n  435,\n  436,\n  437,\n  438,\n  439,\n  440,\n  441,\n  442,\n  443,\n  444,\n  445,\n  446,\n  447,\n  448,\n  449,\n  450,\n  451,\n  452,\n  453,\n  454,\n  455,\n  456,\n  457,\n  458,\n  459,\n  460,\n  461,\n  462,\n  463,\n  464,\n  465,\n  466,\n  467,\n  468,\n  469,\n  470,\n  471,\n  472,\n  473,\n  474,\n  475,\n  476,\n  477,\n  478,\n  479,\n  480,\n  481,\n  482,\n  483,\n  484,\n  485,\n  486,\n  487,\n  488,\n  489,\n  490,\n  491,\n  492,\n  493,\n  494,\n  495,\n  496,\n  497,\n  498,\n  499,\n  500,\n  501,\n  502,\n  503,\n  504,\n  505,\n  506,\n  507,\n  508,\n  509,\n  510,\n  511,\n  512,\n  513,\n  514,\n  515,\n  516,\n  517,\n  518,\n  519,\n  520,\n  521,\n  522,\n  523,\n  524,\n  525,\n  526,\n  527,\n  528,\n  529,\n  530,\n  531,\n  532,\n  533,\n  534,\n  535,\n  536,\n  537,\n  538,\n  539,\n  540,\n  541,\n  542,\n  543,\n  544,\n  545,\n  546,\n  547,\n  548,\n  549,\n  550,\n  551,\n  552,\n  553,\n  554,\n  555,\n  556,\n  557,\n  558,\n  559,\n  560,\n  561,\n  562,\n  563,\n  564,\n  565,\n  566,\n  567,\n  568,\n  569,\n  570,\n  571,\n  572,\n  573,\n  574,\n  575,\n  576,\n  577,\n  578,\n  579,\n  580,\n  581,\n  582,\n  583,\n  584,\n  585,\n  586,\n  587,\n  588,\n  589,\n  590,\n  591,\n  592,\n  593,\n  594,\n  595,\n  596,\n  597,\n  598,\n  599,\n  600,\n  601,\n  602,\n  603,\n  604,\n  605,\n  606,\n  607,\n  608,\n  609,\n  610,\n  611,\n  612,\n  613,\n  614,\n  615,\n  616,\n  617,\n  618,\n  619,\n  620,\n  621,\n  622,\n  623,\n  624,\n  625,\n  626,\n  627,\n  628,\n  629,\n  630,\n  631,\n  632,\n  633,\n  634,\n  635,\n  636,\n  637,\n  638,\n  639,\n  640,\n  641,\n  642,\n  643,\n  644,\n  645,\n  646,\n  647,\n  648,\n  649,\n  650,\n  651,\n  652,\n  653,\n  654,\n  655,\n  656,\n  657,\n  658,\n  659,\n  660,\n  661,\n  662,\n  663,\n  664,\n  665,\n  666,\n  667,\n  668,\n  669,\n  670,\n  671,\n  672,\n  673,\n  674,\n  675,\n  676,\n  677,\n  678,\n  679,\n  680,\n  681,\n  682,\n  683,\n  684,\n  685,\n  686,\n  687,\n  688,\n  689,\n  690,\n  691,\n  692,\n  693,\n  694,\n  695,\n  696,\n  697,\n  698,\n  699,\n  700,\n  701,\n  702,\n  703,\n  704,\n  705,\n  706,\n  707,\n  708,\n  709,\n  710,\n  711,\n  712,\n  713,\n  714,\n  715,\n  716,\n  717,\n  718,\n  719,\n  720,\n  721,\n  722,\n  723,\n  724,\n  725,\n  726,\n  727,\n  728,\n  729,\n  730,\n  731,\n  732,\n  733,\n  734,\n  735,\n  736,\n  737,\n  738,\n  739,\n  740,\n  741,\n  742,\n  743,\n  744,\n  745,\n  746,\n  747,\n  748,\n  749,\n  750,\n  751,\n  752,\n  753,\n  754,\n  755,\n  756,\n  757,\n  758,\n  759,\n  760,\n  761,\n  762,\n  763,\n  764,\n  765,\n  766,\n  767,\n  768,\n  769,\n  770,\n  771,\n  772,\n  773,\n  774,\n  775,\n  776,\n  777,\n  778,\n  779,\n  780,\n  781,\n  782,\n  783,\n  784,\n  785,\n  786,\n  787,\n  788,\n  789,\n  790,\n  791,\n  792,\n  793,\n  794,\n  795,\n  796,\n  797,\n  798,\n  799,\n  800,\n  801,\n  802,\n  803,\n  804,\n  805,\n  806,\n  807,\n  808,\n  809,\n  810,\n  811,\n  812,\n  813,\n  814,\n  815,\n  816,\n  817,\n  818,\n  819,\n  820,\n  821,\n  822,\n  823,\n  824,\n  825,\n  826,\n  827,\n  828,\n  829,\n  830,\n  831,\n  832,\n  833,\n  834,\n  835,\n  836,\n  837,\n  838,\n  839,\n  840,\n  841,\n  842,\n  843,\n  844,\n  845,\n  846,\n  847,\n  848,\n  849,\n  850,\n  851,\n  852,\n  853,\n  854,\n  855,\n  856,\n  857,\n  858,\n  859,\n  860,\n  861,\n  862,\n  863,\n  864,\n  865,\n  866,\n  867,\n  868,\n  869,\n  870,\n  871,\n  872,\n  873,\n  874,\n  875,\n  876,\n  877,\n  878,\n  879,\n  880,\n  881,\n  882,\n  883,\n  884,\n  885,\n  886,\n  887,\n  888,\n  889,\n  890,\n  891,\n  892,\n  893,\n  894,\n  895,\n  896,\n  897,\n  898,\n  899,\n  900,\n  901,\n  902,\n  903,\n  904,\n  905,\n  906,\n  907,\n  908,\n  909,\n  910,\n  911,\n  912,\n  913,\n  914,\n  915,\n  916,\n  917,\n  918,\n  919,\n  920,\n  921,\n  922,\n  923,\n  924,\n  925,\n  926,\n  927,\n  928,\n  929,\n  930,\n  931,\n  932,\n  933,\n  934,\n  935,\n  936,\n  937,\n  938,\n  939,\n  940,\n  941,\n  942,\n  943,\n  944,\n  945,\n  946,\n  947,\n  948,\n  949,\n  950,\n  951,\n  952,\n  953,\n  954,\n  955,\n  956,\n  957,\n  958,\n  959,\n  960,\n  961,\n  962,\n  963,\n  964,\n  965,\n  966,\n  967,\n  968,\n  969,\n  970,\n  971,\n  972,\n  973,\n  974,\n  975,\n  976,\n  977,\n  978,\n  979,\n  980,\n  981,\n  982,\n  983,\n  984,\n  985,\n  986,\n  987,\n  988,\n  989,\n  990,\n  991,\n  992,\n  993,\n  994,\n  995,\n  996,\n  997,\n  998,\n  999],\n 482.75793760143074)"
     },
     "execution_count": 1,
     "metadata": {},
     "output_type": "execute_result"
    }
   ],
   "source": [
    "from mab_sampler import MabSampler\n",
    "from config_manager_v3 import ConfigManager\n",
    "from checkpoint_manager_v3 import CheckpointManager\n",
    "from score_calculator import get_score_for_test_queries\n",
    "\n",
    "view_size = ConfigManager.get_config('samplerConfig.viewSize')\n",
    "results = CheckpointManager.load('results', 2)\n",
    "evaluation_score_func = lambda s: get_score_for_test_queries(s, results, view_size)\n",
    "\n",
    "sample = MabSampler.run(len(csv_data.index), 1000, evaluation_score_func, max_iter=10)\n",
    "sample"
   ],
   "metadata": {
    "collapsed": false
   }
  },
  {
   "cell_type": "code",
   "execution_count": 30,
   "outputs": [
    {
     "data": {
      "text/plain": "array([1. , 0.5, 1. ])"
     },
     "execution_count": 30,
     "metadata": {},
     "output_type": "execute_result"
    }
   ],
   "source": [
    "import numpy as np\n",
    "\n",
    "np.minimum([2, 0.5, 1], 1)"
   ],
   "metadata": {
    "collapsed": false
   }
  },
  {
   "cell_type": "code",
   "execution_count": 1,
   "outputs": [
    {
     "name": "stdout",
     "output_type": "stream",
     "text": [
      "Saving checkpoint 100-50-greedy_sample.pkl to: [./checkpoints/2]\n",
      "Connecting to the mysql database...\n",
      "Connected to localhost:datasets.\n",
      "Saving checkpoint 100-50-random_sample.pkl to: [./checkpoints/2]\n",
      "Saving checkpoint 1000-50-greedy_sample.pkl to: [./checkpoints/2]\n",
      "Saving checkpoint 1000-50-random_sample.pkl to: [./checkpoints/2]\n",
      "Saving checkpoint 2000-50-greedy_sample.pkl to: [./checkpoints/2]\n",
      "Saving checkpoint 2000-50-random_sample.pkl to: [./checkpoints/2]\n",
      "Saving checkpoint 2500-50-greedy_sample.pkl to: [./checkpoints/2]\n",
      "Saving checkpoint 2500-50-random_sample.pkl to: [./checkpoints/2]\n"
     ]
    },
    {
     "data": {
      "text/plain": "([100, 1000, 2000, 2500],\n [0.3494346788064144,\n  0.7907545209119454,\n  0.9213826651668613,\n  0.952772806657836],\n [0.19601036663938295,\n  0.6218634808965774,\n  0.7568241337489884,\n  0.8081557547686438])"
     },
     "execution_count": 1,
     "metadata": {},
     "output_type": "execute_result"
    }
   ],
   "source": [
    "from graphs_generator import get_score_by_k\n",
    "\n",
    "get_score_by_k([100, 1000, 2000, 2500])"
   ],
   "metadata": {
    "collapsed": false
   }
  },
  {
   "cell_type": "code",
   "execution_count": 3,
   "outputs": [
    {
     "data": {
      "text/plain": "([0,\n  1,\n  2,\n  3,\n  4,\n  5,\n  6,\n  7,\n  8,\n  9,\n  10,\n  11,\n  12,\n  13,\n  14,\n  15,\n  16,\n  17,\n  18,\n  19,\n  20,\n  21,\n  22,\n  23,\n  24,\n  25,\n  26,\n  27,\n  28,\n  29],\n [0.0,\n  0.3333333333333333,\n  0.0,\n  0.0,\n  0.0,\n  0.74,\n  0.32,\n  0.62,\n  0.0,\n  1.0,\n  0.34,\n  0.42,\n  0.0,\n  0.02,\n  0.0,\n  1.0,\n  1.0,\n  0.16,\n  0.2,\n  0.18,\n  1.0,\n  0.64,\n  0.14,\n  0.13043478260869565,\n  0.72,\n  0.0,\n  0.44,\n  1.0,\n  0.0,\n  1.0])"
     },
     "execution_count": 3,
     "metadata": {},
     "output_type": "execute_result"
    }
   ],
   "source": [
    "from graphs_generator import get_score_by_query\n",
    "from checkpoint_manager_v3 import CheckpointManager\n",
    "\n",
    "greedy_sample = CheckpointManager.load('100-50-greedy_sample', 2)[0]\n",
    "get_score_by_query(greedy_sample, [*range(30)])"
   ],
   "metadata": {
    "collapsed": false
   }
  },
  {
   "cell_type": "code",
   "execution_count": 13,
   "outputs": [
    {
     "data": {
      "text/plain": "1000"
     },
     "execution_count": 13,
     "metadata": {},
     "output_type": "execute_result"
    }
   ],
   "source": [
    "from checkpoint_manager_v3 import CheckpointManager\n",
    "\n",
    "num_of_queries = len(CheckpointManager.load('results'))\n",
    "num_of_queries"
   ],
   "metadata": {
    "collapsed": false
   }
  },
  {
   "cell_type": "code",
   "execution_count": 1,
   "outputs": [],
   "source": [
    "import pandas as pd\n",
    "sum_lens = 0\n",
    "for year in range(2009, 2013):\n",
    "    csv_data = pd.read_csv(f'datasets/flights/{year}.csv', index_col=False, delimiter=',')\n",
    "    csv_data = csv_data[['FL_DATE', 'OP_CARRIER', 'OP_CARRIER_FL_NUM', 'ORIGIN', 'DEST', 'CRS_DEP_TIME', 'DEP_TIME', 'DEP_DELAY', 'TAXI_OUT', 'WHEELS_OFF', 'WHEELS_ON','TAXI_IN', 'CRS_ARR_TIME', 'ARR_TIME', 'ARR_DELAY', 'ARR_DELAY', 'CANCELLED', 'DIVERTED', 'CRS_ELAPSED_TIME', 'ACTUAL_ELAPSED_TIME', 'AIR_TIME', 'DISTANCE']]\n",
    "    csv_data.dropna(inplace=True)\n",
    "    sum_lens += len(csv_data.index)"
   ],
   "metadata": {
    "collapsed": false
   }
  },
  {
   "cell_type": "code",
   "execution_count": 2,
   "outputs": [
    {
     "data": {
      "text/plain": "24589952"
     },
     "execution_count": 2,
     "metadata": {},
     "output_type": "execute_result"
    }
   ],
   "source": [
    "sum_lens"
   ],
   "metadata": {
    "collapsed": false
   }
  },
  {
   "cell_type": "markdown",
   "source": [
    "## PLOTS TO COPY TO SERVER"
   ],
   "metadata": {
    "collapsed": false
   }
  },
  {
   "cell_type": "code",
   "execution_count": 3,
   "outputs": [
    {
     "name": "stdout",
     "output_type": "stream",
     "text": [
      "Saving checkpoint 100-50-greedy_sample.pkl to: [./checkpoints/5]\n"
     ]
    },
    {
     "name": "stderr",
     "output_type": "stream",
     "text": [
      "100%|██████████| 10/10 [00:00<00:00, 149.39it/s]\n"
     ]
    },
    {
     "name": "stdout",
     "output_type": "stream",
     "text": [
      "Saving checkpoint 100-50-random_sample.pkl to: [./checkpoints/5]\n"
     ]
    },
    {
     "name": "stderr",
     "output_type": "stream",
     "text": [
      "100%|██████████| 400/400 [00:02<00:00, 172.15it/s]\n",
      "100%|██████████| 100/100 [00:00<00:00, 6343.86it/s]\n"
     ]
    },
    {
     "name": "stdout",
     "output_type": "stream",
     "text": [
      "Saving checkpoint 100-50-mab_sample.pkl to: [./checkpoints/5]\n",
      "Saving checkpoint 500-50-greedy_sample.pkl to: [./checkpoints/5]\n"
     ]
    },
    {
     "name": "stderr",
     "output_type": "stream",
     "text": [
      "100%|██████████| 10/10 [00:00<00:00, 100.31it/s]\n"
     ]
    },
    {
     "name": "stdout",
     "output_type": "stream",
     "text": [
      "Saving checkpoint 500-50-random_sample.pkl to: [./checkpoints/5]\n"
     ]
    },
    {
     "name": "stderr",
     "output_type": "stream",
     "text": [
      "100%|██████████| 400/400 [00:02<00:00, 174.94it/s]\n",
      "100%|██████████| 500/500 [00:00<00:00, 30698.27it/s]\n"
     ]
    },
    {
     "name": "stdout",
     "output_type": "stream",
     "text": [
      "Saving checkpoint 500-50-mab_sample.pkl to: [./checkpoints/5]\n",
      "Saving checkpoint 1000-50-greedy_sample.pkl to: [./checkpoints/5]\n"
     ]
    },
    {
     "name": "stderr",
     "output_type": "stream",
     "text": [
      "100%|██████████| 10/10 [00:00<00:00, 96.25it/s]\n"
     ]
    },
    {
     "name": "stdout",
     "output_type": "stream",
     "text": [
      "Saving checkpoint 1000-50-random_sample.pkl to: [./checkpoints/5]\n"
     ]
    },
    {
     "name": "stderr",
     "output_type": "stream",
     "text": [
      "100%|██████████| 400/400 [00:02<00:00, 193.56it/s]\n",
      "100%|██████████| 1000/1000 [00:00<00:00, 63704.50it/s]\n"
     ]
    },
    {
     "name": "stdout",
     "output_type": "stream",
     "text": [
      "Saving checkpoint 1000-50-mab_sample.pkl to: [./checkpoints/5]\n",
      "Saving checkpoint 1500-50-greedy_sample.pkl to: [./checkpoints/5]\n"
     ]
    },
    {
     "name": "stderr",
     "output_type": "stream",
     "text": [
      "100%|██████████| 10/10 [00:00<00:00, 69.13it/s]\n"
     ]
    },
    {
     "name": "stdout",
     "output_type": "stream",
     "text": [
      "Saving checkpoint 1500-50-random_sample.pkl to: [./checkpoints/5]\n"
     ]
    },
    {
     "name": "stderr",
     "output_type": "stream",
     "text": [
      "100%|██████████| 400/400 [00:02<00:00, 190.53it/s]\n",
      "100%|██████████| 1500/1500 [00:00<00:00, 34961.27it/s]\n"
     ]
    },
    {
     "name": "stdout",
     "output_type": "stream",
     "text": [
      "Saving checkpoint 1500-50-mab_sample.pkl to: [./checkpoints/5]\n",
      "Saving checkpoint 2000-50-greedy_sample.pkl to: [./checkpoints/5]\n"
     ]
    },
    {
     "name": "stderr",
     "output_type": "stream",
     "text": [
      "100%|██████████| 10/10 [00:00<00:00, 55.10it/s]\n"
     ]
    },
    {
     "name": "stdout",
     "output_type": "stream",
     "text": [
      "Saving checkpoint 2000-50-random_sample.pkl to: [./checkpoints/5]\n"
     ]
    },
    {
     "name": "stderr",
     "output_type": "stream",
     "text": [
      "100%|██████████| 400/400 [00:02<00:00, 178.07it/s]\n",
      "100%|██████████| 2000/2000 [00:00<00:00, 38610.03it/s]\n"
     ]
    },
    {
     "name": "stdout",
     "output_type": "stream",
     "text": [
      "Saving checkpoint 2000-50-mab_sample.pkl to: [./checkpoints/5]\n",
      "Saving checkpoint 2500-50-greedy_sample.pkl to: [./checkpoints/5]\n"
     ]
    },
    {
     "name": "stderr",
     "output_type": "stream",
     "text": [
      "100%|██████████| 10/10 [00:00<00:00, 50.50it/s]\n"
     ]
    },
    {
     "name": "stdout",
     "output_type": "stream",
     "text": [
      "Saving checkpoint 2500-50-random_sample.pkl to: [./checkpoints/5]\n"
     ]
    },
    {
     "name": "stderr",
     "output_type": "stream",
     "text": [
      "100%|██████████| 400/400 [00:01<00:00, 201.67it/s]\n",
      "100%|██████████| 2500/2500 [00:00<00:00, 60626.40it/s]\n"
     ]
    },
    {
     "name": "stdout",
     "output_type": "stream",
     "text": [
      "Saving checkpoint 2500-50-mab_sample.pkl to: [./checkpoints/5]\n"
     ]
    },
    {
     "data": {
      "text/plain": "<Figure size 640x480 with 1 Axes>",
      "image/png": "[encoded data removed]"
     },
     "metadata": {},
     "output_type": "display_data"
    }
   ],
   "source": [
    "import matplotlib.pyplot as plt\n",
    "from config_manager_v3 import ConfigManager\n",
    "from graphs_generator import get_score_by_k\n",
    "\n",
    "\n",
    "view_size = ConfigManager.get_config('samplerConfig.viewSize')\n",
    "k_list = [100, 500, 1000, 1500, 2000, 2500]\n",
    "_, greedy_scores, random_scores, mab_scores = get_score_by_k(k_list, dist=False)\n",
    "\n",
    "plt.bar([p - 50 for p in k_list], random_scores, 50, label='random')\n",
    "plt.bar(k_list, greedy_scores, 50, label='greedy')\n",
    "plt.bar([p + 50 for p in k_list], mab_scores, 50, label='mab')\n",
    "plt.xlabel(\"k\")\n",
    "plt.ylabel(\"score\")\n",
    "plt.title(f\"New eval score for k=[{k_list[0]},...,{k_list[-1]}], view_size={view_size}\")\n",
    "plt.legend()\n",
    "plt.show()"
   ],
   "metadata": {
    "collapsed": false
   }
  },
  {
   "cell_type": "code",
   "execution_count": 1,
   "outputs": [],
   "source": [
    "import matplotlib.pyplot as plt\n",
    "from config_manager_v3 import ConfigManager\n",
    "from graphs_generator import get_score_by_k\n",
    "\n",
    "\n",
    "view_size = ConfigManager.get_config('samplerConfig.viewSize')\n",
    "k_list = [100, 500, 1000, 1500, 2000, 2500]\n",
    "_, greedy_scores, random_scores, mab_scores = get_score_by_k(k_list, dist=True)\n",
    "\n",
    "plt.bar([p - 50 for p in k_list], random_scores, 50, label='random')\n",
    "plt.bar(k_list, greedy_scores, 50, label='greedy')\n",
    "plt.bar([p + 50 for p in k_list], mab_scores, 50, label='mab')\n",
    "plt.xlabel(\"k\")\n",
    "plt.ylabel(\"score\")\n",
    "plt.title(f\"New eval score for k=[{k_list[0]},...,{k_list[-1]}], view_size={view_size}\")\n",
    "plt.legend()\n",
    "plt.show()"
   ],
   "metadata": {
    "collapsed": false
   }
  },
  {
   "cell_type": "code",
   "execution_count": 3,
   "outputs": [
    {
     "data": {
      "text/plain": "<Figure size 640x480 with 1 Axes>",
      "image/png": "[encoded data removed]"
     },
     "metadata": {},
     "output_type": "display_data"
    }
   ],
   "source": [
    "import matplotlib.pyplot as plt\n",
    "from config_manager_v3 import ConfigManager\n",
    "from checkpoint_manager_v3 import CheckpointManager\n",
    "\n",
    "CHECKPOINT_VER = 5\n",
    "view_size = ConfigManager.get_config('samplerConfig.viewSize')\n",
    "k_list = [100, 500, 1000, 1500, 2000, 2500]\n",
    "baselines = ['random', 'greedy', 'mab']\n",
    "scores = [[]] * len(baselines)\n",
    "for i in range(len(baselines)):\n",
    "    scores[i] = [CheckpointManager.load(f'{k}-{view_size}-{baselines[i]}_sample', CHECKPOINT_VER)[1] for k in k_list]\n",
    "\n",
    "plt.bar([p - 50 for p in k_list], scores[0], 50, label=baselines[0])\n",
    "plt.bar(k_list, scores[1], 50, label=baselines[1])\n",
    "plt.bar([p + 50 for p in k_list], scores[2], 50, label=baselines[2])\n",
    "plt.xlabel(\"k\")\n",
    "plt.ylabel(\"score\")\n",
    "plt.title(f\"Old eval score for k=[{k_list[0]},...,{k_list[-1]}], view_size={view_size}\")\n",
    "plt.legend()\n",
    "plt.show()"
   ],
   "metadata": {
    "collapsed": false
   }
  },
  {
   "cell_type": "code",
   "execution_count": 6,
   "outputs": [
    {
     "data": {
      "text/plain": "<Figure size 640x480 with 1 Axes>",
      "image/png": "[encoded data removed]"
     },
     "metadata": {},
     "output_type": "display_data"
    }
   ],
   "source": [
    "import matplotlib.pyplot as plt\n",
    "from config_manager_v3 import ConfigManager\n",
    "from checkpoint_manager_v3 import CheckpointManager\n",
    "import numpy as np\n",
    "\n",
    "FIRST_VER = 3\n",
    "SECOND_VER = 4\n",
    "\n",
    "view_size = ConfigManager.get_config('samplerConfig.viewSize')\n",
    "k_list = [100, 500, 1000, 1500, 2000, 2500]\n",
    "\n",
    "random_scores = np.array([CheckpointManager.load(f'{k}-{view_size}-random_sample', SECOND_VER)[1] for k in k_list])\n",
    "random_dist_scores = np.array([CheckpointManager.load(f'{k}-{view_size}-random_sample', FIRST_VER)[1] for k in k_list])\n",
    "\n",
    "plt.bar([p - 50 for p in k_list], random_scores, 50, label='new eval')\n",
    "plt.bar(k_list, random_dist_scores, 50, label='old_eval')\n",
    "plt.xlabel(\"k\")\n",
    "plt.ylabel(\"score\")\n",
    "plt.title(f\"random tuples sample, k=[{k_list[0]},...,{k_list[-1]}], view_size={view_size}\")\n",
    "plt.legend()\n",
    "plt.show()"
   ],
   "metadata": {
    "collapsed": false
   }
  },
  {
   "cell_type": "code",
   "execution_count": 1,
   "outputs": [
    {
     "name": "stdout",
     "output_type": "stream",
     "text": [
      "Connecting to the mysql database...\n",
      "Connected to localhost:datasets.\n"
     ]
    },
    {
     "name": "stderr",
     "output_type": "stream",
     "text": [
      "100%|██████████| 10/10 [00:01<00:00,  5.33it/s]\n"
     ]
    },
    {
     "data": {
      "text/plain": "0.24066349664659148"
     },
     "execution_count": 1,
     "metadata": {},
     "output_type": "execute_result"
    }
   ],
   "source": [
    "from checkpoint_manager_v3 import CheckpointManager\n",
    "from score_calculator import get_dist_score_for_test_queries\n",
    "\n",
    "sample = [0,1,2,3,4]\n",
    "test_queries = CheckpointManager.load('results')[:100]\n",
    "get_dist_score_for_test_queries(sample, results)"
   ],
   "metadata": {
    "collapsed": false
   }
  },
  {
   "cell_type": "code",
   "execution_count": 22,
   "outputs": [
    {
     "data": {
      "text/plain": "<Figure size 640x480 with 1 Axes>",
      "image/png": "[encoded data removed]"
     },
     "metadata": {},
     "output_type": "display_data"
    }
   ],
   "source": [
    "import matplotlib.pyplot as plt\n",
    "from config_manager_v3 import ConfigManager\n",
    "import numpy as np\n",
    "\n",
    "k = 100\n",
    "view_size = 50\n",
    "\n",
    "test_len = int(ConfigManager.get_config('samplerConfig.testSize') * num_of_queries)\n",
    "x = np.random.choice(test_len, 30, replace=False)\n",
    "\n",
    "greedy_sample = CheckpointManager.load(f'{k}-{view_size}-greedy_sample', 2)[0]\n",
    "greedy_scores = get_score_by_query(greedy_sample, x)[1]\n",
    "random_sample = CheckpointManager.load(f'{k}-{view_size}-random_sample', 2)[0]\n",
    "random_scores = get_score_by_query(random_sample, x)[1]\n",
    "\n",
    "plt.bar([p - 0.3 for p in range(len(x))], random_scores, 0.3, label='random')\n",
    "plt.bar(range(len(x)), greedy_scores, 0.3, label='greedy')\n",
    "plt.xlabel(\"Query num\")\n",
    "plt.ylabel(\"score\")\n",
    "plt.title(f\"Error for k={k}, view_size={view_size}\")\n",
    "plt.legend()\n",
    "plt.show()"
   ],
   "metadata": {
    "collapsed": false
   }
  }
 ],
 "metadata": {
  "kernelspec": {
   "display_name": "Python 3",
   "language": "python",
   "name": "python3"
  },
  "language_info": {
   "codemirror_mode": {
    "name": "ipython",
    "version": 2
   },
   "file_extension": ".py",
   "mimetype": "text/x-python",
   "name": "python",
   "nbconvert_exporter": "python",
   "pygments_lexer": "ipython2",
   "version": "2.7.6"
  }
 },
 "nbformat": 4,
 "nbformat_minor": 0
}
