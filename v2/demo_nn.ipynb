{
 "cells": [
  {
   "cell_type": "code",
   "execution_count": 1,
   "metadata": {
    "collapsed": true
   },
   "outputs": [
    {
     "data": {
      "text/plain": "\"SELECT _id FROM datasets.austin_bikes_1000 WHERE end_latitude BETWEEN 30.249181709840407 AND 30.27569798322769 AND end_longitude BETWEEN -97.76094979393284 AND -97.7237120116757 AND end_station_name IN ('Pfluger Bridge @ W 2nd Street' , 'State Capitol @ 14th & Colorado' , 'East 2nd & Pedernales' , 'South Congress & Elizabeth' , 'Lavaca & 6th' , 'Capitol Station / Congress & 11th' , 'City Hall / Lavaca & 2nd' , '2nd & Congress' , 'MoPac Pedestrian Bridge @ Veterans Drive' , '5th & San Marcos' , 'State Parking Garage @ Brazos & 18th' , 'ACC - West & 12th Street' , 'Boardwalk West' , 'Red River & 8th Street' , 'Davis at Rainey Street' , 'Zilker Park West' , '3rd & West' , 'Republic Square' , 'Waller & 6th St.' , '17th & Guadalupe' , 'Republic Square @ Federal Courthouse Plaza' , 'Capital Metro HQ - East 5th at Broadway' , 'East 4th & Chicon' , 'Toomey Rd @ South Lamar' , 'Guadalupe & 21st' , 'Rainey @ River St' , 'Palmer Auditorium' , 'South Congress & Academy' , 'San Jacinto & 8th Street' , 'East 11th St. & San Marcos' , 'Barton Springs @ Kinney Ave' , 'South Congress & Barton Springs at the Austin American-Statesman' , 'Convention Center / 3rd & Trinity' , 'East 11th St. at Victory Grill' , 'Guadalupe & 6th' , 'Pease Park' , 'Rainey St @ Cummings' , '11th & San Jacinto' , 'Sterzing at Barton Springs' , 'Brazos & 6th' , 'Zilker Park' , 'East 6th & Pedernales St.')\""
     },
     "execution_count": 1,
     "metadata": {},
     "output_type": "execute_result"
    }
   ],
   "source": [
    "import numpy as np\n",
    "import torch\n",
    "\n",
    "from checkpoint_manager_v2 import CheckpointManager\n",
    "\n",
    "queries = CheckpointManager.load('queries', 2)\n",
    "queries[-1]"
   ]
  },
  {
   "cell_type": "code",
   "execution_count": 2,
   "outputs": [
    {
     "name": "stdout",
     "output_type": "stream",
     "text": [
      "Starting dataset initialization\n"
     ]
    },
    {
     "name": "stderr",
     "output_type": "stream",
     "text": [
      "  0%|          | 11/12570 [00:00<02:02, 102.42it/s]"
     ]
    },
    {
     "name": "stdout",
     "output_type": "stream",
     "text": [
      "Connecting to the mysql database...\n",
      "Connected to localhost:datasets.\n"
     ]
    },
    {
     "name": "stderr",
     "output_type": "stream",
     "text": [
      "100%|██████████| 12570/12570 [00:36<00:00, 340.56it/s]\n"
     ]
    },
    {
     "name": "stdout",
     "output_type": "stream",
     "text": [
      "Elapsed time: 37.0121 seconds\n"
     ]
    }
   ],
   "source": [
    "from nn_sampler import RelationalDataset\n",
    "\n",
    "dataset = RelationalDataset(queries, [*range(0, 100)])"
   ],
   "metadata": {
    "collapsed": false
   }
  },
  {
   "cell_type": "code",
   "execution_count": 13,
   "outputs": [
    {
     "data": {
      "text/plain": "array([0, 2, 3, 0])"
     },
     "execution_count": 13,
     "metadata": {},
     "output_type": "execute_result"
    }
   ],
   "source": [
    "import numpy as np\n",
    "a = np.array([1,2,3,1])\n",
    "a_copy = np.copy(a)\n",
    "a_copy[np.where(a <= 1)] = 0.\n",
    "a_copy"
   ],
   "metadata": {
    "collapsed": false
   }
  },
  {
   "cell_type": "code",
   "execution_count": 20,
   "outputs": [
    {
     "data": {
      "text/plain": "array([2, 1, 0])"
     },
     "execution_count": 20,
     "metadata": {},
     "output_type": "execute_result"
    }
   ],
   "source": [
    "scores = np.array([2,4,0,3,1,5])\n",
    "k=3\n",
    "top_k_ind = np.argpartition(-scores, -k)[-k:]\n",
    "top_k_scores = scores[top_k_ind]\n",
    "top_k_scores"
   ],
   "metadata": {
    "collapsed": false
   }
  },
  {
   "cell_type": "code",
   "execution_count": 1,
   "outputs": [
    {
     "name": "stderr",
     "output_type": "stream",
     "text": [
      "GPU available: False, used: False\n",
      "TPU available: False, using: 0 TPU cores\n",
      "IPU available: False, using: 0 IPUs\n",
      "HPU available: False, using: 0 HPUs\n"
     ]
    },
    {
     "name": "stdout",
     "output_type": "stream",
     "text": [
      "Connecting to the mysql database...\n",
      "Connected to localhost:datasets.\n",
      "Saving checkpoint nn_sample_train_test.pkl to: [./checkpoints/3]\n",
      "Starting dataset initialization\n"
     ]
    },
    {
     "name": "stderr",
     "output_type": "stream",
     "text": [
      "100%|██████████| 100/100 [00:00<00:00, 264.72it/s]\n"
     ]
    },
    {
     "name": "stdout",
     "output_type": "stream",
     "text": [
      "Saving checkpoint results.pkl to: [./checkpoints/3]\n"
     ]
    },
    {
     "name": "stderr",
     "output_type": "stream",
     "text": [
      "\n",
      "  | Name  | Type       | Params\n",
      "-------------------------------------\n",
      "0 | model | Sequential | 45    \n",
      "-------------------------------------\n",
      "45        Trainable params\n",
      "0         Non-trainable params\n",
      "45        Total params\n",
      "0.000     Total estimated model params size (MB)\n"
     ]
    },
    {
     "name": "stdout",
     "output_type": "stream",
     "text": [
      "Elapsed time: 2.8038 seconds\n"
     ]
    },
    {
     "data": {
      "text/plain": "Training: 0it [00:00, ?it/s]",
      "application/vnd.jupyter.widget-view+json": {
       "version_major": 2,
       "version_minor": 0,
       "model_id": "6089dc3759d547119b62f2479d5088d7"
      }
     },
     "metadata": {},
     "output_type": "display_data"
    },
    {
     "name": "stderr",
     "output_type": "stream",
     "text": [
      "`Trainer.fit` stopped: `max_epochs=1` reached.\n"
     ]
    }
   ],
   "source": [
    "from checkpoint_manager_v2 import CheckpointManager\n",
    "from nn_sampler import NNSampler\n",
    "\n",
    "queries = CheckpointManager.load('queries', 3)\n",
    "# results = CheckpointManager.load('results', 3, numpy=True)\n",
    "nn_sampler = NNSampler(queries, None)\n",
    "nn_sampler.fit()"
   ],
   "metadata": {
    "collapsed": false
   }
  },
  {
   "cell_type": "code",
   "execution_count": 1,
   "outputs": [
    {
     "name": "stderr",
     "output_type": "stream",
     "text": [
      "GPU available: False, used: False\n",
      "TPU available: False, using: 0 TPU cores\n",
      "IPU available: False, using: 0 IPUs\n",
      "HPU available: False, using: 0 HPUs\n"
     ]
    },
    {
     "name": "stdout",
     "output_type": "stream",
     "text": [
      "Connecting to the mysql database...\n",
      "Connected to localhost:datasets.\n"
     ]
    }
   ],
   "source": [
    "from checkpoint_manager_v2 import CheckpointManager\n",
    "from nn_sampler import NNSampler\n",
    "\n",
    "queries = CheckpointManager.load('queries', 3)\n",
    "results = CheckpointManager.load('results', 3)\n",
    "nn_sampler2 = NNSampler(queries, results, checkpoint_path='./checkpoints/3/nn_sample_model.ckpt')"
   ],
   "metadata": {
    "collapsed": false
   }
  },
  {
   "cell_type": "code",
   "execution_count": 2,
   "outputs": [
    {
     "name": "stdout",
     "output_type": "stream",
     "text": [
      "Starting dataset initialization\n",
      "Elapsed time: 0.3544 seconds\n"
     ]
    },
    {
     "data": {
      "text/plain": "0.17"
     },
     "execution_count": 2,
     "metadata": {},
     "output_type": "execute_result"
    }
   ],
   "source": [
    "from checkpoint_manager_v2 import CheckpointManager\n",
    "\n",
    "test_ids = CheckpointManager.load('nn_sample_train_test', 3)[1]\n",
    "ids, losses = nn_sampler2.get_test_error(test_ids, 100)\n",
    "sum(losses) / len(losses)"
   ],
   "metadata": {
    "collapsed": false
   }
  },
  {
   "cell_type": "code",
   "execution_count": 3,
   "outputs": [
    {
     "name": "stderr",
     "output_type": "stream",
     "text": [
      "100%|██████████| 100/100 [00:01<00:00, 67.26it/s]"
     ]
    },
    {
     "name": "stdout",
     "output_type": "stream",
     "text": [
      "Saving checkpoint nn_sample.pkl to: [./checkpoints/3]\n"
     ]
    },
    {
     "name": "stderr",
     "output_type": "stream",
     "text": [
      "\n"
     ]
    },
    {
     "data": {
      "text/plain": "array([ 83, 167, 689, 606, 514, 416, 424, 664, 194, 461])"
     },
     "execution_count": 3,
     "metadata": {},
     "output_type": "execute_result"
    }
   ],
   "source": [
    "nn_sampler2.get_sample(10)"
   ],
   "metadata": {
    "collapsed": false
   }
  },
  {
   "cell_type": "code",
   "execution_count": 10,
   "outputs": [
    {
     "data": {
      "text/plain": "3"
     },
     "execution_count": 10,
     "metadata": {},
     "output_type": "execute_result"
    }
   ],
   "source": [
    "import numpy as np\n",
    "\n",
    "np.argmin(np.array([2,1,1,0,0]))"
   ],
   "metadata": {
    "collapsed": false
   }
  },
  {
   "cell_type": "code",
   "execution_count": 14,
   "outputs": [
    {
     "data": {
      "text/plain": "array([[0.        , 0.4367599 , 0.45355706, ..., 0.43876847, 0.48539486,\n        0.47708749],\n       [0.4367599 , 0.        , 0.45169225, ..., 0.42265785, 0.47914486,\n        0.46151231],\n       [0.45355706, 0.45169225, 0.        , ..., 0.45346558, 0.46775743,\n        0.44658276],\n       ...,\n       [0.43876847, 0.42265785, 0.45346558, ..., 0.        , 0.48448928,\n        0.47498787],\n       [0.48539486, 0.47914486, 0.46775743, ..., 0.48448928, 0.        ,\n        0.45218615],\n       [0.47708749, 0.46151231, 0.44658276, ..., 0.47498787, 0.45218615,\n        0.        ]])"
     },
     "execution_count": 14,
     "metadata": {},
     "output_type": "execute_result"
    }
   ],
   "source": [
    "import numpy as np\n",
    "from scipy.spatial.distance import squareform\n",
    "\n",
    "data = np.load('./checkpoints/3/triu_distance_matrix.npz')\n",
    "key = [*data.keys()][0]\n",
    "dist_matrix = squareform(data[key])\n",
    "dist_matrix"
   ],
   "metadata": {
    "collapsed": false
   }
  },
  {
   "cell_type": "code",
   "execution_count": 19,
   "outputs": [
    {
     "data": {
      "text/plain": "array([0.        , 0.4367599 , 0.43037398, 0.        , 0.        ,\n       0.        , 0.52722875, 0.46168968, 0.45129201, 0.43799195])"
     },
     "execution_count": 19,
     "metadata": {},
     "output_type": "execute_result"
    }
   ],
   "source": [
    "np.min(dist_matrix[[0,1,2,3,4,5,6,7,8,9],:][:,[0,3,4,5]], axis=1)"
   ],
   "metadata": {
    "collapsed": false
   }
  }
 ],
 "metadata": {
  "kernelspec": {
   "display_name": "Python 3",
   "language": "python",
   "name": "python3"
  },
  "language_info": {
   "codemirror_mode": {
    "name": "ipython",
    "version": 2
   },
   "file_extension": ".py",
   "mimetype": "text/x-python",
   "name": "python",
   "nbconvert_exporter": "python",
   "pygments_lexer": "ipython2",
   "version": "2.7.6"
  }
 },
 "nbformat": 4,
 "nbformat_minor": 0
}
