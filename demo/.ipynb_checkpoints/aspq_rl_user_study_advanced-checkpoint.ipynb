{
 "cells": [
  {
   "cell_type": "code",
   "execution_count": 1,
   "id": "0c5b0360",
   "metadata": {},
   "outputs": [],
   "source": [
    "%load_ext autoreload\n",
    "%autoreload 2"
   ]
  },
  {
   "cell_type": "code",
   "execution_count": 2,
   "id": "cba5f2bb",
   "metadata": {},
   "outputs": [],
   "source": [
    "from asqp_rl_demo import *\n",
    "import pandas as pd\n",
    "import mysql.connector"
   ]
  },
  {
   "cell_type": "markdown",
   "id": "68a4f6ff",
   "metadata": {},
   "source": [
    "# Explanation"
   ]
  },
  {
   "cell_type": "markdown",
   "id": "6f5e6d61",
   "metadata": {},
   "source": [
    "ASQP-RL is a novel algorithm to curates subsets of large tabular datasets using Reinforcement Learning. The following is a user study meant to test the quality of the system with user feedback.\n",
    "In order to test the system you will be presented with a subset and a data exploration task.\n",
    "We will ask you to try and execute the task and note down your observations"
   ]
  },
  {
   "cell_type": "markdown",
   "id": "cde707a2",
   "metadata": {},
   "source": [
    "## Exploration Task"
   ]
  },
  {
   "cell_type": "markdown",
   "id": "aa06447f",
   "metadata": {},
   "source": [
    "### 1) Is there a connection between the country of the companies participating in production (i.e. company type equals \"production companies\") and the amount and length of tv-series the company produces?\n",
    "\n",
    "### 2) Is there a connection between the country of the companies participating in production (i.e. not distribution) of a movie and the size of it's cast"
   ]
  },
  {
   "cell_type": "code",
   "execution_count": 3,
   "id": "1d570465",
   "metadata": {},
   "outputs": [
    {
     "name": "stdout",
     "output_type": "stream",
     "text": [
      "Connected to MySQL server\n"
     ]
    },
    {
     "data": {
      "text/html": [
       "<div>\n",
       "<style scoped>\n",
       "    .dataframe tbody tr th:only-of-type {\n",
       "        vertical-align: middle;\n",
       "    }\n",
       "\n",
       "    .dataframe tbody tr th {\n",
       "        vertical-align: top;\n",
       "    }\n",
       "\n",
       "    .dataframe thead th {\n",
       "        text-align: right;\n",
       "    }\n",
       "</style>\n",
       "<table border=\"1\" class=\"dataframe\">\n",
       "  <thead>\n",
       "    <tr style=\"text-align: right;\">\n",
       "      <th></th>\n",
       "      <th>id</th>\n",
       "      <th>title</th>\n",
       "      <th>imdb_index</th>\n",
       "      <th>kind_id</th>\n",
       "      <th>production_year</th>\n",
       "      <th>imdb_id</th>\n",
       "      <th>phonetic_code</th>\n",
       "      <th>episode_of_id</th>\n",
       "      <th>season_nr</th>\n",
       "      <th>episode_nr</th>\n",
       "      <th>series_years</th>\n",
       "      <th>md5sum</th>\n",
       "    </tr>\n",
       "  </thead>\n",
       "  <tbody>\n",
       "    <tr>\n",
       "      <th>0</th>\n",
       "      <td>1</td>\n",
       "      <td>!Next?</td>\n",
       "      <td>None</td>\n",
       "      <td>2</td>\n",
       "      <td>1994</td>\n",
       "      <td>None</td>\n",
       "      <td>N23</td>\n",
       "      <td>NaN</td>\n",
       "      <td>NaN</td>\n",
       "      <td>NaN</td>\n",
       "      <td>1994-1995</td>\n",
       "      <td>5bf0e2f53291d5e2ca195ccab0a84fef</td>\n",
       "    </tr>\n",
       "    <tr>\n",
       "      <th>1</th>\n",
       "      <td>2</td>\n",
       "      <td>#1 Single</td>\n",
       "      <td>None</td>\n",
       "      <td>2</td>\n",
       "      <td>2006</td>\n",
       "      <td>None</td>\n",
       "      <td>S524</td>\n",
       "      <td>NaN</td>\n",
       "      <td>NaN</td>\n",
       "      <td>NaN</td>\n",
       "      <td>2006-????</td>\n",
       "      <td>e424d95c3d5c10fe98eb923a9b05d8da</td>\n",
       "    </tr>\n",
       "    <tr>\n",
       "      <th>2</th>\n",
       "      <td>3</td>\n",
       "      <td>Cats and Dogs</td>\n",
       "      <td>None</td>\n",
       "      <td>7</td>\n",
       "      <td>2006</td>\n",
       "      <td>None</td>\n",
       "      <td>C3253</td>\n",
       "      <td>2.0</td>\n",
       "      <td>1.0</td>\n",
       "      <td>4.0</td>\n",
       "      <td>None</td>\n",
       "      <td>d7f3456f4a38f29526130daca17b160d</td>\n",
       "    </tr>\n",
       "    <tr>\n",
       "      <th>3</th>\n",
       "      <td>4</td>\n",
       "      <td>Finishing a Chapter</td>\n",
       "      <td>None</td>\n",
       "      <td>7</td>\n",
       "      <td>2006</td>\n",
       "      <td>None</td>\n",
       "      <td>F5252</td>\n",
       "      <td>2.0</td>\n",
       "      <td>1.0</td>\n",
       "      <td>5.0</td>\n",
       "      <td>None</td>\n",
       "      <td>dc87e86961515d65e153dc66ff370a72</td>\n",
       "    </tr>\n",
       "    <tr>\n",
       "      <th>4</th>\n",
       "      <td>5</td>\n",
       "      <td>Is the Grass Greener?</td>\n",
       "      <td>None</td>\n",
       "      <td>7</td>\n",
       "      <td>2006</td>\n",
       "      <td>None</td>\n",
       "      <td>I2326</td>\n",
       "      <td>2.0</td>\n",
       "      <td>1.0</td>\n",
       "      <td>1.0</td>\n",
       "      <td>None</td>\n",
       "      <td>b3c333d2703c083194a3a8c7704508d9</td>\n",
       "    </tr>\n",
       "  </tbody>\n",
       "</table>\n",
       "</div>"
      ],
      "text/plain": [
       "   id                  title imdb_index  kind_id  production_year imdb_id  \\\n",
       "0   1                 !Next?       None        2             1994    None   \n",
       "1   2              #1 Single       None        2             2006    None   \n",
       "2   3          Cats and Dogs       None        7             2006    None   \n",
       "3   4    Finishing a Chapter       None        7             2006    None   \n",
       "4   5  Is the Grass Greener?       None        7             2006    None   \n",
       "\n",
       "  phonetic_code  episode_of_id  season_nr  episode_nr series_years  \\\n",
       "0           N23            NaN        NaN         NaN    1994-1995   \n",
       "1          S524            NaN        NaN         NaN    2006-????   \n",
       "2         C3253            2.0        1.0         4.0         None   \n",
       "3         F5252            2.0        1.0         5.0         None   \n",
       "4         I2326            2.0        1.0         1.0         None   \n",
       "\n",
       "                             md5sum  \n",
       "0  5bf0e2f53291d5e2ca195ccab0a84fef  \n",
       "1  e424d95c3d5c10fe98eb923a9b05d8da  \n",
       "2  d7f3456f4a38f29526130daca17b160d  \n",
       "3  dc87e86961515d65e153dc66ff370a72  \n",
       "4  b3c333d2703c083194a3a8c7704508d9  "
      ]
     },
     "execution_count": 3,
     "metadata": {},
     "output_type": "execute_result"
    }
   ],
   "source": [
    "try:\n",
    "    connection = mysql.connector.connect(\n",
    "        host=\"localhost\",\n",
    "        user=\"root\",\n",
    "        password=\"root\",\n",
    "        database=\"new_imdb2\"\n",
    "    )\n",
    "    if connection.is_connected():\n",
    "        print(\"Connected to MySQL server\")\n",
    "except mysql.connector.Error as e:\n",
    "    print(f\"Error connecting to MySQL server: {e}\")\n",
    "    \n",
    "# Execute queries\n",
    "def execute_query(query):\n",
    "    try:\n",
    "        cursor = connection.cursor()\n",
    "        cursor.execute(query)\n",
    "        results = cursor.fetchall()\n",
    "        if results:\n",
    "            df = pd.DataFrame(results, columns=[i[0] for i in cursor.description])\n",
    "            return df\n",
    "        else:\n",
    "            return None\n",
    "    except mysql.connector.Error as e:\n",
    "        print(f\"Error executing query: {e}\")\n",
    "\n",
    "        \n",
    "# Example query\n",
    "res = execute_query(\"SELECT * FROM title LIMIT 5\")\n",
    "res\n"
   ]
  },
  {
   "cell_type": "code",
   "execution_count": 6,
   "id": "d387e85b",
   "metadata": {},
   "outputs": [],
   "source": [
    "# Close the connection\n",
    "connection.close()"
   ]
  }
 ],
 "metadata": {
  "kernelspec": {
   "display_name": "Python 3 (ipykernel)",
   "language": "python",
   "name": "python3"
  },
  "language_info": {
   "codemirror_mode": {
    "name": "ipython",
    "version": 3
   },
   "file_extension": ".py",
   "mimetype": "text/x-python",
   "name": "python",
   "nbconvert_exporter": "python",
   "pygments_lexer": "ipython3",
   "version": "3.10.6"
  }
 },
 "nbformat": 4,
 "nbformat_minor": 5
}
